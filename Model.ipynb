{
 "cells": [
  {
   "cell_type": "code",
   "execution_count": 308,
   "metadata": {},
   "outputs": [],
   "source": [
    "import pandas as pd\n",
    "import matplotlib.pyplot as plt\n",
    "import numpy as np\n",
    "\n",
    "from sklearn.model_selection import train_test_split\n",
    "from sklearn.pipeline import Pipeline, make_pipeline\n",
    "from sklearn.model_selection import GridSearchCV\n",
    "from sklearn.impute import SimpleImputer\n",
    "from sklearn.preprocessing import StandardScaler, MinMaxScaler, OneHotEncoder, LabelEncoder, OrdinalEncoder\n",
    "from sklearn.compose import ColumnTransformer\n",
    "from sklearn.linear_model import LinearRegression\n",
    "from time import time\n",
    "from sklearn.dummy import DummyRegressor\n",
    "from sklearn.linear_model import LinearRegression\n",
    "from sklearn.neighbors import KNeighborsRegressor\n",
    "from sklearn.tree import DecisionTreeRegressor\n",
    "from sklearn.ensemble import RandomForestRegressor, GradientBoostingRegressor\n",
    "from xgboost import XGBRegressor\n",
    "from xgboost import plot_importance\n",
    "from lightgbm import LGBMRegressor\n",
    "\n",
    "from sklearn.model_selection import KFold, cross_val_score\n",
    "import plotly.express as px\n",
    "import shap"
   ]
  },
  {
   "cell_type": "code",
   "execution_count": 636,
   "metadata": {},
   "outputs": [
    {
     "name": "stderr",
     "output_type": "stream",
     "text": [
      "\n",
      "A value is trying to be set on a copy of a slice from a DataFrame\n",
      "\n",
      "See the caveats in the documentation: https://pandas.pydata.org/pandas-docs/stable/user_guide/indexing.html#returning-a-view-versus-a-copy\n"
     ]
    }
   ],
   "source": [
    "#load the dataset\n",
    "df = pd.read_csv('USA_cars_datasets.csv')\n",
    "\n",
    "\n",
    "\n",
    "#drop vin dupliactes\n",
    "aux = df['vin'].value_counts()\n",
    "df = df[ df['vin'].apply( lambda x : x in  list(aux[aux==1].index)  )].sort_values('vin')\n",
    "\n",
    "# Transform condition in a numeric feature\n",
    "df['# condition'] =df.condition.apply(lambda x : int(x.split()[0] if x != 'Listing Expired' else -1 ) )\n",
    "df['mesure unit condition'] =df.condition.apply(lambda x : x.split()[1] ) \n",
    "\n",
    "df['condition hours'] = -1\n",
    "df['condition hours'][df['mesure unit condition'] =='minutes'] =  \\\n",
    "    df['# condition'][df['mesure unit condition'] =='minutes'] /60\n",
    "\n",
    "df['condition hours'][df['mesure unit condition'] =='hours'] =  \\\n",
    "    df['# condition'][df['mesure unit condition'] =='hours'] \n",
    "\n",
    "df['condition hours'][df['mesure unit condition'] =='days'] =  \\\n",
    "    df['# condition'][df['mesure unit condition'] =='days'] *24\n",
    "\n",
    "\n",
    "#remove record with a price less  100$ \n",
    "df = df[df.price >100]\n",
    "\n",
    "\n",
    "#define X and y\n",
    "\n",
    "X = df[['brand', 'model', 'year', 'title_status',\n",
    "       'mileage', 'color', 'state',  'condition hours']] \n",
    "y = df['price']\n",
    "\n",
    "\n",
    "\n",
    "num_feat = X.select_dtypes(include=np.number).columns\n",
    "cat_feat = X.select_dtypes(include=['object']).columns\n",
    "\n",
    "\n",
    "X_train, X_test, y_train, y_test = train_test_split(X, y, test_size=0.2, random_state=0)"
   ]
  },
  {
   "cell_type": "code",
   "execution_count": 637,
   "metadata": {},
   "outputs": [],
   "source": [
    "\n",
    "numeric_transformer = Pipeline(steps=[\n",
    "    ('imputer', SimpleImputer(strategy='median')),\n",
    "    ('scaler', StandardScaler()) #('scaler', MinMaxScaler())\n",
    "])\n",
    "\n",
    "categorical_transformer = Pipeline(steps=[\n",
    "    ('imputer', SimpleImputer(strategy='constant', fill_value='missing')),\n",
    "    ('one_hot', OneHotEncoder(handle_unknown='ignore', sparse = False))\n",
    "])\n",
    "\n",
    "\n",
    "\n",
    "preprocessor = ColumnTransformer(\n",
    "    transformers=[\n",
    "        ('num', numeric_transformer, num_feat),\n",
    "        ('cat', categorical_transformer, cat_feat)\n",
    "    ])"
   ]
  },
  {
   "cell_type": "code",
   "execution_count": 638,
   "metadata": {},
   "outputs": [
    {
     "name": "stdout",
     "output_type": "stream",
     "text": [
      "Analyzed DummyRegressor.\n",
      "Analyzed LinearRegression.\n",
      "Analyzed KNeighborsRegressor.\n",
      "Analyzed DecisionTreeRegressor.\n",
      "Analyzed RandomForestRegressor.\n",
      "Analyzed GradientBoostingRegressor.\n",
      "Analyzed XGBRegressor.\n",
      "Analyzed LGBMRegressor.\n",
      "Done!\n"
     ]
    }
   ],
   "source": [
    "results = pd.DataFrame(columns=['Name', 'Scores', 'StdDev', 'Time(s)'])\n",
    "\n",
    "kfold = KFold(n_splits=10)\n",
    "\n",
    "for model in [\n",
    "    DummyRegressor,\n",
    "    LinearRegression, \n",
    "    KNeighborsRegressor,\n",
    "    DecisionTreeRegressor,\n",
    "    RandomForestRegressor, \n",
    "    GradientBoostingRegressor,\n",
    "    XGBRegressor,\n",
    "    LGBMRegressor]:\n",
    "    \n",
    "    pipe = make_pipeline(preprocessor, model())\n",
    "    start_time = time()\n",
    "    \n",
    "    scores = cross_val_score(pipe, X_train, \n",
    "                             y_train, scoring='r2', cv=kfold)\n",
    "    time_mod = time() - start_time\n",
    "    results = results.append({\n",
    "        'Name' : model.__name__, \n",
    "        'Scores' : round(scores.mean(), 2), \n",
    "        'StdDev' : round(scores.std(), 2), \n",
    "        'Time(s)': round(time_mod, 2)\n",
    "    }, ignore_index=True)\n",
    "    del pipe\n",
    "    print('Analyzed {}.'.format(model.__name__))\n",
    "print('Done!')\n",
    "results = results.sort_values('Scores', ascending=False)"
   ]
  },
  {
   "cell_type": "code",
   "execution_count": 639,
   "metadata": {},
   "outputs": [
    {
     "data": {
      "text/html": [
       "<div>\n",
       "<style scoped>\n",
       "    .dataframe tbody tr th:only-of-type {\n",
       "        vertical-align: middle;\n",
       "    }\n",
       "\n",
       "    .dataframe tbody tr th {\n",
       "        vertical-align: top;\n",
       "    }\n",
       "\n",
       "    .dataframe thead th {\n",
       "        text-align: right;\n",
       "    }\n",
       "</style>\n",
       "<table border=\"1\" class=\"dataframe\">\n",
       "  <thead>\n",
       "    <tr style=\"text-align: right;\">\n",
       "      <th></th>\n",
       "      <th>Name</th>\n",
       "      <th>Scores</th>\n",
       "      <th>StdDev</th>\n",
       "      <th>Time(s)</th>\n",
       "    </tr>\n",
       "  </thead>\n",
       "  <tbody>\n",
       "    <tr>\n",
       "      <th>6</th>\n",
       "      <td>XGBRegressor</td>\n",
       "      <td>6.900000e-01</td>\n",
       "      <td>4.000000e-02</td>\n",
       "      <td>6.62</td>\n",
       "    </tr>\n",
       "    <tr>\n",
       "      <th>4</th>\n",
       "      <td>RandomForestRegressor</td>\n",
       "      <td>6.700000e-01</td>\n",
       "      <td>5.000000e-02</td>\n",
       "      <td>15.88</td>\n",
       "    </tr>\n",
       "    <tr>\n",
       "      <th>7</th>\n",
       "      <td>LGBMRegressor</td>\n",
       "      <td>6.300000e-01</td>\n",
       "      <td>6.000000e-02</td>\n",
       "      <td>0.88</td>\n",
       "    </tr>\n",
       "    <tr>\n",
       "      <th>5</th>\n",
       "      <td>GradientBoostingRegressor</td>\n",
       "      <td>6.100000e-01</td>\n",
       "      <td>6.000000e-02</td>\n",
       "      <td>5.03</td>\n",
       "    </tr>\n",
       "    <tr>\n",
       "      <th>2</th>\n",
       "      <td>KNeighborsRegressor</td>\n",
       "      <td>5.900000e-01</td>\n",
       "      <td>5.000000e-02</td>\n",
       "      <td>0.60</td>\n",
       "    </tr>\n",
       "    <tr>\n",
       "      <th>3</th>\n",
       "      <td>DecisionTreeRegressor</td>\n",
       "      <td>4.100000e-01</td>\n",
       "      <td>1.300000e-01</td>\n",
       "      <td>0.64</td>\n",
       "    </tr>\n",
       "    <tr>\n",
       "      <th>0</th>\n",
       "      <td>DummyRegressor</td>\n",
       "      <td>-0.000000e+00</td>\n",
       "      <td>0.000000e+00</td>\n",
       "      <td>0.25</td>\n",
       "    </tr>\n",
       "    <tr>\n",
       "      <th>1</th>\n",
       "      <td>LinearRegression</td>\n",
       "      <td>-3.856534e+20</td>\n",
       "      <td>5.497865e+20</td>\n",
       "      <td>1.24</td>\n",
       "    </tr>\n",
       "  </tbody>\n",
       "</table>\n",
       "</div>"
      ],
      "text/plain": [
       "                        Name        Scores        StdDev  Time(s)\n",
       "6               XGBRegressor  6.900000e-01  4.000000e-02     6.62\n",
       "4      RandomForestRegressor  6.700000e-01  5.000000e-02    15.88\n",
       "7              LGBMRegressor  6.300000e-01  6.000000e-02     0.88\n",
       "5  GradientBoostingRegressor  6.100000e-01  6.000000e-02     5.03\n",
       "2        KNeighborsRegressor  5.900000e-01  5.000000e-02     0.60\n",
       "3      DecisionTreeRegressor  4.100000e-01  1.300000e-01     0.64\n",
       "0             DummyRegressor -0.000000e+00  0.000000e+00     0.25\n",
       "1           LinearRegression -3.856534e+20  5.497865e+20     1.24"
      ]
     },
     "execution_count": 639,
     "metadata": {},
     "output_type": "execute_result"
    }
   ],
   "source": [
    "results"
   ]
  },
  {
   "cell_type": "markdown",
   "metadata": {},
   "source": [
    "The XGBRegressor is the best model. Let go deeper"
   ]
  },
  {
   "cell_type": "code",
   "execution_count": 640,
   "metadata": {},
   "outputs": [
    {
     "data": {
      "text/plain": [
       "Pipeline(steps=[('columntransformer',\n",
       "                 ColumnTransformer(transformers=[('num',\n",
       "                                                  Pipeline(steps=[('imputer',\n",
       "                                                                   SimpleImputer(strategy='median')),\n",
       "                                                                  ('scaler',\n",
       "                                                                   StandardScaler())]),\n",
       "                                                  Index(['year', 'mileage', 'condition hours'], dtype='object')),\n",
       "                                                 ('cat',\n",
       "                                                  Pipeline(steps=[('imputer',\n",
       "                                                                   SimpleImputer(fill_value='missing',\n",
       "                                                                                 strategy='constant')),\n",
       "                                                                  ('one_hot',\n",
       "                                                                   OneHotEncoder(handle_u...\n",
       "                              gamma=0, gpu_id=-1, importance_type=None,\n",
       "                              interaction_constraints='',\n",
       "                              learning_rate=0.300000012, max_delta_step=0,\n",
       "                              max_depth=8, min_child_weight=1, missing=nan,\n",
       "                              monotone_constraints='()', n_estimators=100,\n",
       "                              n_jobs=8, num_parallel_tree=1, predictor='auto',\n",
       "                              random_state=0, reg_alpha=0, reg_lambda=1,\n",
       "                              scale_pos_weight=1, subsample=0.75,\n",
       "                              tree_method='exact', validate_parameters=1,\n",
       "                              verbosity=None))])"
      ]
     },
     "execution_count": 640,
     "metadata": {},
     "output_type": "execute_result"
    }
   ],
   "source": [
    "pipe_xgboost = make_pipeline(preprocessor, XGBRegressor()) \n",
    "\n",
    "parameters = {\n",
    "       \"xgbregressor__max_depth\":[4,6,8] , \n",
    "       'xgbregressor__subsample' : [0.5, 0.75, 1],    \n",
    "}\n",
    "\n",
    "grid = GridSearchCV(pipe_xgboost, parameters)\n",
    "grid.fit(X_train, y_train)\n",
    "\n",
    "beast_model = grid.best_estimator_\n",
    "beast_model.fit(X_train, y_train)"
   ]
  },
  {
   "cell_type": "code",
   "execution_count": 641,
   "metadata": {},
   "outputs": [
    {
     "data": {
      "text/html": [
       "<div>\n",
       "<style scoped>\n",
       "    .dataframe tbody tr th:only-of-type {\n",
       "        vertical-align: middle;\n",
       "    }\n",
       "\n",
       "    .dataframe tbody tr th {\n",
       "        vertical-align: top;\n",
       "    }\n",
       "\n",
       "    .dataframe thead th {\n",
       "        text-align: right;\n",
       "    }\n",
       "</style>\n",
       "<table border=\"1\" class=\"dataframe\">\n",
       "  <thead>\n",
       "    <tr style=\"text-align: right;\">\n",
       "      <th></th>\n",
       "      <th>mean_fit_time</th>\n",
       "      <th>std_fit_time</th>\n",
       "      <th>mean_score_time</th>\n",
       "      <th>std_score_time</th>\n",
       "      <th>param_xgbregressor__max_depth</th>\n",
       "      <th>param_xgbregressor__subsample</th>\n",
       "      <th>params</th>\n",
       "      <th>split0_test_score</th>\n",
       "      <th>split1_test_score</th>\n",
       "      <th>split2_test_score</th>\n",
       "      <th>split3_test_score</th>\n",
       "      <th>split4_test_score</th>\n",
       "      <th>mean_test_score</th>\n",
       "      <th>std_test_score</th>\n",
       "      <th>rank_test_score</th>\n",
       "    </tr>\n",
       "  </thead>\n",
       "  <tbody>\n",
       "    <tr>\n",
       "      <th>0</th>\n",
       "      <td>0.561721</td>\n",
       "      <td>0.045837</td>\n",
       "      <td>0.010144</td>\n",
       "      <td>0.000512</td>\n",
       "      <td>4</td>\n",
       "      <td>0.5</td>\n",
       "      <td>{'xgbregressor__max_depth': 4, 'xgbregressor__...</td>\n",
       "      <td>0.687665</td>\n",
       "      <td>0.653408</td>\n",
       "      <td>0.625249</td>\n",
       "      <td>0.638368</td>\n",
       "      <td>0.713736</td>\n",
       "      <td>0.663685</td>\n",
       "      <td>0.032570</td>\n",
       "      <td>7</td>\n",
       "    </tr>\n",
       "    <tr>\n",
       "      <th>1</th>\n",
       "      <td>0.517721</td>\n",
       "      <td>0.009095</td>\n",
       "      <td>0.009549</td>\n",
       "      <td>0.000168</td>\n",
       "      <td>4</td>\n",
       "      <td>0.75</td>\n",
       "      <td>{'xgbregressor__max_depth': 4, 'xgbregressor__...</td>\n",
       "      <td>0.671144</td>\n",
       "      <td>0.707113</td>\n",
       "      <td>0.627503</td>\n",
       "      <td>0.676359</td>\n",
       "      <td>0.742621</td>\n",
       "      <td>0.684948</td>\n",
       "      <td>0.038423</td>\n",
       "      <td>2</td>\n",
       "    </tr>\n",
       "    <tr>\n",
       "      <th>2</th>\n",
       "      <td>0.496851</td>\n",
       "      <td>0.012108</td>\n",
       "      <td>0.009537</td>\n",
       "      <td>0.000111</td>\n",
       "      <td>4</td>\n",
       "      <td>1</td>\n",
       "      <td>{'xgbregressor__max_depth': 4, 'xgbregressor__...</td>\n",
       "      <td>0.692790</td>\n",
       "      <td>0.668275</td>\n",
       "      <td>0.648914</td>\n",
       "      <td>0.670272</td>\n",
       "      <td>0.729458</td>\n",
       "      <td>0.681942</td>\n",
       "      <td>0.027529</td>\n",
       "      <td>4</td>\n",
       "    </tr>\n",
       "    <tr>\n",
       "      <th>3</th>\n",
       "      <td>0.639763</td>\n",
       "      <td>0.005312</td>\n",
       "      <td>0.010015</td>\n",
       "      <td>0.000351</td>\n",
       "      <td>6</td>\n",
       "      <td>0.5</td>\n",
       "      <td>{'xgbregressor__max_depth': 6, 'xgbregressor__...</td>\n",
       "      <td>0.642054</td>\n",
       "      <td>0.679078</td>\n",
       "      <td>0.595720</td>\n",
       "      <td>0.668899</td>\n",
       "      <td>0.715123</td>\n",
       "      <td>0.660175</td>\n",
       "      <td>0.039838</td>\n",
       "      <td>8</td>\n",
       "    </tr>\n",
       "    <tr>\n",
       "      <th>4</th>\n",
       "      <td>0.675222</td>\n",
       "      <td>0.021473</td>\n",
       "      <td>0.011149</td>\n",
       "      <td>0.001731</td>\n",
       "      <td>6</td>\n",
       "      <td>0.75</td>\n",
       "      <td>{'xgbregressor__max_depth': 6, 'xgbregressor__...</td>\n",
       "      <td>0.654933</td>\n",
       "      <td>0.685533</td>\n",
       "      <td>0.652889</td>\n",
       "      <td>0.658947</td>\n",
       "      <td>0.754595</td>\n",
       "      <td>0.681379</td>\n",
       "      <td>0.038450</td>\n",
       "      <td>5</td>\n",
       "    </tr>\n",
       "    <tr>\n",
       "      <th>5</th>\n",
       "      <td>0.728090</td>\n",
       "      <td>0.044096</td>\n",
       "      <td>0.017774</td>\n",
       "      <td>0.011652</td>\n",
       "      <td>6</td>\n",
       "      <td>1</td>\n",
       "      <td>{'xgbregressor__max_depth': 6, 'xgbregressor__...</td>\n",
       "      <td>0.666232</td>\n",
       "      <td>0.694586</td>\n",
       "      <td>0.643188</td>\n",
       "      <td>0.659061</td>\n",
       "      <td>0.754239</td>\n",
       "      <td>0.683461</td>\n",
       "      <td>0.039109</td>\n",
       "      <td>3</td>\n",
       "    </tr>\n",
       "    <tr>\n",
       "      <th>6</th>\n",
       "      <td>1.041994</td>\n",
       "      <td>0.115109</td>\n",
       "      <td>0.013121</td>\n",
       "      <td>0.000613</td>\n",
       "      <td>8</td>\n",
       "      <td>0.5</td>\n",
       "      <td>{'xgbregressor__max_depth': 8, 'xgbregressor__...</td>\n",
       "      <td>0.658007</td>\n",
       "      <td>0.665936</td>\n",
       "      <td>0.564388</td>\n",
       "      <td>0.648609</td>\n",
       "      <td>0.699177</td>\n",
       "      <td>0.647223</td>\n",
       "      <td>0.044787</td>\n",
       "      <td>9</td>\n",
       "    </tr>\n",
       "    <tr>\n",
       "      <th>7</th>\n",
       "      <td>1.287665</td>\n",
       "      <td>0.117618</td>\n",
       "      <td>0.015848</td>\n",
       "      <td>0.003213</td>\n",
       "      <td>8</td>\n",
       "      <td>0.75</td>\n",
       "      <td>{'xgbregressor__max_depth': 8, 'xgbregressor__...</td>\n",
       "      <td>0.673045</td>\n",
       "      <td>0.687511</td>\n",
       "      <td>0.635523</td>\n",
       "      <td>0.672823</td>\n",
       "      <td>0.758770</td>\n",
       "      <td>0.685534</td>\n",
       "      <td>0.040462</td>\n",
       "      <td>1</td>\n",
       "    </tr>\n",
       "    <tr>\n",
       "      <th>8</th>\n",
       "      <td>1.101004</td>\n",
       "      <td>0.212337</td>\n",
       "      <td>0.013994</td>\n",
       "      <td>0.002530</td>\n",
       "      <td>8</td>\n",
       "      <td>1</td>\n",
       "      <td>{'xgbregressor__max_depth': 8, 'xgbregressor__...</td>\n",
       "      <td>0.667740</td>\n",
       "      <td>0.687605</td>\n",
       "      <td>0.626857</td>\n",
       "      <td>0.679933</td>\n",
       "      <td>0.739889</td>\n",
       "      <td>0.680405</td>\n",
       "      <td>0.036382</td>\n",
       "      <td>6</td>\n",
       "    </tr>\n",
       "  </tbody>\n",
       "</table>\n",
       "</div>"
      ],
      "text/plain": [
       "   mean_fit_time  std_fit_time  mean_score_time  std_score_time  \\\n",
       "0       0.561721      0.045837         0.010144        0.000512   \n",
       "1       0.517721      0.009095         0.009549        0.000168   \n",
       "2       0.496851      0.012108         0.009537        0.000111   \n",
       "3       0.639763      0.005312         0.010015        0.000351   \n",
       "4       0.675222      0.021473         0.011149        0.001731   \n",
       "5       0.728090      0.044096         0.017774        0.011652   \n",
       "6       1.041994      0.115109         0.013121        0.000613   \n",
       "7       1.287665      0.117618         0.015848        0.003213   \n",
       "8       1.101004      0.212337         0.013994        0.002530   \n",
       "\n",
       "  param_xgbregressor__max_depth param_xgbregressor__subsample  \\\n",
       "0                             4                           0.5   \n",
       "1                             4                          0.75   \n",
       "2                             4                             1   \n",
       "3                             6                           0.5   \n",
       "4                             6                          0.75   \n",
       "5                             6                             1   \n",
       "6                             8                           0.5   \n",
       "7                             8                          0.75   \n",
       "8                             8                             1   \n",
       "\n",
       "                                              params  split0_test_score  \\\n",
       "0  {'xgbregressor__max_depth': 4, 'xgbregressor__...           0.687665   \n",
       "1  {'xgbregressor__max_depth': 4, 'xgbregressor__...           0.671144   \n",
       "2  {'xgbregressor__max_depth': 4, 'xgbregressor__...           0.692790   \n",
       "3  {'xgbregressor__max_depth': 6, 'xgbregressor__...           0.642054   \n",
       "4  {'xgbregressor__max_depth': 6, 'xgbregressor__...           0.654933   \n",
       "5  {'xgbregressor__max_depth': 6, 'xgbregressor__...           0.666232   \n",
       "6  {'xgbregressor__max_depth': 8, 'xgbregressor__...           0.658007   \n",
       "7  {'xgbregressor__max_depth': 8, 'xgbregressor__...           0.673045   \n",
       "8  {'xgbregressor__max_depth': 8, 'xgbregressor__...           0.667740   \n",
       "\n",
       "   split1_test_score  split2_test_score  split3_test_score  split4_test_score  \\\n",
       "0           0.653408           0.625249           0.638368           0.713736   \n",
       "1           0.707113           0.627503           0.676359           0.742621   \n",
       "2           0.668275           0.648914           0.670272           0.729458   \n",
       "3           0.679078           0.595720           0.668899           0.715123   \n",
       "4           0.685533           0.652889           0.658947           0.754595   \n",
       "5           0.694586           0.643188           0.659061           0.754239   \n",
       "6           0.665936           0.564388           0.648609           0.699177   \n",
       "7           0.687511           0.635523           0.672823           0.758770   \n",
       "8           0.687605           0.626857           0.679933           0.739889   \n",
       "\n",
       "   mean_test_score  std_test_score  rank_test_score  \n",
       "0         0.663685        0.032570                7  \n",
       "1         0.684948        0.038423                2  \n",
       "2         0.681942        0.027529                4  \n",
       "3         0.660175        0.039838                8  \n",
       "4         0.681379        0.038450                5  \n",
       "5         0.683461        0.039109                3  \n",
       "6         0.647223        0.044787                9  \n",
       "7         0.685534        0.040462                1  \n",
       "8         0.680405        0.036382                6  "
      ]
     },
     "execution_count": 641,
     "metadata": {},
     "output_type": "execute_result"
    }
   ],
   "source": [
    "pd.DataFrame(grid.cv_results_)"
   ]
  },
  {
   "cell_type": "markdown",
   "metadata": {},
   "source": [
    "The best model is the one with max depth = 8 and subsaple = 0.75. Other parameters could be explored further, but for now let's stop here. "
   ]
  },
  {
   "cell_type": "code",
   "execution_count": 642,
   "metadata": {},
   "outputs": [],
   "source": [
    "y_pred = beast_model.predict(X_test)"
   ]
  },
  {
   "cell_type": "code",
   "execution_count": 643,
   "metadata": {},
   "outputs": [
    {
     "data": {
      "application/vnd.plotly.v1+json": {
       "config": {
        "plotlyServerURL": "https://plot.ly"
       },
       "data": [
        {
         "hovertemplate": "Actual=%{x}<br>Predict=%{y}<br>relative absolute error=%{marker.color}<extra></extra>",
         "legendgroup": "",
         "marker": {
          "color": [
           0.022488200679640375,
           0.6150452891779025,
           0.6174042062704445,
           0.4499499322356718,
           0.006033372047994867,
           0.238179616719565,
           0.3388109099643549,
           0.4094647120563777,
           0.2573729201767783,
           0.032918348886200335,
           0.05382330361395146,
           0.0768195578795341,
           0.0029992940827551864,
           0.011858988175384886,
           0.05244944759909728,
           0.34683267844527665,
           0.8931822618964108,
           0.23952582642846632,
           0.5799092279191084,
           0.03723436313448488,
           0.06949366982842793,
           0.1803594745749036,
           0.5226502337503636,
           4.248088750349341,
           0.12030289856267705,
           0.11353211566571003,
           0.300192980283683,
           0.07466341078932552,
           0.14668453846541857,
           0.020660305761839252,
           0.03945994018839883,
           0.02901510781271925,
           0.1139554218509599,
           0.7916023136960592,
           0.03989318416231968,
           0.02703729838281349,
           0.7227773535837202,
           0.17317043425145853,
           0.35276190650653816,
           0.7674323532484522,
           0.08400559090872609,
           0.17478357386002796,
           0.05672459842677146,
           0.06287188349991413,
           0.6064187566061305,
           0.0206188221446746,
           0.4179659007931456,
           0.03210432045056046,
           0.138189033687172,
           0.3039012798388718,
           0.37114168386393637,
           0.6385120527149569,
           0.23595654561196774,
           0.3195826795917164,
           0.16885052216493032,
           0.16621661636108304,
           0.15730200438634223,
           0.03373273140762364,
           0.0669498889522554,
           0.450155025104937,
           0.00032468494179053314,
           0.003147701225824606,
           0.21291751496169678,
           0.056315677440082805,
           0.4442947351618428,
           0.6411613536990934,
           0.007543232836943963,
           0.003404273328841837,
           0.012549477743688016,
           0.1224174189440113,
           0.3016377040138799,
           0.2262795239323483,
           0.12125184906372165,
           0.2974561187839097,
           4.773096203133442,
           1.060882948715971,
           0.1991778254960084,
           0.047954944894945846,
           0.001319898271255191,
           0.3566476223548959,
           0.11258673311132722,
           0.19864473843929997,
           0.12750289087700079,
           0.11444321831379828,
           0.38281946140532674,
           0.28952022230820373,
           0.8258360222921766,
           0.1659101375209196,
           0.021445039360757985,
           0.6734092919296771,
           0.07644397140355175,
           0.13330351895861592,
           0.4816416068113843,
           0.12049279663057998,
           0.08280150118345345,
           0.20028415829097762,
           0.008751813625150918,
           0.3966487482273127,
           0.04887190637115104,
           0.6403871457134429,
           0.019893130612824692,
           0.012788682482093841,
           0.00416424688742388,
           0.126290780736323,
           0.7215139140125151,
           0.042179750792003985,
           0.0014272866726928364,
           0.13124740488543082,
           0.18936558017754568,
           0.0556918509618789,
           0.046841086733137756,
           0.049636317416582615,
           0.8868621633486442,
           0.04179935473099252,
           0.14209058429976942,
           0.18839225641161245,
           0.019465746994906222,
           0.6129685763744529,
           0.012710169711423866,
           0.08185821349062947,
           0.08841871467953721,
           0.024967497389992478,
           0.06231076644392582,
           0.01497885009526343,
           0.1234209460852708,
           0.008346031937283041,
           0.5176893938576534,
           0.026278337910160557,
           0.06275107305402203,
           0.3369856764382998,
           0.10860955655859574,
           0.4711113199063106,
           0.02680900413671489,
           0.21045895096880723,
           0.05938004240892039,
           0.27323165537253824,
           0.08959850401179709,
           0.013417120828022523,
           0.050546941495837834,
           0.1954532908347081,
           0.04341502109523494,
           0.08567406785881469,
           0.08985466318369323,
           0.453744077385304,
           0.07039347212997026,
           0.010678058970611965,
           0.3438438338560349,
           0.1958552471277077,
           0.07252533737151408,
           0.9197965725761903,
           0.2838253159890994,
           0.09445382244490418,
           0.1579922297226812,
           0.04841779961722735,
           1.456311971409992,
           0.03920193914641505,
           3.8548130609687785,
           0.15091441319598028,
           0.04361938443085135,
           0.38929755185778714,
           0.5333687278200107,
           0.0643587234035076,
           0.29287666023672865,
           0.1951199123783776,
           0.337613666075942,
           0.14324813459986363,
           0.006259225891464169,
           2.894706940180449,
           0.10085645844522437,
           0.10526483922560619,
           5.111133229465438e-05,
           0.4102185299110883,
           0.03435233199790314,
           0.012924887550272827,
           0.37369191016082903,
           0.15135577958621135,
           0.5742746026353752,
           0.04421005136417726,
           0.7879783776114817,
           0.36790229727308194,
           0.0008094665157472632,
           0.7632750092736605,
           0.7486949370319389,
           0.38688216991802404,
           0.025424939924469224,
           0.45352688456952517,
           0.2735428554011857,
           0.21607816513295527,
           0.10723663049453996,
           0.0721619956994426,
           0.10649862801147177,
           0.043601621387310725,
           0.7620588075578668,
           0.04980782092388355,
           0.09947022806261244,
           0.09485814667987492,
           0.24222653946897865,
           0.16990777329489545,
           1.0301995229214131,
           0.775420029457044,
           0.09211562594856823,
           0.06638371144323259,
           0.07133970965786081,
           0.10029177571999662,
           0.4451359103245272,
           0.011077918660558728,
           0.17678778497947428,
           0.2590258288110874,
           0.7302288031822786,
           0.07194705202504385,
           0.015272559723349814,
           0.18997898922973372,
           0.14099023890522006,
           0.8573632368547925,
           0.007390854435704333,
           0.6467169200138754,
           1.3248527391852314,
           0.18326821013934688,
           0.11052021045541954,
           0.007130699694693158,
           0.02960968798365787,
           0.8791536427813937,
           0.2385519340272608,
           0.01420998549235794,
           0.5168688138414927,
           0.045450751989824144,
           0.4685012825826283,
           0.16522632533698636,
           0.4956797458512932,
           0.5991832523732213,
           0.36432813083914894,
           0.033193164928228665,
           0.05301024533405767,
           0.013400072940536824,
           0.5057871200449242,
           0.26135128815780617,
           0.31140542885972156,
           17.94418838716074,
           0.31594062991398186,
           0.034854708367632777,
           0.1066453319780303,
           1.0502960487751731,
           0.2725248374859027,
           0.0629714888240632,
           0.012292374032267798,
           0.005065845589508988,
           0.8523283688417949,
           0.5547557901684852,
           0.0731104836044233,
           0.4835410011712505,
           0.043339467735608865,
           0.12419092944676825,
           0.09485814667987492,
           0.07150154483165672,
           0.1320310693063555,
           0.01426270733132485,
           0.5792003070766277,
           0.2866772179933026,
           0.5181993662351537,
           0.004161549150272766,
           0.021946623089159414,
           0.2699513826893324,
           0.10910945654486309,
           0.025803010516682927,
           0.03651879026059948,
           0.1527605493502791,
           0.18392713493803023,
           0.32310924994180823,
           0.15639864048071123,
           0.10336361232384685,
           0.0530345542998481,
           0.07952119100643515,
           0.23522177665760308,
           0.07446144427699382,
           0.05099708686486748,
           0.18570850714976053,
           0.2529590326287605,
           0.08482853047056257,
           0.9118496836909901,
           0.020474566279166165,
           3.4973453923730227,
           0.0073053244742928595,
           0.01523148422385292,
           0.25419518490952353,
           0.5664503058172977,
           0.021277489333419004,
           0.19735229861166348,
           0.1644946012923478,
           0.06206630647505131,
           0.016297962907882508,
           0.032173680879083955,
           0.3465993631940963,
           0.16201161061234906,
           0.006381749119960803,
           0.3218072992768431,
           0.22521183890990873,
           0.009143022597597961,
           0.22343525624062482,
           0.22197383974978233,
           0.06200421718209143,
           2.0480436737640755,
           0.006408578419936067,
           0.02997611081584749,
           0.15512667423248067,
           0.013080601437419834,
           0.1528557709971535,
           0.028567588140498826,
           0.2952114024873696,
           0.1230627407474251,
           0.2079760566382467,
           0.02342787359904704,
           0.6952240768650073,
           0.7287048544610168,
           0.04492721565454235,
           0.8601111242256932,
           -1.5925250610422648,
           0.021699678964837637,
           0.0033309161562081182,
           0.036786780901914985,
           0.17204091282208125,
           0.027770671609395052,
           0.050641067598620686,
           0.5225003270323054,
           0.07377909464249068,
           0.11736520271381864,
           0.14310386130454372,
           0.6334269863355091,
           0.019536036983256736,
           0.4259114439569731,
           1.1500016144735727,
           0.09963893279277934,
           0.0698737189175972,
           0.31874109106209164,
           0.0015964102854476457,
           0.06093406858446021,
           0.012584665901159192,
           0.03522664679334056,
           0.07597216908807612,
           0.2236166669358524,
           2.3555532794420277,
           1.6674688970510276,
           0.04053627180053895,
           0.14299612616279217,
           0.06471656698466745,
           0.009357518271169481,
           0.3682704271585942,
           0.24505979795708754,
           0.03963864381161391,
           0.26416030318895006,
           0.8078262152584536,
           0.018553049903263986,
           0.013846636298683875,
           0.05163359282313283,
           0.16333729237162686,
           0.05097578086672336,
           0.4825453450392643,
           0.08992771795181036,
           0.06142859300053977,
           1.2833439050052091,
           0.00481382690854542,
           0.05146414062233318,
           0.21952076406786872,
           0.37121493124508725,
           0.11529450278683591,
           0.005301188456953078,
           0.059032289777710294,
           0.026547337736001975,
           0.15353684928469455,
           0.04383906463383208,
           0.04453810552541111,
           1.2010921685299376,
           0.01782279649144025,
           0.24869648921094148,
           0.26578087672379364,
           0.12073267859243161,
           0.06699589077291737,
           0.01638241706061411,
           0.14515988724765724,
           0.6884643794670074,
           0.4027337017259843,
           0.39418999294223667,
           0.9009688343642386,
           0.5832316747216838,
           0.6742379927851099,
           0.06403072758181007,
           0.19346387269463677,
           0.49419514828135835,
           0.003011879968215102,
           0.017024571788866436,
           0.023267340584141753,
           0.10033101500116705,
           0.14767030710563478,
           0.07616000105957535,
           0.20646182544088898,
           0.0008150090465760229,
           0.005565143048886864,
           0.5325724040542656,
           0.3386476729013845,
           0.0959779540221573,
           0.6782597409691217,
           0.0715858460101057,
           0.7490444960272737,
           0.46573268743996066,
           0.09322488877543791,
           0.2560700881772413,
           0.0227949823660937,
           0.09367842042339289,
           0.07227690128261859,
           1.3201429351828118,
           0.06439547125193476,
           0.2272103528053069,
           0.03824587341797921,
           0.004975677544819826,
           0.7479668064408045,
           0.0703102452939691,
           0.4392697567802108,
           0.43289641601759277,
           0.11917929919318211,
           0.10768503631825374,
           0.22301609369940295,
           0.09200673149771085,
           0.3471782417870091,
           0.03078073858207116,
           0.08716395069575167,
           0.017045409017026017,
           1.2448964678355736,
           0.3975977056031798,
           0.19162015469091515,
           0.053017458757553974,
           0.05578027919597753,
           0.20103983519400084,
           0.14300421948955627,
           0.2381060089180287,
           0.09307347351825204,
           0.07496425965749999,
           0.3195540106514646,
           0.08776733956808336,
           0.5029241524597333,
           0.15072373230849664,
           0.15925800533559842,
           0.21023591617261247,
           0.011858988175384886,
           0.10834130069403698,
           0.03473293249460522,
           0.10908204220595609,
           0.13086610846011928,
           0.26903719698459305,
           0.016084914478720725,
           0.29460871536739947,
           0.4982421442420188,
           0.16937727107519718,
           0.1458456528959332,
           0.05522086273600961,
           0.114896144811073,
           0.2561803013628497,
           0.006011418372497877,
           0.16338041994397595,
           0.11724547936652792,
           0.49814061772751494,
           0.676916821508132,
           0.23706444722072326,
           0.0683608667100155,
           0.14231830071363624,
           0.07599186705613481,
           0.15830769694171865,
           0.04889418565511132,
           0.11120112257149883,
           0.11649314483161294,
           0.045532926317751785,
           0.10567120953189982,
           0.6509433222628281,
           0.09683660739454619,
           0.510559464064591,
           0.03264755585635001,
           0.14975688579126167,
           0.07255449648041677,
           0.73948494937827,
           0.07339769534000645,
           0.058894638735119034,
           0.014127552177299302,
           0.0798171184449101,
           0.2597552880700875,
           0.02681762001787038,
           0.06870235802442141,
           0.04492697284389404,
           1.201314196040214
          ],
          "coloraxis": "coloraxis",
          "symbol": "circle"
         },
         "mode": "markers",
         "name": "",
         "orientation": "v",
         "showlegend": false,
         "type": "scatter",
         "x": [
          8000,
          14810,
          7200,
          16300,
          13270,
          25000,
          9000,
          17000,
          17300,
          23500,
          10500,
          15100,
          17200,
          13700,
          19500,
          21500,
          17500,
          11800,
          5700,
          23400,
          17750,
          25800,
          3830,
          33000,
          35000,
          13200,
          9200,
          16500,
          22600,
          15000,
          49500,
          49500,
          31000,
          3650,
          12710,
          20300,
          5200,
          4690,
          22500,
          2000,
          7300,
          23000,
          3160,
          35000,
          4200,
          10800,
          14100,
          12520,
          10400,
          11200,
          31900,
          3700,
          17300,
          2000,
          23500,
          15300,
          24700,
          13900,
          18000,
          6240,
          20500,
          26500,
          20100,
          25500,
          4950,
          925,
          14750,
          37600,
          26602,
          20500,
          74000,
          52000,
          6060,
          22500,
          55000,
          4240,
          28600,
          27300,
          27702,
          22000,
          25900,
          13487,
          24500,
          7700,
          2200,
          14500,
          175,
          34995,
          18600,
          14500,
          41000,
          16488,
          10000,
          19400,
          4730,
          29700,
          22400,
          6700,
          15300,
          3300,
          10910,
          24000,
          19800,
          18200,
          10200,
          9700,
          15700,
          28990,
          7000,
          11200,
          21003,
          19500,
          1800,
          3210,
          46200,
          15800,
          18500,
          9200,
          23600,
          6200,
          32500,
          28500,
          30999,
          22700,
          27300,
          23995,
          15110,
          28500,
          27500,
          9600,
          26502,
          13700,
          22600,
          16600,
          18900,
          37000,
          23500,
          9200,
          16600,
          20700,
          18800,
          13600,
          28200,
          11200,
          18800,
          23500,
          10500,
          3500,
          14600,
          4900,
          21000,
          14800,
          40200,
          21100,
          12800,
          23600,
          6300,
          17700,
          25300,
          8500,
          26800,
          13000,
          30900,
          42500,
          22800,
          15500,
          16500,
          1300,
          16700,
          15700,
          16700,
          9200,
          15500,
          27305,
          11500,
          8000,
          1300,
          18800,
          2300,
          10500,
          34500,
          30851,
          225,
          18402,
          31500,
          36300,
          10800,
          4100,
          23700,
          23600,
          19700,
          31500,
          1825,
          15900,
          14000,
          22800,
          9800,
          37500,
          52000,
          33300,
          23402,
          11000,
          57700,
          22400,
          8600,
          48000,
          19000,
          20000,
          14500,
          10900,
          13900,
          6140,
          21687,
          1750,
          10900,
          7700,
          38100,
          14000,
          13400,
          29000,
          16500,
          450,
          4430,
          15100,
          3500,
          10600,
          28000,
          19500,
          24000,
          7500,
          6000,
          22000,
          33800,
          29502,
          33995,
          14000,
          5900,
          17400,
          11000,
          26000,
          7800,
          14500,
          38000,
          43900,
          35100,
          19800,
          1700,
          8200,
          16700,
          63000,
          7200,
          34002,
          22800,
          32200,
          17100,
          48000,
          1350,
          4950,
          9400,
          23900,
          25000,
          25000,
          19000,
          11100,
          19000,
          18500,
          5800,
          27300,
          5330,
          26000,
          29500,
          23100,
          14495,
          29809,
          29500,
          39000,
          3790,
          16000,
          26000,
          24300,
          13750,
          17500,
          39500,
          25000,
          2500,
          13700,
          23000,
          35000,
          31000,
          21000,
          43009,
          22500,
          16000,
          23100,
          15995,
          17200,
          15600,
          10400,
          17100,
          26800,
          23500,
          22500,
          34800,
          14488,
          15000,
          35999,
          33000,
          10700,
          24200,
          14500,
          15290,
          3960,
          4000,
          29600,
          1500,
          3600,
          15700,
          27502,
          7320,
          9200,
          10800,
          20000,
          4160,
          24700,
          39000,
          11000,
          2220,
          21600,
          9800,
          26400,
          22500,
          29500,
          22809,
          26311,
          15000,
          14900,
          11000,
          23000,
          21500,
          56500,
          15110,
          15000,
          9270,
          18200,
          19600,
          28800,
          17500,
          15100,
          18000,
          2900,
          15000,
          24500,
          15900,
          23000,
          13900,
          48000,
          22800,
          24300,
          13000,
          15300,
          23500,
          10000,
          28000,
          17500,
          19200,
          25500,
          13000,
          5100,
          24002,
          24700,
          31200,
          15100,
          46700,
          12560,
          13995,
          18400,
          25000,
          24400,
          63200,
          11700,
          3700,
          15600,
          14100,
          3330,
          31500,
          58500,
          34500,
          20800,
          15700,
          28000,
          34500,
          26900,
          14600,
          9000,
          16000,
          26602,
          59975,
          13700,
          23000,
          3900,
          6270,
          23800,
          3800,
          12100,
          20500,
          18000,
          39000,
          17900,
          17700,
          8000,
          22500,
          25500,
          23911,
          4500,
          27800,
          4530,
          18000,
          13300,
          15900,
          26000,
          18003,
          8850,
          29800,
          19400,
          29500,
          13200,
          3870,
          12500,
          12000,
          19600,
          6100,
          18300,
          14000,
          34400,
          15800,
          26100,
          21500,
          11300,
          22500,
          25995,
          7400,
          13700,
          14900,
          16500,
          5700,
          5580,
          7700,
          13800,
          1500,
          8000,
          16200,
          9300,
          19600,
          12500,
          8300,
          16500,
          20000,
          24500,
          12800,
          4340,
          33500,
          10330,
          26400,
          19995,
          35000,
          19500,
          10200,
          22700,
          22600,
          39800,
          3000,
          43500,
          9280,
          25000,
          17300,
          11000,
          13200,
          30800,
          16300,
          25000,
          15000,
          7900,
          25300,
          18800,
          14700,
          5100
         ],
         "xaxis": "x",
         "y": [
          8184.04443359375,
          9170.021484375,
          18818.81640625,
          29633.666015625,
          13350.548828125,
          20190.931640625,
          13611.83984375,
          28787.44140625,
          13758.845703125,
          22751.072265625,
          11097.29296875,
          16356.4990234375,
          17148.56640625,
          13864.41796875,
          20579.376953125,
          32916.52734375,
          9243.6953125,
          15516.634765625,
          13568.49609375,
          24304.98046875,
          16596.638671875,
          21857.748046875,
          8023.466796875,
          6288.00341796875,
          39786.421875,
          11854.1708984375,
          13146.4814453125,
          15353.64453125,
          26484.9296875,
          15316.4423828125,
          47620.8828125,
          48104.25,
          27828.76171875,
          17514.58984375,
          12222.4091796875,
          19765.591796875,
          18757.486328125,
          3997.714111328125,
          16632.638671875,
          8599.6484375,
          7969.48095703125,
          19578.07421875,
          3350.029052734375,
          37348.1484375,
          10671.240234375,
          10581.8154296875,
          24225.384765625,
          12935.2783203125,
          9137.322265625,
          16089.671875,
          50726.84765625,
          10235.47265625,
          13997.255859375,
          2939.37255859375,
          20105.22265625,
          18350.08984375,
          29310.619140625,
          14385.25390625,
          19291.568359375,
          11348.6533203125,
          20506.658203125,
          26416.84765625,
          16571.61328125,
          27021.748046875,
          8907.599609375,
          2577.76025390625,
          14639.5703125,
          37472.43359375,
          26940.083984375,
          23359.625,
          56851.45703125,
          42404.6875,
          6896.173828125,
          17341.626953125,
          9526.9501953125,
          2057.37060546875,
          23849.673828125,
          26050.73828125,
          27665.484375,
          34195.87890625,
          23279.083984375,
          16830.23828125,
          28080.322265625,
          6909.27978515625,
          3564.59716796875,
          20408.744140625,
          95.84650421142578,
          30015.177734375,
          19007.619140625,
          8664.9453125,
          44393.625,
          19023.9609375,
          6749.2705078125,
          17313.810546875,
          4368.29833984375,
          37138.19140625,
          22597.771484375,
          11104.642578125,
          14587.1005859375,
          9176.53515625,
          10697.19921875,
          23696.947265625,
          19882.796875,
          16159.2373046875,
          36626.60546875,
          10127.1611328125,
          15722.4404296875,
          25626.578125,
          8635.2119140625,
          11860.53515625,
          22035.150390625,
          18577.86328125,
          15909.796875,
          3350.029052734375,
          40452.1328125,
          13295.2734375,
          18146.759765625,
          23770.6796875,
          23303.8046875,
          5730.88037109375,
          29859.83203125,
          27805.759765625,
          29180.7265625,
          22364.998046875,
          31143.796875,
          23796.39453125,
          9955.923828125,
          27770.244140625,
          25876.23828125,
          14479.3251953125,
          23905.62109375,
          9312.6875,
          22009.935546875,
          13713.806640625,
          17840.623046875,
          29059.912109375,
          25812.787109375,
          9325.1162109375,
          15801.29296875,
          25728.7734375,
          19653.24609375,
          14874.345703125,
          30984.0625,
          7704.24462890625,
          17563.634765625,
          23251.716796875,
          16002.2880859375,
          2926.775634765625,
          15741.669921875,
          2552.353759765625,
          29322.455078125,
          16343.7275390625,
          47743.02734375,
          20125.564453125,
          5211.064453125,
          22709.734375,
          1297.6812744140625,
          20845.955078125,
          24242.5546875,
          13918.3984375,
          17477.857421875,
          13894.2138671875,
          43698.17578125,
          35561.28515625,
          34421,
          18091.5859375,
          16603.927734375,
          333.7863464355469,
          15170.0068359375,
          17547.091796875,
          16699.146484375,
          15598.998046875,
          14985.22265625,
          27662.53515625,
          8371.6005859375,
          9426.80078125,
          3053.611572265625,
          19669.59375,
          10847.9501953125,
          7675.98681640625,
          34527.94921875,
          17496.419921875,
          895.326171875,
          30013.806640625,
          32321.779296875,
          24973.73828125,
          14866.671875,
          5230.11328125,
          21404.638671875,
          25435.474609375,
          17803.908203125,
          30183.931640625,
          7669.96240234375,
          16733.45703125,
          12733.4052734375,
          25189.421875,
          12932.625,
          45175.703125,
          25613.24609375,
          18756.125,
          25776.41015625,
          10315.236328125,
          62132.515625,
          20358.236328125,
          15499.291015625,
          47474.0859375,
          23080.318359375,
          26991.494140625,
          8380.39453125,
          11745.01953125,
          14115.5810546875,
          7580.05029296875,
          25246.51171875,
          12268.9267578125,
          10981.16015625,
          21795.552734375,
          16388.134765625,
          17141.490234375,
          15064.9853515625,
          28794.673828125,
          16025.490234375,
          3723.736572265625,
          5817.8623046875,
          14888.435546875,
          7244.4091796875,
          11104.7177734375,
          19067.05859375,
          23359.625,
          16046.2158203125,
          18711.79296875,
          9438.83203125,
          21293.2109375,
          32098.453125,
          29111.8984375,
          22576.232421875,
          18953.529296875,
          8568.1767578125,
          918.4874877929688,
          16080.4755859375,
          26938.94921875,
          8731.134765625,
          7072.1494140625,
          29861.892578125,
          41299.3203125,
          35536.83203125,
          19900.814453125,
          11512.0283203125,
          18416.859375,
          15562.2373046875,
          42465.96484375,
          7526.1806640625,
          30245.751953125,
          25189.421875,
          34679.6484375,
          19701.166015625,
          48694.515625,
          3208.17724609375,
          6939.35498046875,
          19510.14453125,
          23800.951171875,
          24463.1171875,
          19685.79296875,
          21326.974609375,
          10820.791015625,
          19720.15625,
          16048.4326171875,
          7107.20849609375,
          20633.216796875,
          4609.13720703125,
          28997.26171875,
          28014.275390625,
          25095.634765625,
          18953.20703125,
          27743.201171875,
          28068.583984375,
          32891.7265625,
          5073.349609375,
          17483.0625,
          13599.3955078125,
          24807.931640625,
          3057.359130859375,
          17373.083984375,
          38907.3828125,
          19933.1015625,
          1595.965087890625,
          13997.8388671875,
          28655.162109375,
          41890.8125,
          29188.384765625,
          21347.927734375,
          41668.375,
          16708.755859375,
          13769.2255859375,
          23248.365234375,
          23584.7421875,
          14038.388671875,
          15743.947265625,
          13392.3154296875,
          13993.7529296875,
          25235.3046875,
          7709.86328125,
          22645.123046875,
          33787.19140625,
          17148.1328125,
          15198.8095703125,
          31225.935546875,
          32083.453125,
          15181.857421875,
          27596.044921875,
          18307.52734375,
          15656.8056640625,
          12993.15234375,
          14744.08984375,
          30992.40234375,
          10722.796875,
          -6075.6923828125,
          15366.55078125,
          27410.697265625,
          7599.5634765625,
          11111.66015625,
          11108.490234375,
          21066.84765625,
          8712.0478515625,
          23002.869140625,
          34903.5390625,
          12837.0283203125,
          6056.09228515625,
          21186.107421875,
          17070.537109375,
          12279.060546875,
          20461.26171875,
          27573.34765625,
          17296.041015625,
          26353.0703125,
          15973.3193359375,
          15089.9013671875,
          11401.6416015625,
          21376.017578125,
          27692.505859375,
          16837.759765625,
          5664.5458984375,
          14415.6435546875,
          10816.75390625,
          19459.341796875,
          19418.29296875,
          21048.470703125,
          14055.5498046875,
          14524.27734375,
          24461.849609375,
          15090.5078125,
          14726.7734375,
          24165.390625,
          16765.671875,
          27490.169921875,
          14646.623046875,
          32376.75,
          25052.955078125,
          22893.673828125,
          5693.404296875,
          15374.0078125,
          24775.025390625,
          8199.9423828125,
          20419.84765625,
          15690.9228515625,
          19098.75390625,
          24078.5859375,
          12663.8095703125,
          6025.0703125,
          25102.46875,
          25851.37109375,
          14174.78125,
          15374.0078125,
          37399,
          9922.728515625,
          15916.6611328125,
          19721.2421875,
          24597.041015625,
          21307.068359375,
          37430.4609375,
          19589.251953125,
          6107.525390625,
          8206.341796875,
          8905.8349609375,
          10222.1865234375,
          29604.408203125,
          49016.984375,
          23089.353515625,
          20737.541015625,
          15437.1884765625,
          27363.328125,
          31354.201171875,
          23438.787109375,
          13566.755859375,
          11341.609375,
          16013.05078125,
          26454.775390625,
          39133.55078125,
          20715.130859375,
          25441.857421875,
          12121.5791015625,
          5851.14111328125,
          13607.4296875,
          7112.54443359375,
          13343.9921875,
          27556.359375,
          18419.880859375,
          35659.4765625,
          16693.44921875,
          7628.84033203125,
          7516.00341796875,
          29115.296875,
          24560.65625,
          24030.568359375,
          17854.791015625,
          25973.77734375,
          8078.7509765625,
          12561.96875,
          11883.7080078125,
          17818.8203125,
          33462.7265625,
          16486.162109375,
          6569.28662109375,
          28910.125,
          21252.447265625,
          29005.587890625,
          5880.00390625,
          6424.2783203125,
          10489.919921875,
          12671.828125,
          18564.46875,
          7634.923828125,
          21353.6640625,
          18375.259765625,
          31470.89453125,
          14698.1630859375,
          19779.41015625,
          23568.548828125,
          22732.94921875,
          19552.912109375,
          22423.826171875,
          9369.88671875,
          13864.41796875,
          16710.4296875,
          17093.71484375,
          6397.8955078125,
          6420.1845703125,
          10534.0517578125,
          14025.6005859375,
          1158.6512451171875,
          5339.5908203125,
          13853.52734375,
          10887.9619140625,
          18574.310546875,
          11211.806640625,
          11158.6181640625,
          16401.404296875,
          17191.28125,
          27754.03515625,
          25505.15234375,
          13433.0732421875,
          27080.23828125,
          9669.017578125,
          23110.896484375,
          21639.419921875,
          30216.49609375,
          18591.0078125,
          11476.162109375,
          20331.517578125,
          23678.134765625,
          35996.234375,
          8594.5927734375,
          39659.5078125,
          18960.423828125,
          24209.615234375,
          15046.6591796875,
          11860.53515625,
          7588.453125,
          33239.71875,
          17320.05859375,
          25358.25,
          16301.107421875,
          10672.146484375,
          24639.234375,
          20186.88671875,
          14067.96875,
          2316.7978515625
         ],
         "yaxis": "y"
        }
       ],
       "layout": {
        "coloraxis": {
         "colorbar": {
          "title": {
           "text": "relative absolute error"
          }
         },
         "colorscale": [
          [
           0,
           "#0d0887"
          ],
          [
           0.1111111111111111,
           "#46039f"
          ],
          [
           0.2222222222222222,
           "#7201a8"
          ],
          [
           0.3333333333333333,
           "#9c179e"
          ],
          [
           0.4444444444444444,
           "#bd3786"
          ],
          [
           0.5555555555555556,
           "#d8576b"
          ],
          [
           0.6666666666666666,
           "#ed7953"
          ],
          [
           0.7777777777777778,
           "#fb9f3a"
          ],
          [
           0.8888888888888888,
           "#fdca26"
          ],
          [
           1,
           "#f0f921"
          ]
         ]
        },
        "legend": {
         "tracegroupgap": 0
        },
        "template": {
         "data": {
          "bar": [
           {
            "error_x": {
             "color": "#2a3f5f"
            },
            "error_y": {
             "color": "#2a3f5f"
            },
            "marker": {
             "line": {
              "color": "#E5ECF6",
              "width": 0.5
             },
             "pattern": {
              "fillmode": "overlay",
              "size": 10,
              "solidity": 0.2
             }
            },
            "type": "bar"
           }
          ],
          "barpolar": [
           {
            "marker": {
             "line": {
              "color": "#E5ECF6",
              "width": 0.5
             },
             "pattern": {
              "fillmode": "overlay",
              "size": 10,
              "solidity": 0.2
             }
            },
            "type": "barpolar"
           }
          ],
          "carpet": [
           {
            "aaxis": {
             "endlinecolor": "#2a3f5f",
             "gridcolor": "white",
             "linecolor": "white",
             "minorgridcolor": "white",
             "startlinecolor": "#2a3f5f"
            },
            "baxis": {
             "endlinecolor": "#2a3f5f",
             "gridcolor": "white",
             "linecolor": "white",
             "minorgridcolor": "white",
             "startlinecolor": "#2a3f5f"
            },
            "type": "carpet"
           }
          ],
          "choropleth": [
           {
            "colorbar": {
             "outlinewidth": 0,
             "ticks": ""
            },
            "type": "choropleth"
           }
          ],
          "contour": [
           {
            "colorbar": {
             "outlinewidth": 0,
             "ticks": ""
            },
            "colorscale": [
             [
              0,
              "#0d0887"
             ],
             [
              0.1111111111111111,
              "#46039f"
             ],
             [
              0.2222222222222222,
              "#7201a8"
             ],
             [
              0.3333333333333333,
              "#9c179e"
             ],
             [
              0.4444444444444444,
              "#bd3786"
             ],
             [
              0.5555555555555556,
              "#d8576b"
             ],
             [
              0.6666666666666666,
              "#ed7953"
             ],
             [
              0.7777777777777778,
              "#fb9f3a"
             ],
             [
              0.8888888888888888,
              "#fdca26"
             ],
             [
              1,
              "#f0f921"
             ]
            ],
            "type": "contour"
           }
          ],
          "contourcarpet": [
           {
            "colorbar": {
             "outlinewidth": 0,
             "ticks": ""
            },
            "type": "contourcarpet"
           }
          ],
          "heatmap": [
           {
            "colorbar": {
             "outlinewidth": 0,
             "ticks": ""
            },
            "colorscale": [
             [
              0,
              "#0d0887"
             ],
             [
              0.1111111111111111,
              "#46039f"
             ],
             [
              0.2222222222222222,
              "#7201a8"
             ],
             [
              0.3333333333333333,
              "#9c179e"
             ],
             [
              0.4444444444444444,
              "#bd3786"
             ],
             [
              0.5555555555555556,
              "#d8576b"
             ],
             [
              0.6666666666666666,
              "#ed7953"
             ],
             [
              0.7777777777777778,
              "#fb9f3a"
             ],
             [
              0.8888888888888888,
              "#fdca26"
             ],
             [
              1,
              "#f0f921"
             ]
            ],
            "type": "heatmap"
           }
          ],
          "heatmapgl": [
           {
            "colorbar": {
             "outlinewidth": 0,
             "ticks": ""
            },
            "colorscale": [
             [
              0,
              "#0d0887"
             ],
             [
              0.1111111111111111,
              "#46039f"
             ],
             [
              0.2222222222222222,
              "#7201a8"
             ],
             [
              0.3333333333333333,
              "#9c179e"
             ],
             [
              0.4444444444444444,
              "#bd3786"
             ],
             [
              0.5555555555555556,
              "#d8576b"
             ],
             [
              0.6666666666666666,
              "#ed7953"
             ],
             [
              0.7777777777777778,
              "#fb9f3a"
             ],
             [
              0.8888888888888888,
              "#fdca26"
             ],
             [
              1,
              "#f0f921"
             ]
            ],
            "type": "heatmapgl"
           }
          ],
          "histogram": [
           {
            "marker": {
             "pattern": {
              "fillmode": "overlay",
              "size": 10,
              "solidity": 0.2
             }
            },
            "type": "histogram"
           }
          ],
          "histogram2d": [
           {
            "colorbar": {
             "outlinewidth": 0,
             "ticks": ""
            },
            "colorscale": [
             [
              0,
              "#0d0887"
             ],
             [
              0.1111111111111111,
              "#46039f"
             ],
             [
              0.2222222222222222,
              "#7201a8"
             ],
             [
              0.3333333333333333,
              "#9c179e"
             ],
             [
              0.4444444444444444,
              "#bd3786"
             ],
             [
              0.5555555555555556,
              "#d8576b"
             ],
             [
              0.6666666666666666,
              "#ed7953"
             ],
             [
              0.7777777777777778,
              "#fb9f3a"
             ],
             [
              0.8888888888888888,
              "#fdca26"
             ],
             [
              1,
              "#f0f921"
             ]
            ],
            "type": "histogram2d"
           }
          ],
          "histogram2dcontour": [
           {
            "colorbar": {
             "outlinewidth": 0,
             "ticks": ""
            },
            "colorscale": [
             [
              0,
              "#0d0887"
             ],
             [
              0.1111111111111111,
              "#46039f"
             ],
             [
              0.2222222222222222,
              "#7201a8"
             ],
             [
              0.3333333333333333,
              "#9c179e"
             ],
             [
              0.4444444444444444,
              "#bd3786"
             ],
             [
              0.5555555555555556,
              "#d8576b"
             ],
             [
              0.6666666666666666,
              "#ed7953"
             ],
             [
              0.7777777777777778,
              "#fb9f3a"
             ],
             [
              0.8888888888888888,
              "#fdca26"
             ],
             [
              1,
              "#f0f921"
             ]
            ],
            "type": "histogram2dcontour"
           }
          ],
          "mesh3d": [
           {
            "colorbar": {
             "outlinewidth": 0,
             "ticks": ""
            },
            "type": "mesh3d"
           }
          ],
          "parcoords": [
           {
            "line": {
             "colorbar": {
              "outlinewidth": 0,
              "ticks": ""
             }
            },
            "type": "parcoords"
           }
          ],
          "pie": [
           {
            "automargin": true,
            "type": "pie"
           }
          ],
          "scatter": [
           {
            "marker": {
             "colorbar": {
              "outlinewidth": 0,
              "ticks": ""
             }
            },
            "type": "scatter"
           }
          ],
          "scatter3d": [
           {
            "line": {
             "colorbar": {
              "outlinewidth": 0,
              "ticks": ""
             }
            },
            "marker": {
             "colorbar": {
              "outlinewidth": 0,
              "ticks": ""
             }
            },
            "type": "scatter3d"
           }
          ],
          "scattercarpet": [
           {
            "marker": {
             "colorbar": {
              "outlinewidth": 0,
              "ticks": ""
             }
            },
            "type": "scattercarpet"
           }
          ],
          "scattergeo": [
           {
            "marker": {
             "colorbar": {
              "outlinewidth": 0,
              "ticks": ""
             }
            },
            "type": "scattergeo"
           }
          ],
          "scattergl": [
           {
            "marker": {
             "colorbar": {
              "outlinewidth": 0,
              "ticks": ""
             }
            },
            "type": "scattergl"
           }
          ],
          "scattermapbox": [
           {
            "marker": {
             "colorbar": {
              "outlinewidth": 0,
              "ticks": ""
             }
            },
            "type": "scattermapbox"
           }
          ],
          "scatterpolar": [
           {
            "marker": {
             "colorbar": {
              "outlinewidth": 0,
              "ticks": ""
             }
            },
            "type": "scatterpolar"
           }
          ],
          "scatterpolargl": [
           {
            "marker": {
             "colorbar": {
              "outlinewidth": 0,
              "ticks": ""
             }
            },
            "type": "scatterpolargl"
           }
          ],
          "scatterternary": [
           {
            "marker": {
             "colorbar": {
              "outlinewidth": 0,
              "ticks": ""
             }
            },
            "type": "scatterternary"
           }
          ],
          "surface": [
           {
            "colorbar": {
             "outlinewidth": 0,
             "ticks": ""
            },
            "colorscale": [
             [
              0,
              "#0d0887"
             ],
             [
              0.1111111111111111,
              "#46039f"
             ],
             [
              0.2222222222222222,
              "#7201a8"
             ],
             [
              0.3333333333333333,
              "#9c179e"
             ],
             [
              0.4444444444444444,
              "#bd3786"
             ],
             [
              0.5555555555555556,
              "#d8576b"
             ],
             [
              0.6666666666666666,
              "#ed7953"
             ],
             [
              0.7777777777777778,
              "#fb9f3a"
             ],
             [
              0.8888888888888888,
              "#fdca26"
             ],
             [
              1,
              "#f0f921"
             ]
            ],
            "type": "surface"
           }
          ],
          "table": [
           {
            "cells": {
             "fill": {
              "color": "#EBF0F8"
             },
             "line": {
              "color": "white"
             }
            },
            "header": {
             "fill": {
              "color": "#C8D4E3"
             },
             "line": {
              "color": "white"
             }
            },
            "type": "table"
           }
          ]
         },
         "layout": {
          "annotationdefaults": {
           "arrowcolor": "#2a3f5f",
           "arrowhead": 0,
           "arrowwidth": 1
          },
          "autotypenumbers": "strict",
          "coloraxis": {
           "colorbar": {
            "outlinewidth": 0,
            "ticks": ""
           }
          },
          "colorscale": {
           "diverging": [
            [
             0,
             "#8e0152"
            ],
            [
             0.1,
             "#c51b7d"
            ],
            [
             0.2,
             "#de77ae"
            ],
            [
             0.3,
             "#f1b6da"
            ],
            [
             0.4,
             "#fde0ef"
            ],
            [
             0.5,
             "#f7f7f7"
            ],
            [
             0.6,
             "#e6f5d0"
            ],
            [
             0.7,
             "#b8e186"
            ],
            [
             0.8,
             "#7fbc41"
            ],
            [
             0.9,
             "#4d9221"
            ],
            [
             1,
             "#276419"
            ]
           ],
           "sequential": [
            [
             0,
             "#0d0887"
            ],
            [
             0.1111111111111111,
             "#46039f"
            ],
            [
             0.2222222222222222,
             "#7201a8"
            ],
            [
             0.3333333333333333,
             "#9c179e"
            ],
            [
             0.4444444444444444,
             "#bd3786"
            ],
            [
             0.5555555555555556,
             "#d8576b"
            ],
            [
             0.6666666666666666,
             "#ed7953"
            ],
            [
             0.7777777777777778,
             "#fb9f3a"
            ],
            [
             0.8888888888888888,
             "#fdca26"
            ],
            [
             1,
             "#f0f921"
            ]
           ],
           "sequentialminus": [
            [
             0,
             "#0d0887"
            ],
            [
             0.1111111111111111,
             "#46039f"
            ],
            [
             0.2222222222222222,
             "#7201a8"
            ],
            [
             0.3333333333333333,
             "#9c179e"
            ],
            [
             0.4444444444444444,
             "#bd3786"
            ],
            [
             0.5555555555555556,
             "#d8576b"
            ],
            [
             0.6666666666666666,
             "#ed7953"
            ],
            [
             0.7777777777777778,
             "#fb9f3a"
            ],
            [
             0.8888888888888888,
             "#fdca26"
            ],
            [
             1,
             "#f0f921"
            ]
           ]
          },
          "colorway": [
           "#636efa",
           "#EF553B",
           "#00cc96",
           "#ab63fa",
           "#FFA15A",
           "#19d3f3",
           "#FF6692",
           "#B6E880",
           "#FF97FF",
           "#FECB52"
          ],
          "font": {
           "color": "#2a3f5f"
          },
          "geo": {
           "bgcolor": "white",
           "lakecolor": "white",
           "landcolor": "#E5ECF6",
           "showlakes": true,
           "showland": true,
           "subunitcolor": "white"
          },
          "hoverlabel": {
           "align": "left"
          },
          "hovermode": "closest",
          "mapbox": {
           "style": "light"
          },
          "paper_bgcolor": "white",
          "plot_bgcolor": "#E5ECF6",
          "polar": {
           "angularaxis": {
            "gridcolor": "white",
            "linecolor": "white",
            "ticks": ""
           },
           "bgcolor": "#E5ECF6",
           "radialaxis": {
            "gridcolor": "white",
            "linecolor": "white",
            "ticks": ""
           }
          },
          "scene": {
           "xaxis": {
            "backgroundcolor": "#E5ECF6",
            "gridcolor": "white",
            "gridwidth": 2,
            "linecolor": "white",
            "showbackground": true,
            "ticks": "",
            "zerolinecolor": "white"
           },
           "yaxis": {
            "backgroundcolor": "#E5ECF6",
            "gridcolor": "white",
            "gridwidth": 2,
            "linecolor": "white",
            "showbackground": true,
            "ticks": "",
            "zerolinecolor": "white"
           },
           "zaxis": {
            "backgroundcolor": "#E5ECF6",
            "gridcolor": "white",
            "gridwidth": 2,
            "linecolor": "white",
            "showbackground": true,
            "ticks": "",
            "zerolinecolor": "white"
           }
          },
          "shapedefaults": {
           "line": {
            "color": "#2a3f5f"
           }
          },
          "ternary": {
           "aaxis": {
            "gridcolor": "white",
            "linecolor": "white",
            "ticks": ""
           },
           "baxis": {
            "gridcolor": "white",
            "linecolor": "white",
            "ticks": ""
           },
           "bgcolor": "#E5ECF6",
           "caxis": {
            "gridcolor": "white",
            "linecolor": "white",
            "ticks": ""
           }
          },
          "title": {
           "x": 0.05
          },
          "xaxis": {
           "automargin": true,
           "gridcolor": "white",
           "linecolor": "white",
           "ticks": "",
           "title": {
            "standoff": 15
           },
           "zerolinecolor": "white",
           "zerolinewidth": 2
          },
          "yaxis": {
           "automargin": true,
           "gridcolor": "white",
           "linecolor": "white",
           "ticks": "",
           "title": {
            "standoff": 15
           },
           "zerolinecolor": "white",
           "zerolinewidth": 2
          }
         }
        },
        "title": {
         "text": "Actual price vs Predicted Price"
        },
        "xaxis": {
         "anchor": "y",
         "domain": [
          0,
          1
         ],
         "title": {
          "text": "Actual"
         }
        },
        "yaxis": {
         "anchor": "x",
         "domain": [
          0,
          1
         ],
         "title": {
          "text": "Predict"
         }
        }
       }
      },
      "text/html": [
       "<div>                            <div id=\"f8401942-092c-4177-a7e5-55e52f55e8ac\" class=\"plotly-graph-div\" style=\"height:525px; width:100%;\"></div>            <script type=\"text/javascript\">                require([\"plotly\"], function(Plotly) {                    window.PLOTLYENV=window.PLOTLYENV || {};                                    if (document.getElementById(\"f8401942-092c-4177-a7e5-55e52f55e8ac\")) {                    Plotly.newPlot(                        \"f8401942-092c-4177-a7e5-55e52f55e8ac\",                        [{\"hovertemplate\":\"Actual=%{x}<br>Predict=%{y}<br>relative absolute error=%{marker.color}<extra></extra>\",\"legendgroup\":\"\",\"marker\":{\"color\":[0.022488200679640375,0.6150452891779025,0.6174042062704445,0.4499499322356718,0.006033372047994867,0.238179616719565,0.3388109099643549,0.4094647120563777,0.2573729201767783,0.032918348886200335,0.05382330361395146,0.0768195578795341,0.0029992940827551864,0.011858988175384886,0.05244944759909728,0.34683267844527665,0.8931822618964108,0.23952582642846632,0.5799092279191084,0.03723436313448488,0.06949366982842793,0.1803594745749036,0.5226502337503636,4.248088750349341,0.12030289856267705,0.11353211566571003,0.300192980283683,0.07466341078932552,0.14668453846541857,0.020660305761839252,0.03945994018839883,0.02901510781271925,0.1139554218509599,0.7916023136960592,0.03989318416231968,0.02703729838281349,0.7227773535837202,0.17317043425145853,0.35276190650653816,0.7674323532484522,0.08400559090872609,0.17478357386002796,0.05672459842677146,0.06287188349991413,0.6064187566061305,0.0206188221446746,0.4179659007931456,0.03210432045056046,0.138189033687172,0.3039012798388718,0.37114168386393637,0.6385120527149569,0.23595654561196774,0.3195826795917164,0.16885052216493032,0.16621661636108304,0.15730200438634223,0.03373273140762364,0.0669498889522554,0.450155025104937,0.00032468494179053314,0.003147701225824606,0.21291751496169678,0.056315677440082805,0.4442947351618428,0.6411613536990934,0.007543232836943963,0.003404273328841837,0.012549477743688016,0.1224174189440113,0.3016377040138799,0.2262795239323483,0.12125184906372165,0.2974561187839097,4.773096203133442,1.060882948715971,0.1991778254960084,0.047954944894945846,0.001319898271255191,0.3566476223548959,0.11258673311132722,0.19864473843929997,0.12750289087700079,0.11444321831379828,0.38281946140532674,0.28952022230820373,0.8258360222921766,0.1659101375209196,0.021445039360757985,0.6734092919296771,0.07644397140355175,0.13330351895861592,0.4816416068113843,0.12049279663057998,0.08280150118345345,0.20028415829097762,0.008751813625150918,0.3966487482273127,0.04887190637115104,0.6403871457134429,0.019893130612824692,0.012788682482093841,0.00416424688742388,0.126290780736323,0.7215139140125151,0.042179750792003985,0.0014272866726928364,0.13124740488543082,0.18936558017754568,0.0556918509618789,0.046841086733137756,0.049636317416582615,0.8868621633486442,0.04179935473099252,0.14209058429976942,0.18839225641161245,0.019465746994906222,0.6129685763744529,0.012710169711423866,0.08185821349062947,0.08841871467953721,0.024967497389992478,0.06231076644392582,0.01497885009526343,0.1234209460852708,0.008346031937283041,0.5176893938576534,0.026278337910160557,0.06275107305402203,0.3369856764382998,0.10860955655859574,0.4711113199063106,0.02680900413671489,0.21045895096880723,0.05938004240892039,0.27323165537253824,0.08959850401179709,0.013417120828022523,0.050546941495837834,0.1954532908347081,0.04341502109523494,0.08567406785881469,0.08985466318369323,0.453744077385304,0.07039347212997026,0.010678058970611965,0.3438438338560349,0.1958552471277077,0.07252533737151408,0.9197965725761903,0.2838253159890994,0.09445382244490418,0.1579922297226812,0.04841779961722735,1.456311971409992,0.03920193914641505,3.8548130609687785,0.15091441319598028,0.04361938443085135,0.38929755185778714,0.5333687278200107,0.0643587234035076,0.29287666023672865,0.1951199123783776,0.337613666075942,0.14324813459986363,0.006259225891464169,2.894706940180449,0.10085645844522437,0.10526483922560619,5.111133229465438e-05,0.4102185299110883,0.03435233199790314,0.012924887550272827,0.37369191016082903,0.15135577958621135,0.5742746026353752,0.04421005136417726,0.7879783776114817,0.36790229727308194,0.0008094665157472632,0.7632750092736605,0.7486949370319389,0.38688216991802404,0.025424939924469224,0.45352688456952517,0.2735428554011857,0.21607816513295527,0.10723663049453996,0.0721619956994426,0.10649862801147177,0.043601621387310725,0.7620588075578668,0.04980782092388355,0.09947022806261244,0.09485814667987492,0.24222653946897865,0.16990777329489545,1.0301995229214131,0.775420029457044,0.09211562594856823,0.06638371144323259,0.07133970965786081,0.10029177571999662,0.4451359103245272,0.011077918660558728,0.17678778497947428,0.2590258288110874,0.7302288031822786,0.07194705202504385,0.015272559723349814,0.18997898922973372,0.14099023890522006,0.8573632368547925,0.007390854435704333,0.6467169200138754,1.3248527391852314,0.18326821013934688,0.11052021045541954,0.007130699694693158,0.02960968798365787,0.8791536427813937,0.2385519340272608,0.01420998549235794,0.5168688138414927,0.045450751989824144,0.4685012825826283,0.16522632533698636,0.4956797458512932,0.5991832523732213,0.36432813083914894,0.033193164928228665,0.05301024533405767,0.013400072940536824,0.5057871200449242,0.26135128815780617,0.31140542885972156,17.94418838716074,0.31594062991398186,0.034854708367632777,0.1066453319780303,1.0502960487751731,0.2725248374859027,0.0629714888240632,0.012292374032267798,0.005065845589508988,0.8523283688417949,0.5547557901684852,0.0731104836044233,0.4835410011712505,0.043339467735608865,0.12419092944676825,0.09485814667987492,0.07150154483165672,0.1320310693063555,0.01426270733132485,0.5792003070766277,0.2866772179933026,0.5181993662351537,0.004161549150272766,0.021946623089159414,0.2699513826893324,0.10910945654486309,0.025803010516682927,0.03651879026059948,0.1527605493502791,0.18392713493803023,0.32310924994180823,0.15639864048071123,0.10336361232384685,0.0530345542998481,0.07952119100643515,0.23522177665760308,0.07446144427699382,0.05099708686486748,0.18570850714976053,0.2529590326287605,0.08482853047056257,0.9118496836909901,0.020474566279166165,3.4973453923730227,0.0073053244742928595,0.01523148422385292,0.25419518490952353,0.5664503058172977,0.021277489333419004,0.19735229861166348,0.1644946012923478,0.06206630647505131,0.016297962907882508,0.032173680879083955,0.3465993631940963,0.16201161061234906,0.006381749119960803,0.3218072992768431,0.22521183890990873,0.009143022597597961,0.22343525624062482,0.22197383974978233,0.06200421718209143,2.0480436737640755,0.006408578419936067,0.02997611081584749,0.15512667423248067,0.013080601437419834,0.1528557709971535,0.028567588140498826,0.2952114024873696,0.1230627407474251,0.2079760566382467,0.02342787359904704,0.6952240768650073,0.7287048544610168,0.04492721565454235,0.8601111242256932,-1.5925250610422648,0.021699678964837637,0.0033309161562081182,0.036786780901914985,0.17204091282208125,0.027770671609395052,0.050641067598620686,0.5225003270323054,0.07377909464249068,0.11736520271381864,0.14310386130454372,0.6334269863355091,0.019536036983256736,0.4259114439569731,1.1500016144735727,0.09963893279277934,0.0698737189175972,0.31874109106209164,0.0015964102854476457,0.06093406858446021,0.012584665901159192,0.03522664679334056,0.07597216908807612,0.2236166669358524,2.3555532794420277,1.6674688970510276,0.04053627180053895,0.14299612616279217,0.06471656698466745,0.009357518271169481,0.3682704271585942,0.24505979795708754,0.03963864381161391,0.26416030318895006,0.8078262152584536,0.018553049903263986,0.013846636298683875,0.05163359282313283,0.16333729237162686,0.05097578086672336,0.4825453450392643,0.08992771795181036,0.06142859300053977,1.2833439050052091,0.00481382690854542,0.05146414062233318,0.21952076406786872,0.37121493124508725,0.11529450278683591,0.005301188456953078,0.059032289777710294,0.026547337736001975,0.15353684928469455,0.04383906463383208,0.04453810552541111,1.2010921685299376,0.01782279649144025,0.24869648921094148,0.26578087672379364,0.12073267859243161,0.06699589077291737,0.01638241706061411,0.14515988724765724,0.6884643794670074,0.4027337017259843,0.39418999294223667,0.9009688343642386,0.5832316747216838,0.6742379927851099,0.06403072758181007,0.19346387269463677,0.49419514828135835,0.003011879968215102,0.017024571788866436,0.023267340584141753,0.10033101500116705,0.14767030710563478,0.07616000105957535,0.20646182544088898,0.0008150090465760229,0.005565143048886864,0.5325724040542656,0.3386476729013845,0.0959779540221573,0.6782597409691217,0.0715858460101057,0.7490444960272737,0.46573268743996066,0.09322488877543791,0.2560700881772413,0.0227949823660937,0.09367842042339289,0.07227690128261859,1.3201429351828118,0.06439547125193476,0.2272103528053069,0.03824587341797921,0.004975677544819826,0.7479668064408045,0.0703102452939691,0.4392697567802108,0.43289641601759277,0.11917929919318211,0.10768503631825374,0.22301609369940295,0.09200673149771085,0.3471782417870091,0.03078073858207116,0.08716395069575167,0.017045409017026017,1.2448964678355736,0.3975977056031798,0.19162015469091515,0.053017458757553974,0.05578027919597753,0.20103983519400084,0.14300421948955627,0.2381060089180287,0.09307347351825204,0.07496425965749999,0.3195540106514646,0.08776733956808336,0.5029241524597333,0.15072373230849664,0.15925800533559842,0.21023591617261247,0.011858988175384886,0.10834130069403698,0.03473293249460522,0.10908204220595609,0.13086610846011928,0.26903719698459305,0.016084914478720725,0.29460871536739947,0.4982421442420188,0.16937727107519718,0.1458456528959332,0.05522086273600961,0.114896144811073,0.2561803013628497,0.006011418372497877,0.16338041994397595,0.11724547936652792,0.49814061772751494,0.676916821508132,0.23706444722072326,0.0683608667100155,0.14231830071363624,0.07599186705613481,0.15830769694171865,0.04889418565511132,0.11120112257149883,0.11649314483161294,0.045532926317751785,0.10567120953189982,0.6509433222628281,0.09683660739454619,0.510559464064591,0.03264755585635001,0.14975688579126167,0.07255449648041677,0.73948494937827,0.07339769534000645,0.058894638735119034,0.014127552177299302,0.0798171184449101,0.2597552880700875,0.02681762001787038,0.06870235802442141,0.04492697284389404,1.201314196040214],\"coloraxis\":\"coloraxis\",\"symbol\":\"circle\"},\"mode\":\"markers\",\"name\":\"\",\"orientation\":\"v\",\"showlegend\":false,\"x\":[8000,14810,7200,16300,13270,25000,9000,17000,17300,23500,10500,15100,17200,13700,19500,21500,17500,11800,5700,23400,17750,25800,3830,33000,35000,13200,9200,16500,22600,15000,49500,49500,31000,3650,12710,20300,5200,4690,22500,2000,7300,23000,3160,35000,4200,10800,14100,12520,10400,11200,31900,3700,17300,2000,23500,15300,24700,13900,18000,6240,20500,26500,20100,25500,4950,925,14750,37600,26602,20500,74000,52000,6060,22500,55000,4240,28600,27300,27702,22000,25900,13487,24500,7700,2200,14500,175,34995,18600,14500,41000,16488,10000,19400,4730,29700,22400,6700,15300,3300,10910,24000,19800,18200,10200,9700,15700,28990,7000,11200,21003,19500,1800,3210,46200,15800,18500,9200,23600,6200,32500,28500,30999,22700,27300,23995,15110,28500,27500,9600,26502,13700,22600,16600,18900,37000,23500,9200,16600,20700,18800,13600,28200,11200,18800,23500,10500,3500,14600,4900,21000,14800,40200,21100,12800,23600,6300,17700,25300,8500,26800,13000,30900,42500,22800,15500,16500,1300,16700,15700,16700,9200,15500,27305,11500,8000,1300,18800,2300,10500,34500,30851,225,18402,31500,36300,10800,4100,23700,23600,19700,31500,1825,15900,14000,22800,9800,37500,52000,33300,23402,11000,57700,22400,8600,48000,19000,20000,14500,10900,13900,6140,21687,1750,10900,7700,38100,14000,13400,29000,16500,450,4430,15100,3500,10600,28000,19500,24000,7500,6000,22000,33800,29502,33995,14000,5900,17400,11000,26000,7800,14500,38000,43900,35100,19800,1700,8200,16700,63000,7200,34002,22800,32200,17100,48000,1350,4950,9400,23900,25000,25000,19000,11100,19000,18500,5800,27300,5330,26000,29500,23100,14495,29809,29500,39000,3790,16000,26000,24300,13750,17500,39500,25000,2500,13700,23000,35000,31000,21000,43009,22500,16000,23100,15995,17200,15600,10400,17100,26800,23500,22500,34800,14488,15000,35999,33000,10700,24200,14500,15290,3960,4000,29600,1500,3600,15700,27502,7320,9200,10800,20000,4160,24700,39000,11000,2220,21600,9800,26400,22500,29500,22809,26311,15000,14900,11000,23000,21500,56500,15110,15000,9270,18200,19600,28800,17500,15100,18000,2900,15000,24500,15900,23000,13900,48000,22800,24300,13000,15300,23500,10000,28000,17500,19200,25500,13000,5100,24002,24700,31200,15100,46700,12560,13995,18400,25000,24400,63200,11700,3700,15600,14100,3330,31500,58500,34500,20800,15700,28000,34500,26900,14600,9000,16000,26602,59975,13700,23000,3900,6270,23800,3800,12100,20500,18000,39000,17900,17700,8000,22500,25500,23911,4500,27800,4530,18000,13300,15900,26000,18003,8850,29800,19400,29500,13200,3870,12500,12000,19600,6100,18300,14000,34400,15800,26100,21500,11300,22500,25995,7400,13700,14900,16500,5700,5580,7700,13800,1500,8000,16200,9300,19600,12500,8300,16500,20000,24500,12800,4340,33500,10330,26400,19995,35000,19500,10200,22700,22600,39800,3000,43500,9280,25000,17300,11000,13200,30800,16300,25000,15000,7900,25300,18800,14700,5100],\"xaxis\":\"x\",\"y\":[8184.04443359375,9170.021484375,18818.81640625,29633.666015625,13350.548828125,20190.931640625,13611.83984375,28787.44140625,13758.845703125,22751.072265625,11097.29296875,16356.4990234375,17148.56640625,13864.41796875,20579.376953125,32916.52734375,9243.6953125,15516.634765625,13568.49609375,24304.98046875,16596.638671875,21857.748046875,8023.466796875,6288.00341796875,39786.421875,11854.1708984375,13146.4814453125,15353.64453125,26484.9296875,15316.4423828125,47620.8828125,48104.25,27828.76171875,17514.58984375,12222.4091796875,19765.591796875,18757.486328125,3997.714111328125,16632.638671875,8599.6484375,7969.48095703125,19578.07421875,3350.029052734375,37348.1484375,10671.240234375,10581.8154296875,24225.384765625,12935.2783203125,9137.322265625,16089.671875,50726.84765625,10235.47265625,13997.255859375,2939.37255859375,20105.22265625,18350.08984375,29310.619140625,14385.25390625,19291.568359375,11348.6533203125,20506.658203125,26416.84765625,16571.61328125,27021.748046875,8907.599609375,2577.76025390625,14639.5703125,37472.43359375,26940.083984375,23359.625,56851.45703125,42404.6875,6896.173828125,17341.626953125,9526.9501953125,2057.37060546875,23849.673828125,26050.73828125,27665.484375,34195.87890625,23279.083984375,16830.23828125,28080.322265625,6909.27978515625,3564.59716796875,20408.744140625,95.84650421142578,30015.177734375,19007.619140625,8664.9453125,44393.625,19023.9609375,6749.2705078125,17313.810546875,4368.29833984375,37138.19140625,22597.771484375,11104.642578125,14587.1005859375,9176.53515625,10697.19921875,23696.947265625,19882.796875,16159.2373046875,36626.60546875,10127.1611328125,15722.4404296875,25626.578125,8635.2119140625,11860.53515625,22035.150390625,18577.86328125,15909.796875,3350.029052734375,40452.1328125,13295.2734375,18146.759765625,23770.6796875,23303.8046875,5730.88037109375,29859.83203125,27805.759765625,29180.7265625,22364.998046875,31143.796875,23796.39453125,9955.923828125,27770.244140625,25876.23828125,14479.3251953125,23905.62109375,9312.6875,22009.935546875,13713.806640625,17840.623046875,29059.912109375,25812.787109375,9325.1162109375,15801.29296875,25728.7734375,19653.24609375,14874.345703125,30984.0625,7704.24462890625,17563.634765625,23251.716796875,16002.2880859375,2926.775634765625,15741.669921875,2552.353759765625,29322.455078125,16343.7275390625,47743.02734375,20125.564453125,5211.064453125,22709.734375,1297.6812744140625,20845.955078125,24242.5546875,13918.3984375,17477.857421875,13894.2138671875,43698.17578125,35561.28515625,34421.0,18091.5859375,16603.927734375,333.7863464355469,15170.0068359375,17547.091796875,16699.146484375,15598.998046875,14985.22265625,27662.53515625,8371.6005859375,9426.80078125,3053.611572265625,19669.59375,10847.9501953125,7675.98681640625,34527.94921875,17496.419921875,895.326171875,30013.806640625,32321.779296875,24973.73828125,14866.671875,5230.11328125,21404.638671875,25435.474609375,17803.908203125,30183.931640625,7669.96240234375,16733.45703125,12733.4052734375,25189.421875,12932.625,45175.703125,25613.24609375,18756.125,25776.41015625,10315.236328125,62132.515625,20358.236328125,15499.291015625,47474.0859375,23080.318359375,26991.494140625,8380.39453125,11745.01953125,14115.5810546875,7580.05029296875,25246.51171875,12268.9267578125,10981.16015625,21795.552734375,16388.134765625,17141.490234375,15064.9853515625,28794.673828125,16025.490234375,3723.736572265625,5817.8623046875,14888.435546875,7244.4091796875,11104.7177734375,19067.05859375,23359.625,16046.2158203125,18711.79296875,9438.83203125,21293.2109375,32098.453125,29111.8984375,22576.232421875,18953.529296875,8568.1767578125,918.4874877929688,16080.4755859375,26938.94921875,8731.134765625,7072.1494140625,29861.892578125,41299.3203125,35536.83203125,19900.814453125,11512.0283203125,18416.859375,15562.2373046875,42465.96484375,7526.1806640625,30245.751953125,25189.421875,34679.6484375,19701.166015625,48694.515625,3208.17724609375,6939.35498046875,19510.14453125,23800.951171875,24463.1171875,19685.79296875,21326.974609375,10820.791015625,19720.15625,16048.4326171875,7107.20849609375,20633.216796875,4609.13720703125,28997.26171875,28014.275390625,25095.634765625,18953.20703125,27743.201171875,28068.583984375,32891.7265625,5073.349609375,17483.0625,13599.3955078125,24807.931640625,3057.359130859375,17373.083984375,38907.3828125,19933.1015625,1595.965087890625,13997.8388671875,28655.162109375,41890.8125,29188.384765625,21347.927734375,41668.375,16708.755859375,13769.2255859375,23248.365234375,23584.7421875,14038.388671875,15743.947265625,13392.3154296875,13993.7529296875,25235.3046875,7709.86328125,22645.123046875,33787.19140625,17148.1328125,15198.8095703125,31225.935546875,32083.453125,15181.857421875,27596.044921875,18307.52734375,15656.8056640625,12993.15234375,14744.08984375,30992.40234375,10722.796875,-6075.6923828125,15366.55078125,27410.697265625,7599.5634765625,11111.66015625,11108.490234375,21066.84765625,8712.0478515625,23002.869140625,34903.5390625,12837.0283203125,6056.09228515625,21186.107421875,17070.537109375,12279.060546875,20461.26171875,27573.34765625,17296.041015625,26353.0703125,15973.3193359375,15089.9013671875,11401.6416015625,21376.017578125,27692.505859375,16837.759765625,5664.5458984375,14415.6435546875,10816.75390625,19459.341796875,19418.29296875,21048.470703125,14055.5498046875,14524.27734375,24461.849609375,15090.5078125,14726.7734375,24165.390625,16765.671875,27490.169921875,14646.623046875,32376.75,25052.955078125,22893.673828125,5693.404296875,15374.0078125,24775.025390625,8199.9423828125,20419.84765625,15690.9228515625,19098.75390625,24078.5859375,12663.8095703125,6025.0703125,25102.46875,25851.37109375,14174.78125,15374.0078125,37399.0,9922.728515625,15916.6611328125,19721.2421875,24597.041015625,21307.068359375,37430.4609375,19589.251953125,6107.525390625,8206.341796875,8905.8349609375,10222.1865234375,29604.408203125,49016.984375,23089.353515625,20737.541015625,15437.1884765625,27363.328125,31354.201171875,23438.787109375,13566.755859375,11341.609375,16013.05078125,26454.775390625,39133.55078125,20715.130859375,25441.857421875,12121.5791015625,5851.14111328125,13607.4296875,7112.54443359375,13343.9921875,27556.359375,18419.880859375,35659.4765625,16693.44921875,7628.84033203125,7516.00341796875,29115.296875,24560.65625,24030.568359375,17854.791015625,25973.77734375,8078.7509765625,12561.96875,11883.7080078125,17818.8203125,33462.7265625,16486.162109375,6569.28662109375,28910.125,21252.447265625,29005.587890625,5880.00390625,6424.2783203125,10489.919921875,12671.828125,18564.46875,7634.923828125,21353.6640625,18375.259765625,31470.89453125,14698.1630859375,19779.41015625,23568.548828125,22732.94921875,19552.912109375,22423.826171875,9369.88671875,13864.41796875,16710.4296875,17093.71484375,6397.8955078125,6420.1845703125,10534.0517578125,14025.6005859375,1158.6512451171875,5339.5908203125,13853.52734375,10887.9619140625,18574.310546875,11211.806640625,11158.6181640625,16401.404296875,17191.28125,27754.03515625,25505.15234375,13433.0732421875,27080.23828125,9669.017578125,23110.896484375,21639.419921875,30216.49609375,18591.0078125,11476.162109375,20331.517578125,23678.134765625,35996.234375,8594.5927734375,39659.5078125,18960.423828125,24209.615234375,15046.6591796875,11860.53515625,7588.453125,33239.71875,17320.05859375,25358.25,16301.107421875,10672.146484375,24639.234375,20186.88671875,14067.96875,2316.7978515625],\"yaxis\":\"y\",\"type\":\"scatter\"}],                        {\"template\":{\"data\":{\"bar\":[{\"error_x\":{\"color\":\"#2a3f5f\"},\"error_y\":{\"color\":\"#2a3f5f\"},\"marker\":{\"line\":{\"color\":\"#E5ECF6\",\"width\":0.5},\"pattern\":{\"fillmode\":\"overlay\",\"size\":10,\"solidity\":0.2}},\"type\":\"bar\"}],\"barpolar\":[{\"marker\":{\"line\":{\"color\":\"#E5ECF6\",\"width\":0.5},\"pattern\":{\"fillmode\":\"overlay\",\"size\":10,\"solidity\":0.2}},\"type\":\"barpolar\"}],\"carpet\":[{\"aaxis\":{\"endlinecolor\":\"#2a3f5f\",\"gridcolor\":\"white\",\"linecolor\":\"white\",\"minorgridcolor\":\"white\",\"startlinecolor\":\"#2a3f5f\"},\"baxis\":{\"endlinecolor\":\"#2a3f5f\",\"gridcolor\":\"white\",\"linecolor\":\"white\",\"minorgridcolor\":\"white\",\"startlinecolor\":\"#2a3f5f\"},\"type\":\"carpet\"}],\"choropleth\":[{\"colorbar\":{\"outlinewidth\":0,\"ticks\":\"\"},\"type\":\"choropleth\"}],\"contour\":[{\"colorbar\":{\"outlinewidth\":0,\"ticks\":\"\"},\"colorscale\":[[0.0,\"#0d0887\"],[0.1111111111111111,\"#46039f\"],[0.2222222222222222,\"#7201a8\"],[0.3333333333333333,\"#9c179e\"],[0.4444444444444444,\"#bd3786\"],[0.5555555555555556,\"#d8576b\"],[0.6666666666666666,\"#ed7953\"],[0.7777777777777778,\"#fb9f3a\"],[0.8888888888888888,\"#fdca26\"],[1.0,\"#f0f921\"]],\"type\":\"contour\"}],\"contourcarpet\":[{\"colorbar\":{\"outlinewidth\":0,\"ticks\":\"\"},\"type\":\"contourcarpet\"}],\"heatmap\":[{\"colorbar\":{\"outlinewidth\":0,\"ticks\":\"\"},\"colorscale\":[[0.0,\"#0d0887\"],[0.1111111111111111,\"#46039f\"],[0.2222222222222222,\"#7201a8\"],[0.3333333333333333,\"#9c179e\"],[0.4444444444444444,\"#bd3786\"],[0.5555555555555556,\"#d8576b\"],[0.6666666666666666,\"#ed7953\"],[0.7777777777777778,\"#fb9f3a\"],[0.8888888888888888,\"#fdca26\"],[1.0,\"#f0f921\"]],\"type\":\"heatmap\"}],\"heatmapgl\":[{\"colorbar\":{\"outlinewidth\":0,\"ticks\":\"\"},\"colorscale\":[[0.0,\"#0d0887\"],[0.1111111111111111,\"#46039f\"],[0.2222222222222222,\"#7201a8\"],[0.3333333333333333,\"#9c179e\"],[0.4444444444444444,\"#bd3786\"],[0.5555555555555556,\"#d8576b\"],[0.6666666666666666,\"#ed7953\"],[0.7777777777777778,\"#fb9f3a\"],[0.8888888888888888,\"#fdca26\"],[1.0,\"#f0f921\"]],\"type\":\"heatmapgl\"}],\"histogram\":[{\"marker\":{\"pattern\":{\"fillmode\":\"overlay\",\"size\":10,\"solidity\":0.2}},\"type\":\"histogram\"}],\"histogram2d\":[{\"colorbar\":{\"outlinewidth\":0,\"ticks\":\"\"},\"colorscale\":[[0.0,\"#0d0887\"],[0.1111111111111111,\"#46039f\"],[0.2222222222222222,\"#7201a8\"],[0.3333333333333333,\"#9c179e\"],[0.4444444444444444,\"#bd3786\"],[0.5555555555555556,\"#d8576b\"],[0.6666666666666666,\"#ed7953\"],[0.7777777777777778,\"#fb9f3a\"],[0.8888888888888888,\"#fdca26\"],[1.0,\"#f0f921\"]],\"type\":\"histogram2d\"}],\"histogram2dcontour\":[{\"colorbar\":{\"outlinewidth\":0,\"ticks\":\"\"},\"colorscale\":[[0.0,\"#0d0887\"],[0.1111111111111111,\"#46039f\"],[0.2222222222222222,\"#7201a8\"],[0.3333333333333333,\"#9c179e\"],[0.4444444444444444,\"#bd3786\"],[0.5555555555555556,\"#d8576b\"],[0.6666666666666666,\"#ed7953\"],[0.7777777777777778,\"#fb9f3a\"],[0.8888888888888888,\"#fdca26\"],[1.0,\"#f0f921\"]],\"type\":\"histogram2dcontour\"}],\"mesh3d\":[{\"colorbar\":{\"outlinewidth\":0,\"ticks\":\"\"},\"type\":\"mesh3d\"}],\"parcoords\":[{\"line\":{\"colorbar\":{\"outlinewidth\":0,\"ticks\":\"\"}},\"type\":\"parcoords\"}],\"pie\":[{\"automargin\":true,\"type\":\"pie\"}],\"scatter\":[{\"marker\":{\"colorbar\":{\"outlinewidth\":0,\"ticks\":\"\"}},\"type\":\"scatter\"}],\"scatter3d\":[{\"line\":{\"colorbar\":{\"outlinewidth\":0,\"ticks\":\"\"}},\"marker\":{\"colorbar\":{\"outlinewidth\":0,\"ticks\":\"\"}},\"type\":\"scatter3d\"}],\"scattercarpet\":[{\"marker\":{\"colorbar\":{\"outlinewidth\":0,\"ticks\":\"\"}},\"type\":\"scattercarpet\"}],\"scattergeo\":[{\"marker\":{\"colorbar\":{\"outlinewidth\":0,\"ticks\":\"\"}},\"type\":\"scattergeo\"}],\"scattergl\":[{\"marker\":{\"colorbar\":{\"outlinewidth\":0,\"ticks\":\"\"}},\"type\":\"scattergl\"}],\"scattermapbox\":[{\"marker\":{\"colorbar\":{\"outlinewidth\":0,\"ticks\":\"\"}},\"type\":\"scattermapbox\"}],\"scatterpolar\":[{\"marker\":{\"colorbar\":{\"outlinewidth\":0,\"ticks\":\"\"}},\"type\":\"scatterpolar\"}],\"scatterpolargl\":[{\"marker\":{\"colorbar\":{\"outlinewidth\":0,\"ticks\":\"\"}},\"type\":\"scatterpolargl\"}],\"scatterternary\":[{\"marker\":{\"colorbar\":{\"outlinewidth\":0,\"ticks\":\"\"}},\"type\":\"scatterternary\"}],\"surface\":[{\"colorbar\":{\"outlinewidth\":0,\"ticks\":\"\"},\"colorscale\":[[0.0,\"#0d0887\"],[0.1111111111111111,\"#46039f\"],[0.2222222222222222,\"#7201a8\"],[0.3333333333333333,\"#9c179e\"],[0.4444444444444444,\"#bd3786\"],[0.5555555555555556,\"#d8576b\"],[0.6666666666666666,\"#ed7953\"],[0.7777777777777778,\"#fb9f3a\"],[0.8888888888888888,\"#fdca26\"],[1.0,\"#f0f921\"]],\"type\":\"surface\"}],\"table\":[{\"cells\":{\"fill\":{\"color\":\"#EBF0F8\"},\"line\":{\"color\":\"white\"}},\"header\":{\"fill\":{\"color\":\"#C8D4E3\"},\"line\":{\"color\":\"white\"}},\"type\":\"table\"}]},\"layout\":{\"annotationdefaults\":{\"arrowcolor\":\"#2a3f5f\",\"arrowhead\":0,\"arrowwidth\":1},\"autotypenumbers\":\"strict\",\"coloraxis\":{\"colorbar\":{\"outlinewidth\":0,\"ticks\":\"\"}},\"colorscale\":{\"diverging\":[[0,\"#8e0152\"],[0.1,\"#c51b7d\"],[0.2,\"#de77ae\"],[0.3,\"#f1b6da\"],[0.4,\"#fde0ef\"],[0.5,\"#f7f7f7\"],[0.6,\"#e6f5d0\"],[0.7,\"#b8e186\"],[0.8,\"#7fbc41\"],[0.9,\"#4d9221\"],[1,\"#276419\"]],\"sequential\":[[0.0,\"#0d0887\"],[0.1111111111111111,\"#46039f\"],[0.2222222222222222,\"#7201a8\"],[0.3333333333333333,\"#9c179e\"],[0.4444444444444444,\"#bd3786\"],[0.5555555555555556,\"#d8576b\"],[0.6666666666666666,\"#ed7953\"],[0.7777777777777778,\"#fb9f3a\"],[0.8888888888888888,\"#fdca26\"],[1.0,\"#f0f921\"]],\"sequentialminus\":[[0.0,\"#0d0887\"],[0.1111111111111111,\"#46039f\"],[0.2222222222222222,\"#7201a8\"],[0.3333333333333333,\"#9c179e\"],[0.4444444444444444,\"#bd3786\"],[0.5555555555555556,\"#d8576b\"],[0.6666666666666666,\"#ed7953\"],[0.7777777777777778,\"#fb9f3a\"],[0.8888888888888888,\"#fdca26\"],[1.0,\"#f0f921\"]]},\"colorway\":[\"#636efa\",\"#EF553B\",\"#00cc96\",\"#ab63fa\",\"#FFA15A\",\"#19d3f3\",\"#FF6692\",\"#B6E880\",\"#FF97FF\",\"#FECB52\"],\"font\":{\"color\":\"#2a3f5f\"},\"geo\":{\"bgcolor\":\"white\",\"lakecolor\":\"white\",\"landcolor\":\"#E5ECF6\",\"showlakes\":true,\"showland\":true,\"subunitcolor\":\"white\"},\"hoverlabel\":{\"align\":\"left\"},\"hovermode\":\"closest\",\"mapbox\":{\"style\":\"light\"},\"paper_bgcolor\":\"white\",\"plot_bgcolor\":\"#E5ECF6\",\"polar\":{\"angularaxis\":{\"gridcolor\":\"white\",\"linecolor\":\"white\",\"ticks\":\"\"},\"bgcolor\":\"#E5ECF6\",\"radialaxis\":{\"gridcolor\":\"white\",\"linecolor\":\"white\",\"ticks\":\"\"}},\"scene\":{\"xaxis\":{\"backgroundcolor\":\"#E5ECF6\",\"gridcolor\":\"white\",\"gridwidth\":2,\"linecolor\":\"white\",\"showbackground\":true,\"ticks\":\"\",\"zerolinecolor\":\"white\"},\"yaxis\":{\"backgroundcolor\":\"#E5ECF6\",\"gridcolor\":\"white\",\"gridwidth\":2,\"linecolor\":\"white\",\"showbackground\":true,\"ticks\":\"\",\"zerolinecolor\":\"white\"},\"zaxis\":{\"backgroundcolor\":\"#E5ECF6\",\"gridcolor\":\"white\",\"gridwidth\":2,\"linecolor\":\"white\",\"showbackground\":true,\"ticks\":\"\",\"zerolinecolor\":\"white\"}},\"shapedefaults\":{\"line\":{\"color\":\"#2a3f5f\"}},\"ternary\":{\"aaxis\":{\"gridcolor\":\"white\",\"linecolor\":\"white\",\"ticks\":\"\"},\"baxis\":{\"gridcolor\":\"white\",\"linecolor\":\"white\",\"ticks\":\"\"},\"bgcolor\":\"#E5ECF6\",\"caxis\":{\"gridcolor\":\"white\",\"linecolor\":\"white\",\"ticks\":\"\"}},\"title\":{\"x\":0.05},\"xaxis\":{\"automargin\":true,\"gridcolor\":\"white\",\"linecolor\":\"white\",\"ticks\":\"\",\"title\":{\"standoff\":15},\"zerolinecolor\":\"white\",\"zerolinewidth\":2},\"yaxis\":{\"automargin\":true,\"gridcolor\":\"white\",\"linecolor\":\"white\",\"ticks\":\"\",\"title\":{\"standoff\":15},\"zerolinecolor\":\"white\",\"zerolinewidth\":2}}},\"xaxis\":{\"anchor\":\"y\",\"domain\":[0.0,1.0],\"title\":{\"text\":\"Actual\"}},\"yaxis\":{\"anchor\":\"x\",\"domain\":[0.0,1.0],\"title\":{\"text\":\"Predict\"}},\"coloraxis\":{\"colorbar\":{\"title\":{\"text\":\"relative absolute error\"}},\"colorscale\":[[0.0,\"#0d0887\"],[0.1111111111111111,\"#46039f\"],[0.2222222222222222,\"#7201a8\"],[0.3333333333333333,\"#9c179e\"],[0.4444444444444444,\"#bd3786\"],[0.5555555555555556,\"#d8576b\"],[0.6666666666666666,\"#ed7953\"],[0.7777777777777778,\"#fb9f3a\"],[0.8888888888888888,\"#fdca26\"],[1.0,\"#f0f921\"]]},\"legend\":{\"tracegroupgap\":0},\"title\":{\"text\":\"Actual price vs Predicted Price\"}},                        {\"responsive\": true}                    ).then(function(){\n",
       "                            \n",
       "var gd = document.getElementById('f8401942-092c-4177-a7e5-55e52f55e8ac');\n",
       "var x = new MutationObserver(function (mutations, observer) {{\n",
       "        var display = window.getComputedStyle(gd).display;\n",
       "        if (!display || display === 'none') {{\n",
       "            console.log([gd, 'removed!']);\n",
       "            Plotly.purge(gd);\n",
       "            observer.disconnect();\n",
       "        }}\n",
       "}});\n",
       "\n",
       "// Listen for the removal of the full notebook cells\n",
       "var notebookContainer = gd.closest('#notebook-container');\n",
       "if (notebookContainer) {{\n",
       "    x.observe(notebookContainer, {childList: true});\n",
       "}}\n",
       "\n",
       "// Listen for the clearing of the current output cell\n",
       "var outputEl = gd.closest('.output');\n",
       "if (outputEl) {{\n",
       "    x.observe(outputEl, {childList: true});\n",
       "}}\n",
       "\n",
       "                        })                };                });            </script>        </div>"
      ]
     },
     "metadata": {},
     "output_type": "display_data"
    }
   ],
   "source": [
    "px.scatter(x = y_test, y = y_pred, color = abs(y_test-y_pred)/y_pred,\n",
    "           title = 'Actual price vs Predicted Price', \n",
    "           labels ={'x': 'Actual', 'y': 'Predict', 'color': 'relative absolute error'})\n",
    "\n",
    "\n"
   ]
  },
  {
   "cell_type": "code",
   "execution_count": 644,
   "metadata": {},
   "outputs": [
    {
     "data": {
      "application/vnd.plotly.v1+json": {
       "config": {
        "plotlyServerURL": "https://plot.ly"
       },
       "data": [
        {
         "alignmentgroup": "True",
         "bingroup": "x",
         "hovertemplate": "variable=price<br>value=%{x}<br>count=%{y}<extra></extra>",
         "legendgroup": "price",
         "marker": {
          "color": "#636efa",
          "pattern": {
           "shape": ""
          }
         },
         "name": "price",
         "offsetgroup": "price",
         "orientation": "v",
         "showlegend": true,
         "type": "histogram",
         "x": [
          -184.04443359375,
          5639.978515625,
          -11618.81640625,
          -13333.666015625,
          -80.548828125,
          4809.068359375,
          -4611.83984375,
          -11787.44140625,
          3541.154296875,
          748.927734375,
          -597.29296875,
          -1256.4990234375,
          51.43359375,
          -164.41796875,
          -1079.376953125,
          -11416.52734375,
          8256.3046875,
          -3716.634765625,
          -7868.49609375,
          -904.98046875,
          1153.361328125,
          3942.251953125,
          -4193.466796875,
          26711.99658203125,
          -4786.421875,
          1345.8291015625,
          -3946.4814453125,
          1146.35546875,
          -3884.9296875,
          -316.4423828125,
          1879.1171875,
          1395.75,
          3171.23828125,
          -13864.58984375,
          487.5908203125,
          534.408203125,
          -13557.486328125,
          692.285888671875,
          5867.361328125,
          -6599.6484375,
          -669.48095703125,
          3421.92578125,
          -190.029052734375,
          -2348.1484375,
          -6471.240234375,
          218.1845703125,
          -10125.384765625,
          -415.2783203125,
          1262.677734375,
          -4889.671875,
          -18826.84765625,
          -6535.47265625,
          3302.744140625,
          -939.37255859375,
          3394.77734375,
          -3050.08984375,
          -4610.619140625,
          -485.25390625,
          -1291.568359375,
          -5108.6533203125,
          -6.658203125,
          83.15234375,
          3528.38671875,
          -1521.748046875,
          -3957.599609375,
          -1652.76025390625,
          110.4296875,
          127.56640625,
          -338.083984375,
          -2859.625,
          17148.54296875,
          9595.3125,
          -836.173828125,
          5158.373046875,
          45473.0498046875,
          2182.62939453125,
          4750.326171875,
          1249.26171875,
          36.515625,
          -12195.87890625,
          2620.916015625,
          -3343.23828125,
          -3580.322265625,
          790.72021484375,
          -1364.59716796875,
          -5908.744140625,
          79.15349578857422,
          4979.822265625,
          -407.619140625,
          5835.0546875,
          -3393.625,
          -2535.9609375,
          3250.7294921875,
          2086.189453125,
          361.70166015625,
          -7438.19140625,
          -197.771484375,
          -4404.642578125,
          712.8994140625,
          -5876.53515625,
          212.80078125,
          303.052734375,
          -82.796875,
          2040.7626953125,
          -26426.60546875,
          -427.1611328125,
          -22.4404296875,
          3363.421875,
          -1635.2119140625,
          -660.53515625,
          -1032.150390625,
          922.13671875,
          -14109.796875,
          -140.029052734375,
          5747.8671875,
          2504.7265625,
          353.240234375,
          -14570.6796875,
          296.1953125,
          469.11962890625,
          2640.16796875,
          694.240234375,
          1818.2734375,
          335.001953125,
          -3843.796875,
          198.60546875,
          5154.076171875,
          729.755859375,
          1623.76171875,
          -4879.3251953125,
          2596.37890625,
          4387.3125,
          590.064453125,
          2886.193359375,
          1059.376953125,
          7940.087890625,
          -2312.787109375,
          -125.1162109375,
          798.70703125,
          -5028.7734375,
          -853.24609375,
          -1274.345703125,
          -2784.0625,
          3495.75537109375,
          1236.365234375,
          248.283203125,
          -5502.2880859375,
          573.224365234375,
          -1141.669921875,
          2347.646240234375,
          -8322.455078125,
          -1543.7275390625,
          -7543.02734375,
          974.435546875,
          7588.935546875,
          890.265625,
          5002.3187255859375,
          -3145.955078125,
          1057.4453125,
          -5418.3984375,
          9322.142578125,
          -894.2138671875,
          -12798.17578125,
          6938.71484375,
          -11621,
          -2591.5859375,
          -103.927734375,
          966.2136535644531,
          1529.9931640625,
          -1847.091796875,
          0.853515625,
          -6398.998046875,
          514.77734375,
          -357.53515625,
          3128.3994140625,
          -1426.80078125,
          -1753.611572265625,
          -869.59375,
          -8547.9501953125,
          2824.01318359375,
          -27.94921875,
          13354.580078125,
          -670.326171875,
          -11611.806640625,
          -821.779296875,
          11326.26171875,
          -4066.671875,
          -1130.11328125,
          2295.361328125,
          -1835.474609375,
          1896.091796875,
          1316.068359375,
          -5844.96240234375,
          -833.45703125,
          1266.5947265625,
          -2389.421875,
          -3132.625,
          -7675.703125,
          26386.75390625,
          14543.875,
          -2374.41015625,
          684.763671875,
          -4432.515625,
          2041.763671875,
          -6899.291015625,
          525.9140625,
          -4080.318359375,
          -6991.494140625,
          6119.60546875,
          -845.01953125,
          -215.5810546875,
          -1440.05029296875,
          -3559.51171875,
          -10518.9267578125,
          -81.16015625,
          -14095.552734375,
          21711.865234375,
          -3141.490234375,
          -1664.9853515625,
          205.326171875,
          474.509765625,
          -3273.736572265625,
          -1387.8623046875,
          211.564453125,
          -3744.4091796875,
          -504.7177734375,
          8932.94140625,
          -3859.625,
          7953.7841796875,
          -11211.79296875,
          -3438.83203125,
          706.7890625,
          1701.546875,
          390.1015625,
          11418.767578125,
          -4953.529296875,
          -2668.1767578125,
          16481.51251220703,
          -5080.4755859375,
          -938.94921875,
          -931.134765625,
          7427.8505859375,
          8138.107421875,
          2600.6796875,
          -436.83203125,
          -100.814453125,
          -9812.0283203125,
          -10216.859375,
          1137.7626953125,
          20534.03515625,
          -326.1806640625,
          3756.248046875,
          -2389.421875,
          -2479.6484375,
          -2601.166015625,
          -694.515625,
          -1858.17724609375,
          -1989.35498046875,
          -10110.14453125,
          99.048828125,
          536.8828125,
          5314.20703125,
          -2326.974609375,
          279.208984375,
          -720.15625,
          2451.5673828125,
          -1307.20849609375,
          6666.783203125,
          720.86279296875,
          -2997.26171875,
          1485.724609375,
          -1995.634765625,
          -4458.20703125,
          2065.798828125,
          1431.416015625,
          6108.2734375,
          -1283.349609375,
          -1483.0625,
          12400.6044921875,
          -507.931640625,
          10692.640869140625,
          126.916015625,
          592.6171875,
          5066.8984375,
          904.034912109375,
          -297.8388671875,
          -5655.162109375,
          -6890.8125,
          1811.615234375,
          -347.927734375,
          1340.625,
          5791.244140625,
          2230.7744140625,
          -148.365234375,
          -7589.7421875,
          3161.611328125,
          -143.947265625,
          -2992.3154296875,
          3106.2470703125,
          1564.6953125,
          15790.13671875,
          -145.123046875,
          1012.80859375,
          -2660.1328125,
          -198.8095703125,
          4773.064453125,
          916.546875,
          -4481.857421875,
          -3396.044921875,
          -3807.52734375,
          -366.8056640625,
          -9033.15234375,
          -10744.08984375,
          -1392.40234375,
          -9222.796875,
          9675.6923828125,
          333.44921875,
          91.302734375,
          -279.5634765625,
          -1911.66015625,
          -308.490234375,
          -1066.84765625,
          -4552.0478515625,
          1697.130859375,
          4096.4609375,
          -1837.0283203125,
          -3836.09228515625,
          413.892578125,
          -7270.537109375,
          14120.939453125,
          2038.73828125,
          1926.65234375,
          5512.958984375,
          -42.0703125,
          -973.3193359375,
          -189.9013671875,
          -401.6416015625,
          1623.982421875,
          -6192.505859375,
          39662.240234375,
          9445.4541015625,
          584.3564453125,
          -1546.75390625,
          -1259.341796875,
          181.70703125,
          7751.529296875,
          3444.4501953125,
          575.72265625,
          -6461.849609375,
          -12190.5078125,
          273.2265625,
          334.609375,
          -865.671875,
          -4490.169921875,
          -746.623046875,
          15623.25,
          -2252.955078125,
          1406.326171875,
          7306.595703125,
          -74.0078125,
          -1275.025390625,
          1800.0576171875,
          7580.15234375,
          1809.0771484375,
          101.24609375,
          1421.4140625,
          336.1904296875,
          -925.0703125,
          -1100.46875,
          -1151.37109375,
          17025.21875,
          -274.0078125,
          9301,
          2637.271484375,
          -1921.6611328125,
          -1321.2421875,
          402.958984375,
          3092.931640625,
          25769.5390625,
          -7889.251953125,
          -2407.525390625,
          7393.658203125,
          5194.1650390625,
          -6892.1865234375,
          1895.591796875,
          9483.015625,
          11410.646484375,
          62.458984375,
          262.8115234375,
          636.671875,
          3145.798828125,
          3461.212890625,
          1033.244140625,
          -2341.609375,
          -13.05078125,
          147.224609375,
          20841.44921875,
          -7015.130859375,
          -2441.857421875,
          -8221.5791015625,
          418.85888671875,
          10192.5703125,
          -3312.54443359375,
          -1243.9921875,
          -7056.359375,
          -419.880859375,
          3340.5234375,
          1206.55078125,
          10071.15966796875,
          483.99658203125,
          -6615.296875,
          939.34375,
          -119.568359375,
          -13354.791015625,
          1826.22265625,
          -3548.7509765625,
          5438.03125,
          1416.2919921875,
          -1918.8203125,
          -7462.7265625,
          1516.837890625,
          2280.71337890625,
          889.875,
          -1852.447265625,
          494.412109375,
          7319.99609375,
          -2554.2783203125,
          2010.080078125,
          -671.828125,
          1035.53125,
          -1534.923828125,
          -3053.6640625,
          -4375.259765625,
          2929.10546875,
          1101.8369140625,
          6320.58984375,
          -2068.548828125,
          -11432.94921875,
          2947.087890625,
          3571.173828125,
          -1969.88671875,
          -164.41796875,
          -1810.4296875,
          -593.71484375,
          -697.8955078125,
          -840.1845703125,
          -2834.0517578125,
          -225.6005859375,
          341.3487548828125,
          2660.4091796875,
          2346.47265625,
          -1587.9619140625,
          1025.689453125,
          1288.193359375,
          -2858.6181640625,
          98.595703125,
          2808.71875,
          -3254.03515625,
          -12705.15234375,
          -9093.0732421875,
          6419.76171875,
          660.982421875,
          3289.103515625,
          -1644.419921875,
          4783.50390625,
          908.9921875,
          -1276.162109375,
          2368.482421875,
          -1078.134765625,
          3803.765625,
          -5594.5927734375,
          3840.4921875,
          -9680.423828125,
          790.384765625,
          2253.3408203125,
          -860.53515625,
          5611.546875,
          -2439.71875,
          -1020.05859375,
          -358.25,
          -1301.107421875,
          -2772.146484375,
          660.765625,
          -1386.88671875,
          632.03125,
          2783.2021484375
         ],
         "xaxis": "x",
         "yaxis": "y"
        }
       ],
       "layout": {
        "barmode": "relative",
        "legend": {
         "title": {
          "text": "variable"
         },
         "tracegroupgap": 0
        },
        "template": {
         "data": {
          "bar": [
           {
            "error_x": {
             "color": "#2a3f5f"
            },
            "error_y": {
             "color": "#2a3f5f"
            },
            "marker": {
             "line": {
              "color": "#E5ECF6",
              "width": 0.5
             },
             "pattern": {
              "fillmode": "overlay",
              "size": 10,
              "solidity": 0.2
             }
            },
            "type": "bar"
           }
          ],
          "barpolar": [
           {
            "marker": {
             "line": {
              "color": "#E5ECF6",
              "width": 0.5
             },
             "pattern": {
              "fillmode": "overlay",
              "size": 10,
              "solidity": 0.2
             }
            },
            "type": "barpolar"
           }
          ],
          "carpet": [
           {
            "aaxis": {
             "endlinecolor": "#2a3f5f",
             "gridcolor": "white",
             "linecolor": "white",
             "minorgridcolor": "white",
             "startlinecolor": "#2a3f5f"
            },
            "baxis": {
             "endlinecolor": "#2a3f5f",
             "gridcolor": "white",
             "linecolor": "white",
             "minorgridcolor": "white",
             "startlinecolor": "#2a3f5f"
            },
            "type": "carpet"
           }
          ],
          "choropleth": [
           {
            "colorbar": {
             "outlinewidth": 0,
             "ticks": ""
            },
            "type": "choropleth"
           }
          ],
          "contour": [
           {
            "colorbar": {
             "outlinewidth": 0,
             "ticks": ""
            },
            "colorscale": [
             [
              0,
              "#0d0887"
             ],
             [
              0.1111111111111111,
              "#46039f"
             ],
             [
              0.2222222222222222,
              "#7201a8"
             ],
             [
              0.3333333333333333,
              "#9c179e"
             ],
             [
              0.4444444444444444,
              "#bd3786"
             ],
             [
              0.5555555555555556,
              "#d8576b"
             ],
             [
              0.6666666666666666,
              "#ed7953"
             ],
             [
              0.7777777777777778,
              "#fb9f3a"
             ],
             [
              0.8888888888888888,
              "#fdca26"
             ],
             [
              1,
              "#f0f921"
             ]
            ],
            "type": "contour"
           }
          ],
          "contourcarpet": [
           {
            "colorbar": {
             "outlinewidth": 0,
             "ticks": ""
            },
            "type": "contourcarpet"
           }
          ],
          "heatmap": [
           {
            "colorbar": {
             "outlinewidth": 0,
             "ticks": ""
            },
            "colorscale": [
             [
              0,
              "#0d0887"
             ],
             [
              0.1111111111111111,
              "#46039f"
             ],
             [
              0.2222222222222222,
              "#7201a8"
             ],
             [
              0.3333333333333333,
              "#9c179e"
             ],
             [
              0.4444444444444444,
              "#bd3786"
             ],
             [
              0.5555555555555556,
              "#d8576b"
             ],
             [
              0.6666666666666666,
              "#ed7953"
             ],
             [
              0.7777777777777778,
              "#fb9f3a"
             ],
             [
              0.8888888888888888,
              "#fdca26"
             ],
             [
              1,
              "#f0f921"
             ]
            ],
            "type": "heatmap"
           }
          ],
          "heatmapgl": [
           {
            "colorbar": {
             "outlinewidth": 0,
             "ticks": ""
            },
            "colorscale": [
             [
              0,
              "#0d0887"
             ],
             [
              0.1111111111111111,
              "#46039f"
             ],
             [
              0.2222222222222222,
              "#7201a8"
             ],
             [
              0.3333333333333333,
              "#9c179e"
             ],
             [
              0.4444444444444444,
              "#bd3786"
             ],
             [
              0.5555555555555556,
              "#d8576b"
             ],
             [
              0.6666666666666666,
              "#ed7953"
             ],
             [
              0.7777777777777778,
              "#fb9f3a"
             ],
             [
              0.8888888888888888,
              "#fdca26"
             ],
             [
              1,
              "#f0f921"
             ]
            ],
            "type": "heatmapgl"
           }
          ],
          "histogram": [
           {
            "marker": {
             "pattern": {
              "fillmode": "overlay",
              "size": 10,
              "solidity": 0.2
             }
            },
            "type": "histogram"
           }
          ],
          "histogram2d": [
           {
            "colorbar": {
             "outlinewidth": 0,
             "ticks": ""
            },
            "colorscale": [
             [
              0,
              "#0d0887"
             ],
             [
              0.1111111111111111,
              "#46039f"
             ],
             [
              0.2222222222222222,
              "#7201a8"
             ],
             [
              0.3333333333333333,
              "#9c179e"
             ],
             [
              0.4444444444444444,
              "#bd3786"
             ],
             [
              0.5555555555555556,
              "#d8576b"
             ],
             [
              0.6666666666666666,
              "#ed7953"
             ],
             [
              0.7777777777777778,
              "#fb9f3a"
             ],
             [
              0.8888888888888888,
              "#fdca26"
             ],
             [
              1,
              "#f0f921"
             ]
            ],
            "type": "histogram2d"
           }
          ],
          "histogram2dcontour": [
           {
            "colorbar": {
             "outlinewidth": 0,
             "ticks": ""
            },
            "colorscale": [
             [
              0,
              "#0d0887"
             ],
             [
              0.1111111111111111,
              "#46039f"
             ],
             [
              0.2222222222222222,
              "#7201a8"
             ],
             [
              0.3333333333333333,
              "#9c179e"
             ],
             [
              0.4444444444444444,
              "#bd3786"
             ],
             [
              0.5555555555555556,
              "#d8576b"
             ],
             [
              0.6666666666666666,
              "#ed7953"
             ],
             [
              0.7777777777777778,
              "#fb9f3a"
             ],
             [
              0.8888888888888888,
              "#fdca26"
             ],
             [
              1,
              "#f0f921"
             ]
            ],
            "type": "histogram2dcontour"
           }
          ],
          "mesh3d": [
           {
            "colorbar": {
             "outlinewidth": 0,
             "ticks": ""
            },
            "type": "mesh3d"
           }
          ],
          "parcoords": [
           {
            "line": {
             "colorbar": {
              "outlinewidth": 0,
              "ticks": ""
             }
            },
            "type": "parcoords"
           }
          ],
          "pie": [
           {
            "automargin": true,
            "type": "pie"
           }
          ],
          "scatter": [
           {
            "marker": {
             "colorbar": {
              "outlinewidth": 0,
              "ticks": ""
             }
            },
            "type": "scatter"
           }
          ],
          "scatter3d": [
           {
            "line": {
             "colorbar": {
              "outlinewidth": 0,
              "ticks": ""
             }
            },
            "marker": {
             "colorbar": {
              "outlinewidth": 0,
              "ticks": ""
             }
            },
            "type": "scatter3d"
           }
          ],
          "scattercarpet": [
           {
            "marker": {
             "colorbar": {
              "outlinewidth": 0,
              "ticks": ""
             }
            },
            "type": "scattercarpet"
           }
          ],
          "scattergeo": [
           {
            "marker": {
             "colorbar": {
              "outlinewidth": 0,
              "ticks": ""
             }
            },
            "type": "scattergeo"
           }
          ],
          "scattergl": [
           {
            "marker": {
             "colorbar": {
              "outlinewidth": 0,
              "ticks": ""
             }
            },
            "type": "scattergl"
           }
          ],
          "scattermapbox": [
           {
            "marker": {
             "colorbar": {
              "outlinewidth": 0,
              "ticks": ""
             }
            },
            "type": "scattermapbox"
           }
          ],
          "scatterpolar": [
           {
            "marker": {
             "colorbar": {
              "outlinewidth": 0,
              "ticks": ""
             }
            },
            "type": "scatterpolar"
           }
          ],
          "scatterpolargl": [
           {
            "marker": {
             "colorbar": {
              "outlinewidth": 0,
              "ticks": ""
             }
            },
            "type": "scatterpolargl"
           }
          ],
          "scatterternary": [
           {
            "marker": {
             "colorbar": {
              "outlinewidth": 0,
              "ticks": ""
             }
            },
            "type": "scatterternary"
           }
          ],
          "surface": [
           {
            "colorbar": {
             "outlinewidth": 0,
             "ticks": ""
            },
            "colorscale": [
             [
              0,
              "#0d0887"
             ],
             [
              0.1111111111111111,
              "#46039f"
             ],
             [
              0.2222222222222222,
              "#7201a8"
             ],
             [
              0.3333333333333333,
              "#9c179e"
             ],
             [
              0.4444444444444444,
              "#bd3786"
             ],
             [
              0.5555555555555556,
              "#d8576b"
             ],
             [
              0.6666666666666666,
              "#ed7953"
             ],
             [
              0.7777777777777778,
              "#fb9f3a"
             ],
             [
              0.8888888888888888,
              "#fdca26"
             ],
             [
              1,
              "#f0f921"
             ]
            ],
            "type": "surface"
           }
          ],
          "table": [
           {
            "cells": {
             "fill": {
              "color": "#EBF0F8"
             },
             "line": {
              "color": "white"
             }
            },
            "header": {
             "fill": {
              "color": "#C8D4E3"
             },
             "line": {
              "color": "white"
             }
            },
            "type": "table"
           }
          ]
         },
         "layout": {
          "annotationdefaults": {
           "arrowcolor": "#2a3f5f",
           "arrowhead": 0,
           "arrowwidth": 1
          },
          "autotypenumbers": "strict",
          "coloraxis": {
           "colorbar": {
            "outlinewidth": 0,
            "ticks": ""
           }
          },
          "colorscale": {
           "diverging": [
            [
             0,
             "#8e0152"
            ],
            [
             0.1,
             "#c51b7d"
            ],
            [
             0.2,
             "#de77ae"
            ],
            [
             0.3,
             "#f1b6da"
            ],
            [
             0.4,
             "#fde0ef"
            ],
            [
             0.5,
             "#f7f7f7"
            ],
            [
             0.6,
             "#e6f5d0"
            ],
            [
             0.7,
             "#b8e186"
            ],
            [
             0.8,
             "#7fbc41"
            ],
            [
             0.9,
             "#4d9221"
            ],
            [
             1,
             "#276419"
            ]
           ],
           "sequential": [
            [
             0,
             "#0d0887"
            ],
            [
             0.1111111111111111,
             "#46039f"
            ],
            [
             0.2222222222222222,
             "#7201a8"
            ],
            [
             0.3333333333333333,
             "#9c179e"
            ],
            [
             0.4444444444444444,
             "#bd3786"
            ],
            [
             0.5555555555555556,
             "#d8576b"
            ],
            [
             0.6666666666666666,
             "#ed7953"
            ],
            [
             0.7777777777777778,
             "#fb9f3a"
            ],
            [
             0.8888888888888888,
             "#fdca26"
            ],
            [
             1,
             "#f0f921"
            ]
           ],
           "sequentialminus": [
            [
             0,
             "#0d0887"
            ],
            [
             0.1111111111111111,
             "#46039f"
            ],
            [
             0.2222222222222222,
             "#7201a8"
            ],
            [
             0.3333333333333333,
             "#9c179e"
            ],
            [
             0.4444444444444444,
             "#bd3786"
            ],
            [
             0.5555555555555556,
             "#d8576b"
            ],
            [
             0.6666666666666666,
             "#ed7953"
            ],
            [
             0.7777777777777778,
             "#fb9f3a"
            ],
            [
             0.8888888888888888,
             "#fdca26"
            ],
            [
             1,
             "#f0f921"
            ]
           ]
          },
          "colorway": [
           "#636efa",
           "#EF553B",
           "#00cc96",
           "#ab63fa",
           "#FFA15A",
           "#19d3f3",
           "#FF6692",
           "#B6E880",
           "#FF97FF",
           "#FECB52"
          ],
          "font": {
           "color": "#2a3f5f"
          },
          "geo": {
           "bgcolor": "white",
           "lakecolor": "white",
           "landcolor": "#E5ECF6",
           "showlakes": true,
           "showland": true,
           "subunitcolor": "white"
          },
          "hoverlabel": {
           "align": "left"
          },
          "hovermode": "closest",
          "mapbox": {
           "style": "light"
          },
          "paper_bgcolor": "white",
          "plot_bgcolor": "#E5ECF6",
          "polar": {
           "angularaxis": {
            "gridcolor": "white",
            "linecolor": "white",
            "ticks": ""
           },
           "bgcolor": "#E5ECF6",
           "radialaxis": {
            "gridcolor": "white",
            "linecolor": "white",
            "ticks": ""
           }
          },
          "scene": {
           "xaxis": {
            "backgroundcolor": "#E5ECF6",
            "gridcolor": "white",
            "gridwidth": 2,
            "linecolor": "white",
            "showbackground": true,
            "ticks": "",
            "zerolinecolor": "white"
           },
           "yaxis": {
            "backgroundcolor": "#E5ECF6",
            "gridcolor": "white",
            "gridwidth": 2,
            "linecolor": "white",
            "showbackground": true,
            "ticks": "",
            "zerolinecolor": "white"
           },
           "zaxis": {
            "backgroundcolor": "#E5ECF6",
            "gridcolor": "white",
            "gridwidth": 2,
            "linecolor": "white",
            "showbackground": true,
            "ticks": "",
            "zerolinecolor": "white"
           }
          },
          "shapedefaults": {
           "line": {
            "color": "#2a3f5f"
           }
          },
          "ternary": {
           "aaxis": {
            "gridcolor": "white",
            "linecolor": "white",
            "ticks": ""
           },
           "baxis": {
            "gridcolor": "white",
            "linecolor": "white",
            "ticks": ""
           },
           "bgcolor": "#E5ECF6",
           "caxis": {
            "gridcolor": "white",
            "linecolor": "white",
            "ticks": ""
           }
          },
          "title": {
           "x": 0.05
          },
          "xaxis": {
           "automargin": true,
           "gridcolor": "white",
           "linecolor": "white",
           "ticks": "",
           "title": {
            "standoff": 15
           },
           "zerolinecolor": "white",
           "zerolinewidth": 2
          },
          "yaxis": {
           "automargin": true,
           "gridcolor": "white",
           "linecolor": "white",
           "ticks": "",
           "title": {
            "standoff": 15
           },
           "zerolinecolor": "white",
           "zerolinewidth": 2
          }
         }
        },
        "title": {
         "text": "Error distribution (Actual- prediction)"
        },
        "xaxis": {
         "anchor": "y",
         "domain": [
          0,
          1
         ],
         "title": {
          "text": "value"
         }
        },
        "yaxis": {
         "anchor": "x",
         "domain": [
          0,
          1
         ],
         "title": {
          "text": "count"
         }
        }
       }
      },
      "text/html": [
       "<div>                            <div id=\"d47c5456-e0e1-49eb-9efe-e648376bdd35\" class=\"plotly-graph-div\" style=\"height:525px; width:100%;\"></div>            <script type=\"text/javascript\">                require([\"plotly\"], function(Plotly) {                    window.PLOTLYENV=window.PLOTLYENV || {};                                    if (document.getElementById(\"d47c5456-e0e1-49eb-9efe-e648376bdd35\")) {                    Plotly.newPlot(                        \"d47c5456-e0e1-49eb-9efe-e648376bdd35\",                        [{\"alignmentgroup\":\"True\",\"bingroup\":\"x\",\"hovertemplate\":\"variable=price<br>value=%{x}<br>count=%{y}<extra></extra>\",\"legendgroup\":\"price\",\"marker\":{\"color\":\"#636efa\",\"pattern\":{\"shape\":\"\"}},\"name\":\"price\",\"offsetgroup\":\"price\",\"orientation\":\"v\",\"showlegend\":true,\"x\":[-184.04443359375,5639.978515625,-11618.81640625,-13333.666015625,-80.548828125,4809.068359375,-4611.83984375,-11787.44140625,3541.154296875,748.927734375,-597.29296875,-1256.4990234375,51.43359375,-164.41796875,-1079.376953125,-11416.52734375,8256.3046875,-3716.634765625,-7868.49609375,-904.98046875,1153.361328125,3942.251953125,-4193.466796875,26711.99658203125,-4786.421875,1345.8291015625,-3946.4814453125,1146.35546875,-3884.9296875,-316.4423828125,1879.1171875,1395.75,3171.23828125,-13864.58984375,487.5908203125,534.408203125,-13557.486328125,692.285888671875,5867.361328125,-6599.6484375,-669.48095703125,3421.92578125,-190.029052734375,-2348.1484375,-6471.240234375,218.1845703125,-10125.384765625,-415.2783203125,1262.677734375,-4889.671875,-18826.84765625,-6535.47265625,3302.744140625,-939.37255859375,3394.77734375,-3050.08984375,-4610.619140625,-485.25390625,-1291.568359375,-5108.6533203125,-6.658203125,83.15234375,3528.38671875,-1521.748046875,-3957.599609375,-1652.76025390625,110.4296875,127.56640625,-338.083984375,-2859.625,17148.54296875,9595.3125,-836.173828125,5158.373046875,45473.0498046875,2182.62939453125,4750.326171875,1249.26171875,36.515625,-12195.87890625,2620.916015625,-3343.23828125,-3580.322265625,790.72021484375,-1364.59716796875,-5908.744140625,79.15349578857422,4979.822265625,-407.619140625,5835.0546875,-3393.625,-2535.9609375,3250.7294921875,2086.189453125,361.70166015625,-7438.19140625,-197.771484375,-4404.642578125,712.8994140625,-5876.53515625,212.80078125,303.052734375,-82.796875,2040.7626953125,-26426.60546875,-427.1611328125,-22.4404296875,3363.421875,-1635.2119140625,-660.53515625,-1032.150390625,922.13671875,-14109.796875,-140.029052734375,5747.8671875,2504.7265625,353.240234375,-14570.6796875,296.1953125,469.11962890625,2640.16796875,694.240234375,1818.2734375,335.001953125,-3843.796875,198.60546875,5154.076171875,729.755859375,1623.76171875,-4879.3251953125,2596.37890625,4387.3125,590.064453125,2886.193359375,1059.376953125,7940.087890625,-2312.787109375,-125.1162109375,798.70703125,-5028.7734375,-853.24609375,-1274.345703125,-2784.0625,3495.75537109375,1236.365234375,248.283203125,-5502.2880859375,573.224365234375,-1141.669921875,2347.646240234375,-8322.455078125,-1543.7275390625,-7543.02734375,974.435546875,7588.935546875,890.265625,5002.3187255859375,-3145.955078125,1057.4453125,-5418.3984375,9322.142578125,-894.2138671875,-12798.17578125,6938.71484375,-11621.0,-2591.5859375,-103.927734375,966.2136535644531,1529.9931640625,-1847.091796875,0.853515625,-6398.998046875,514.77734375,-357.53515625,3128.3994140625,-1426.80078125,-1753.611572265625,-869.59375,-8547.9501953125,2824.01318359375,-27.94921875,13354.580078125,-670.326171875,-11611.806640625,-821.779296875,11326.26171875,-4066.671875,-1130.11328125,2295.361328125,-1835.474609375,1896.091796875,1316.068359375,-5844.96240234375,-833.45703125,1266.5947265625,-2389.421875,-3132.625,-7675.703125,26386.75390625,14543.875,-2374.41015625,684.763671875,-4432.515625,2041.763671875,-6899.291015625,525.9140625,-4080.318359375,-6991.494140625,6119.60546875,-845.01953125,-215.5810546875,-1440.05029296875,-3559.51171875,-10518.9267578125,-81.16015625,-14095.552734375,21711.865234375,-3141.490234375,-1664.9853515625,205.326171875,474.509765625,-3273.736572265625,-1387.8623046875,211.564453125,-3744.4091796875,-504.7177734375,8932.94140625,-3859.625,7953.7841796875,-11211.79296875,-3438.83203125,706.7890625,1701.546875,390.1015625,11418.767578125,-4953.529296875,-2668.1767578125,16481.51251220703,-5080.4755859375,-938.94921875,-931.134765625,7427.8505859375,8138.107421875,2600.6796875,-436.83203125,-100.814453125,-9812.0283203125,-10216.859375,1137.7626953125,20534.03515625,-326.1806640625,3756.248046875,-2389.421875,-2479.6484375,-2601.166015625,-694.515625,-1858.17724609375,-1989.35498046875,-10110.14453125,99.048828125,536.8828125,5314.20703125,-2326.974609375,279.208984375,-720.15625,2451.5673828125,-1307.20849609375,6666.783203125,720.86279296875,-2997.26171875,1485.724609375,-1995.634765625,-4458.20703125,2065.798828125,1431.416015625,6108.2734375,-1283.349609375,-1483.0625,12400.6044921875,-507.931640625,10692.640869140625,126.916015625,592.6171875,5066.8984375,904.034912109375,-297.8388671875,-5655.162109375,-6890.8125,1811.615234375,-347.927734375,1340.625,5791.244140625,2230.7744140625,-148.365234375,-7589.7421875,3161.611328125,-143.947265625,-2992.3154296875,3106.2470703125,1564.6953125,15790.13671875,-145.123046875,1012.80859375,-2660.1328125,-198.8095703125,4773.064453125,916.546875,-4481.857421875,-3396.044921875,-3807.52734375,-366.8056640625,-9033.15234375,-10744.08984375,-1392.40234375,-9222.796875,9675.6923828125,333.44921875,91.302734375,-279.5634765625,-1911.66015625,-308.490234375,-1066.84765625,-4552.0478515625,1697.130859375,4096.4609375,-1837.0283203125,-3836.09228515625,413.892578125,-7270.537109375,14120.939453125,2038.73828125,1926.65234375,5512.958984375,-42.0703125,-973.3193359375,-189.9013671875,-401.6416015625,1623.982421875,-6192.505859375,39662.240234375,9445.4541015625,584.3564453125,-1546.75390625,-1259.341796875,181.70703125,7751.529296875,3444.4501953125,575.72265625,-6461.849609375,-12190.5078125,273.2265625,334.609375,-865.671875,-4490.169921875,-746.623046875,15623.25,-2252.955078125,1406.326171875,7306.595703125,-74.0078125,-1275.025390625,1800.0576171875,7580.15234375,1809.0771484375,101.24609375,1421.4140625,336.1904296875,-925.0703125,-1100.46875,-1151.37109375,17025.21875,-274.0078125,9301.0,2637.271484375,-1921.6611328125,-1321.2421875,402.958984375,3092.931640625,25769.5390625,-7889.251953125,-2407.525390625,7393.658203125,5194.1650390625,-6892.1865234375,1895.591796875,9483.015625,11410.646484375,62.458984375,262.8115234375,636.671875,3145.798828125,3461.212890625,1033.244140625,-2341.609375,-13.05078125,147.224609375,20841.44921875,-7015.130859375,-2441.857421875,-8221.5791015625,418.85888671875,10192.5703125,-3312.54443359375,-1243.9921875,-7056.359375,-419.880859375,3340.5234375,1206.55078125,10071.15966796875,483.99658203125,-6615.296875,939.34375,-119.568359375,-13354.791015625,1826.22265625,-3548.7509765625,5438.03125,1416.2919921875,-1918.8203125,-7462.7265625,1516.837890625,2280.71337890625,889.875,-1852.447265625,494.412109375,7319.99609375,-2554.2783203125,2010.080078125,-671.828125,1035.53125,-1534.923828125,-3053.6640625,-4375.259765625,2929.10546875,1101.8369140625,6320.58984375,-2068.548828125,-11432.94921875,2947.087890625,3571.173828125,-1969.88671875,-164.41796875,-1810.4296875,-593.71484375,-697.8955078125,-840.1845703125,-2834.0517578125,-225.6005859375,341.3487548828125,2660.4091796875,2346.47265625,-1587.9619140625,1025.689453125,1288.193359375,-2858.6181640625,98.595703125,2808.71875,-3254.03515625,-12705.15234375,-9093.0732421875,6419.76171875,660.982421875,3289.103515625,-1644.419921875,4783.50390625,908.9921875,-1276.162109375,2368.482421875,-1078.134765625,3803.765625,-5594.5927734375,3840.4921875,-9680.423828125,790.384765625,2253.3408203125,-860.53515625,5611.546875,-2439.71875,-1020.05859375,-358.25,-1301.107421875,-2772.146484375,660.765625,-1386.88671875,632.03125,2783.2021484375],\"xaxis\":\"x\",\"yaxis\":\"y\",\"type\":\"histogram\"}],                        {\"template\":{\"data\":{\"bar\":[{\"error_x\":{\"color\":\"#2a3f5f\"},\"error_y\":{\"color\":\"#2a3f5f\"},\"marker\":{\"line\":{\"color\":\"#E5ECF6\",\"width\":0.5},\"pattern\":{\"fillmode\":\"overlay\",\"size\":10,\"solidity\":0.2}},\"type\":\"bar\"}],\"barpolar\":[{\"marker\":{\"line\":{\"color\":\"#E5ECF6\",\"width\":0.5},\"pattern\":{\"fillmode\":\"overlay\",\"size\":10,\"solidity\":0.2}},\"type\":\"barpolar\"}],\"carpet\":[{\"aaxis\":{\"endlinecolor\":\"#2a3f5f\",\"gridcolor\":\"white\",\"linecolor\":\"white\",\"minorgridcolor\":\"white\",\"startlinecolor\":\"#2a3f5f\"},\"baxis\":{\"endlinecolor\":\"#2a3f5f\",\"gridcolor\":\"white\",\"linecolor\":\"white\",\"minorgridcolor\":\"white\",\"startlinecolor\":\"#2a3f5f\"},\"type\":\"carpet\"}],\"choropleth\":[{\"colorbar\":{\"outlinewidth\":0,\"ticks\":\"\"},\"type\":\"choropleth\"}],\"contour\":[{\"colorbar\":{\"outlinewidth\":0,\"ticks\":\"\"},\"colorscale\":[[0.0,\"#0d0887\"],[0.1111111111111111,\"#46039f\"],[0.2222222222222222,\"#7201a8\"],[0.3333333333333333,\"#9c179e\"],[0.4444444444444444,\"#bd3786\"],[0.5555555555555556,\"#d8576b\"],[0.6666666666666666,\"#ed7953\"],[0.7777777777777778,\"#fb9f3a\"],[0.8888888888888888,\"#fdca26\"],[1.0,\"#f0f921\"]],\"type\":\"contour\"}],\"contourcarpet\":[{\"colorbar\":{\"outlinewidth\":0,\"ticks\":\"\"},\"type\":\"contourcarpet\"}],\"heatmap\":[{\"colorbar\":{\"outlinewidth\":0,\"ticks\":\"\"},\"colorscale\":[[0.0,\"#0d0887\"],[0.1111111111111111,\"#46039f\"],[0.2222222222222222,\"#7201a8\"],[0.3333333333333333,\"#9c179e\"],[0.4444444444444444,\"#bd3786\"],[0.5555555555555556,\"#d8576b\"],[0.6666666666666666,\"#ed7953\"],[0.7777777777777778,\"#fb9f3a\"],[0.8888888888888888,\"#fdca26\"],[1.0,\"#f0f921\"]],\"type\":\"heatmap\"}],\"heatmapgl\":[{\"colorbar\":{\"outlinewidth\":0,\"ticks\":\"\"},\"colorscale\":[[0.0,\"#0d0887\"],[0.1111111111111111,\"#46039f\"],[0.2222222222222222,\"#7201a8\"],[0.3333333333333333,\"#9c179e\"],[0.4444444444444444,\"#bd3786\"],[0.5555555555555556,\"#d8576b\"],[0.6666666666666666,\"#ed7953\"],[0.7777777777777778,\"#fb9f3a\"],[0.8888888888888888,\"#fdca26\"],[1.0,\"#f0f921\"]],\"type\":\"heatmapgl\"}],\"histogram\":[{\"marker\":{\"pattern\":{\"fillmode\":\"overlay\",\"size\":10,\"solidity\":0.2}},\"type\":\"histogram\"}],\"histogram2d\":[{\"colorbar\":{\"outlinewidth\":0,\"ticks\":\"\"},\"colorscale\":[[0.0,\"#0d0887\"],[0.1111111111111111,\"#46039f\"],[0.2222222222222222,\"#7201a8\"],[0.3333333333333333,\"#9c179e\"],[0.4444444444444444,\"#bd3786\"],[0.5555555555555556,\"#d8576b\"],[0.6666666666666666,\"#ed7953\"],[0.7777777777777778,\"#fb9f3a\"],[0.8888888888888888,\"#fdca26\"],[1.0,\"#f0f921\"]],\"type\":\"histogram2d\"}],\"histogram2dcontour\":[{\"colorbar\":{\"outlinewidth\":0,\"ticks\":\"\"},\"colorscale\":[[0.0,\"#0d0887\"],[0.1111111111111111,\"#46039f\"],[0.2222222222222222,\"#7201a8\"],[0.3333333333333333,\"#9c179e\"],[0.4444444444444444,\"#bd3786\"],[0.5555555555555556,\"#d8576b\"],[0.6666666666666666,\"#ed7953\"],[0.7777777777777778,\"#fb9f3a\"],[0.8888888888888888,\"#fdca26\"],[1.0,\"#f0f921\"]],\"type\":\"histogram2dcontour\"}],\"mesh3d\":[{\"colorbar\":{\"outlinewidth\":0,\"ticks\":\"\"},\"type\":\"mesh3d\"}],\"parcoords\":[{\"line\":{\"colorbar\":{\"outlinewidth\":0,\"ticks\":\"\"}},\"type\":\"parcoords\"}],\"pie\":[{\"automargin\":true,\"type\":\"pie\"}],\"scatter\":[{\"marker\":{\"colorbar\":{\"outlinewidth\":0,\"ticks\":\"\"}},\"type\":\"scatter\"}],\"scatter3d\":[{\"line\":{\"colorbar\":{\"outlinewidth\":0,\"ticks\":\"\"}},\"marker\":{\"colorbar\":{\"outlinewidth\":0,\"ticks\":\"\"}},\"type\":\"scatter3d\"}],\"scattercarpet\":[{\"marker\":{\"colorbar\":{\"outlinewidth\":0,\"ticks\":\"\"}},\"type\":\"scattercarpet\"}],\"scattergeo\":[{\"marker\":{\"colorbar\":{\"outlinewidth\":0,\"ticks\":\"\"}},\"type\":\"scattergeo\"}],\"scattergl\":[{\"marker\":{\"colorbar\":{\"outlinewidth\":0,\"ticks\":\"\"}},\"type\":\"scattergl\"}],\"scattermapbox\":[{\"marker\":{\"colorbar\":{\"outlinewidth\":0,\"ticks\":\"\"}},\"type\":\"scattermapbox\"}],\"scatterpolar\":[{\"marker\":{\"colorbar\":{\"outlinewidth\":0,\"ticks\":\"\"}},\"type\":\"scatterpolar\"}],\"scatterpolargl\":[{\"marker\":{\"colorbar\":{\"outlinewidth\":0,\"ticks\":\"\"}},\"type\":\"scatterpolargl\"}],\"scatterternary\":[{\"marker\":{\"colorbar\":{\"outlinewidth\":0,\"ticks\":\"\"}},\"type\":\"scatterternary\"}],\"surface\":[{\"colorbar\":{\"outlinewidth\":0,\"ticks\":\"\"},\"colorscale\":[[0.0,\"#0d0887\"],[0.1111111111111111,\"#46039f\"],[0.2222222222222222,\"#7201a8\"],[0.3333333333333333,\"#9c179e\"],[0.4444444444444444,\"#bd3786\"],[0.5555555555555556,\"#d8576b\"],[0.6666666666666666,\"#ed7953\"],[0.7777777777777778,\"#fb9f3a\"],[0.8888888888888888,\"#fdca26\"],[1.0,\"#f0f921\"]],\"type\":\"surface\"}],\"table\":[{\"cells\":{\"fill\":{\"color\":\"#EBF0F8\"},\"line\":{\"color\":\"white\"}},\"header\":{\"fill\":{\"color\":\"#C8D4E3\"},\"line\":{\"color\":\"white\"}},\"type\":\"table\"}]},\"layout\":{\"annotationdefaults\":{\"arrowcolor\":\"#2a3f5f\",\"arrowhead\":0,\"arrowwidth\":1},\"autotypenumbers\":\"strict\",\"coloraxis\":{\"colorbar\":{\"outlinewidth\":0,\"ticks\":\"\"}},\"colorscale\":{\"diverging\":[[0,\"#8e0152\"],[0.1,\"#c51b7d\"],[0.2,\"#de77ae\"],[0.3,\"#f1b6da\"],[0.4,\"#fde0ef\"],[0.5,\"#f7f7f7\"],[0.6,\"#e6f5d0\"],[0.7,\"#b8e186\"],[0.8,\"#7fbc41\"],[0.9,\"#4d9221\"],[1,\"#276419\"]],\"sequential\":[[0.0,\"#0d0887\"],[0.1111111111111111,\"#46039f\"],[0.2222222222222222,\"#7201a8\"],[0.3333333333333333,\"#9c179e\"],[0.4444444444444444,\"#bd3786\"],[0.5555555555555556,\"#d8576b\"],[0.6666666666666666,\"#ed7953\"],[0.7777777777777778,\"#fb9f3a\"],[0.8888888888888888,\"#fdca26\"],[1.0,\"#f0f921\"]],\"sequentialminus\":[[0.0,\"#0d0887\"],[0.1111111111111111,\"#46039f\"],[0.2222222222222222,\"#7201a8\"],[0.3333333333333333,\"#9c179e\"],[0.4444444444444444,\"#bd3786\"],[0.5555555555555556,\"#d8576b\"],[0.6666666666666666,\"#ed7953\"],[0.7777777777777778,\"#fb9f3a\"],[0.8888888888888888,\"#fdca26\"],[1.0,\"#f0f921\"]]},\"colorway\":[\"#636efa\",\"#EF553B\",\"#00cc96\",\"#ab63fa\",\"#FFA15A\",\"#19d3f3\",\"#FF6692\",\"#B6E880\",\"#FF97FF\",\"#FECB52\"],\"font\":{\"color\":\"#2a3f5f\"},\"geo\":{\"bgcolor\":\"white\",\"lakecolor\":\"white\",\"landcolor\":\"#E5ECF6\",\"showlakes\":true,\"showland\":true,\"subunitcolor\":\"white\"},\"hoverlabel\":{\"align\":\"left\"},\"hovermode\":\"closest\",\"mapbox\":{\"style\":\"light\"},\"paper_bgcolor\":\"white\",\"plot_bgcolor\":\"#E5ECF6\",\"polar\":{\"angularaxis\":{\"gridcolor\":\"white\",\"linecolor\":\"white\",\"ticks\":\"\"},\"bgcolor\":\"#E5ECF6\",\"radialaxis\":{\"gridcolor\":\"white\",\"linecolor\":\"white\",\"ticks\":\"\"}},\"scene\":{\"xaxis\":{\"backgroundcolor\":\"#E5ECF6\",\"gridcolor\":\"white\",\"gridwidth\":2,\"linecolor\":\"white\",\"showbackground\":true,\"ticks\":\"\",\"zerolinecolor\":\"white\"},\"yaxis\":{\"backgroundcolor\":\"#E5ECF6\",\"gridcolor\":\"white\",\"gridwidth\":2,\"linecolor\":\"white\",\"showbackground\":true,\"ticks\":\"\",\"zerolinecolor\":\"white\"},\"zaxis\":{\"backgroundcolor\":\"#E5ECF6\",\"gridcolor\":\"white\",\"gridwidth\":2,\"linecolor\":\"white\",\"showbackground\":true,\"ticks\":\"\",\"zerolinecolor\":\"white\"}},\"shapedefaults\":{\"line\":{\"color\":\"#2a3f5f\"}},\"ternary\":{\"aaxis\":{\"gridcolor\":\"white\",\"linecolor\":\"white\",\"ticks\":\"\"},\"baxis\":{\"gridcolor\":\"white\",\"linecolor\":\"white\",\"ticks\":\"\"},\"bgcolor\":\"#E5ECF6\",\"caxis\":{\"gridcolor\":\"white\",\"linecolor\":\"white\",\"ticks\":\"\"}},\"title\":{\"x\":0.05},\"xaxis\":{\"automargin\":true,\"gridcolor\":\"white\",\"linecolor\":\"white\",\"ticks\":\"\",\"title\":{\"standoff\":15},\"zerolinecolor\":\"white\",\"zerolinewidth\":2},\"yaxis\":{\"automargin\":true,\"gridcolor\":\"white\",\"linecolor\":\"white\",\"ticks\":\"\",\"title\":{\"standoff\":15},\"zerolinecolor\":\"white\",\"zerolinewidth\":2}}},\"xaxis\":{\"anchor\":\"y\",\"domain\":[0.0,1.0],\"title\":{\"text\":\"value\"}},\"yaxis\":{\"anchor\":\"x\",\"domain\":[0.0,1.0],\"title\":{\"text\":\"count\"}},\"legend\":{\"title\":{\"text\":\"variable\"},\"tracegroupgap\":0},\"title\":{\"text\":\"Error distribution (Actual- prediction)\"},\"barmode\":\"relative\"},                        {\"responsive\": true}                    ).then(function(){\n",
       "                            \n",
       "var gd = document.getElementById('d47c5456-e0e1-49eb-9efe-e648376bdd35');\n",
       "var x = new MutationObserver(function (mutations, observer) {{\n",
       "        var display = window.getComputedStyle(gd).display;\n",
       "        if (!display || display === 'none') {{\n",
       "            console.log([gd, 'removed!']);\n",
       "            Plotly.purge(gd);\n",
       "            observer.disconnect();\n",
       "        }}\n",
       "}});\n",
       "\n",
       "// Listen for the removal of the full notebook cells\n",
       "var notebookContainer = gd.closest('#notebook-container');\n",
       "if (notebookContainer) {{\n",
       "    x.observe(notebookContainer, {childList: true});\n",
       "}}\n",
       "\n",
       "// Listen for the clearing of the current output cell\n",
       "var outputEl = gd.closest('.output');\n",
       "if (outputEl) {{\n",
       "    x.observe(outputEl, {childList: true});\n",
       "}}\n",
       "\n",
       "                        })                };                });            </script>        </div>"
      ]
     },
     "metadata": {},
     "output_type": "display_data"
    }
   ],
   "source": [
    "px.histogram(y_test-y_pred, title = 'Error distribution (Actual- prediction)')"
   ]
  },
  {
   "cell_type": "code",
   "execution_count": 645,
   "metadata": {},
   "outputs": [
    {
     "name": "stdout",
     "output_type": "stream",
     "text": [
      " Average Error = y_pred -y_actual =  -83.87768760335788 +/- 290.1598914825135\n"
     ]
    }
   ],
   "source": [
    "print( f' Average Error = y_pred -y_actual =  {np.mean(y_pred-y_test)} +/- {np.sqrt(  np.var(y_pred-y_test)/len(y_test) )}' )\n"
   ]
  },
  {
   "cell_type": "code",
   "execution_count": 646,
   "metadata": {},
   "outputs": [
    {
     "data": {
      "text/html": [
       "<div>\n",
       "<style scoped>\n",
       "    .dataframe tbody tr th:only-of-type {\n",
       "        vertical-align: middle;\n",
       "    }\n",
       "\n",
       "    .dataframe tbody tr th {\n",
       "        vertical-align: top;\n",
       "    }\n",
       "\n",
       "    .dataframe thead th {\n",
       "        text-align: right;\n",
       "    }\n",
       "</style>\n",
       "<table border=\"1\" class=\"dataframe\">\n",
       "  <thead>\n",
       "    <tr style=\"text-align: right;\">\n",
       "      <th></th>\n",
       "      <th>price</th>\n",
       "    </tr>\n",
       "  </thead>\n",
       "  <tbody>\n",
       "    <tr>\n",
       "      <th>count</th>\n",
       "      <td>486.000000</td>\n",
       "    </tr>\n",
       "    <tr>\n",
       "      <th>mean</th>\n",
       "      <td>-83.877688</td>\n",
       "    </tr>\n",
       "    <tr>\n",
       "      <th>std</th>\n",
       "      <td>6403.284235</td>\n",
       "    </tr>\n",
       "    <tr>\n",
       "      <th>min</th>\n",
       "      <td>-45473.049805</td>\n",
       "    </tr>\n",
       "    <tr>\n",
       "      <th>25%</th>\n",
       "      <td>-1891.473145</td>\n",
       "    </tr>\n",
       "    <tr>\n",
       "      <th>50%</th>\n",
       "      <td>81.978516</td>\n",
       "    </tr>\n",
       "    <tr>\n",
       "      <th>75%</th>\n",
       "      <td>2389.421875</td>\n",
       "    </tr>\n",
       "    <tr>\n",
       "      <th>max</th>\n",
       "      <td>26426.605469</td>\n",
       "    </tr>\n",
       "  </tbody>\n",
       "</table>\n",
       "</div>"
      ],
      "text/plain": [
       "              price\n",
       "count    486.000000\n",
       "mean     -83.877688\n",
       "std     6403.284235\n",
       "min   -45473.049805\n",
       "25%    -1891.473145\n",
       "50%       81.978516\n",
       "75%     2389.421875\n",
       "max    26426.605469"
      ]
     },
     "execution_count": 646,
     "metadata": {},
     "output_type": "execute_result"
    }
   ],
   "source": [
    "pd.DataFrame(y_pred-y_test).describe()"
   ]
  },
  {
   "cell_type": "markdown",
   "metadata": {},
   "source": [
    "The average error is close to 0. And 50% of records have an error between -2000 dollars and +2000 dollars."
   ]
  },
  {
   "cell_type": "markdown",
   "metadata": {},
   "source": [
    "# Feature Importance"
   ]
  },
  {
   "cell_type": "code",
   "execution_count": 654,
   "metadata": {},
   "outputs": [
    {
     "data": {
      "application/vnd.plotly.v1+json": {
       "config": {
        "plotlyServerURL": "https://plot.ly"
       },
       "data": [
        {
         "alignmentgroup": "True",
         "hovertemplate": "Feature=%{x}<br>importance=%{y}<extra></extra>",
         "legendgroup": "",
         "marker": {
          "color": "#636efa",
          "pattern": {
           "shape": ""
          }
         },
         "name": "",
         "offsetgroup": "",
         "orientation": "v",
         "showlegend": false,
         "textposition": "auto",
         "type": "bar",
         "x": [
          "model_max",
          "model_expedition",
          "model_srw",
          "model_mpv",
          "brand_nissan",
          "model_durango",
          "model_sl-class",
          "state_ontario",
          "model_suburban",
          "brand_mercedes-benz",
          "model_fiesta",
          "state_kentucky",
          "model_tahoe",
          "title_status_clean vehicle",
          "model_2500",
          "model_f-150",
          "model_3500",
          "model_focus",
          "brand_bmw",
          "model_drw",
          "state_michigan",
          "model_fusion",
          "model_1500",
          "state_alabama",
          "model_escape",
          "model_discovery",
          "brand_harley-davidson",
          "model_doors",
          "model_caravan",
          "brand_hyundai",
          "brand_lexus",
          "model_challenger",
          "model_journey",
          "model_corvette",
          "state_north carolina",
          "model_f-650",
          "state_washington",
          "model_trax",
          "state_texas",
          "mileage",
          "state_illinois",
          "model_explorer",
          "brand_honda",
          "color_no_color",
          "brand_audi",
          "model_malibu",
          "model_m",
          "brand_jaguar",
          "brand_kia",
          "model_5",
          "state_mississippi",
          "model_armada",
          "state_wisconsin",
          "model_titan",
          "model_door",
          "brand_dodge",
          "brand_chevrolet",
          "model_taurus",
          "model_versa",
          "model_ecosport",
          "brand_cadillac",
          "model_gx",
          "color_gold",
          "brand_ford",
          "color_black",
          "model_sorento",
          "state_pennsylvania",
          "state_georgia",
          "state_ohio",
          "model_equinox",
          "model_enclave",
          "model_camaro",
          "state_oregon",
          "model_wagon",
          "model_el",
          "brand_land",
          "state_california",
          "year",
          "model_dr",
          "condition hours",
          "color_off-white",
          "model_charger",
          "color_gray",
          "state_west virginia",
          "state_louisiana",
          "model_colorado",
          "state_minnesota",
          "color_white",
          "state_virginia",
          "model_pathfinder",
          "brand_chrysler",
          "model_cruze",
          "model_traverse",
          "model_encore",
          "color_magnetic metallic",
          "state_missouri",
          "color_silver",
          "model_hybrid",
          "state_new jersey",
          "model_sentra",
          "model_pickup",
          "model_impala",
          "state_arkansas",
          "model_murano",
          "brand_infiniti",
          "model_xd",
          "brand_maserati",
          "state_colorado",
          "color_blue",
          "model_energi",
          "model_dart",
          "model_mustang",
          "state_florida",
          "state_south carolina",
          "color_brown",
          "color_orange",
          "color_yellow",
          "state_connecticut",
          "state_oklahoma",
          "model_van",
          "state_massachusetts",
          "model_maxima",
          "color_white platinum tri-coat metallic",
          "state_arizona",
          "model_frontier",
          "model_edge",
          "color_green",
          "brand_gmc",
          "model_f-750",
          "color_red",
          "state_new york",
          "model_x3",
          "model_transit",
          "model_ranger",
          "state_tennessee",
          "model_forte",
          "model_2500hd",
          "model_cutaway",
          "color_oxford white",
          "brand_buick",
          "model_flex",
          "model_cherokee",
          "state_indiana",
          "color_shadow black",
          "color_ruby red metallic tinted clearcoat",
          "state_kansas",
          "brand_jeep",
          "state_new mexico",
          "color_bright white clearcoat",
          "model_volt",
          "model_pacifica",
          "color_color:",
          "model_altima",
          "brand_acura",
          "state_nevada",
          "model_cargo",
          "state_nebraska",
          "model_sedan",
          "model_cab",
          "model_d",
          "color_triple yellow tri-coat",
          "model_rogue",
          "color_cayenne red",
          "color_jazz blue pearlcoat",
          "color_beige",
          "state_new hampshire",
          "state_vermont",
          "color_black clearcoat",
          "model_utility",
          "color_ingot silver metallic",
          "model_chassis",
          "color_charcoal",
          "color_purple",
          "model_sport",
          "state_maryland",
          "model_convertible",
          "model_sportage",
          "model_soul",
          "model_country",
          "state_montana",
          "model_coupe",
          "model_series",
          "model_cruiser",
          "model_road/street",
          "model_q70",
          "model_q5",
          "model_pk",
          "color_phantom black",
          "model_pioneer",
          "model_passenger",
          "model_nvp",
          "model_mdx",
          "state_rhode island",
          "model_limited",
          "model_ld",
          "model_juke",
          "state_utah",
          "model_e-class",
          "model_gle",
          "model_glc",
          "model_ghibli",
          "brand_heartland",
          "model_connect",
          "brand_peterbilt",
          "model_suv",
          "color_pearl white",
          "color_royal crimson metallic tinted clearcoat",
          "model_acadia",
          "color_morningsky blue",
          "color_ingot silver",
          "color_super black",
          "color_tan",
          "color_toreador red",
          "color_guard",
          "color_turquoise",
          "color_tuxedo black metallic",
          "color_glacier white",
          "color_competition orange",
          "model_bus",
          "model_300",
          "color_billet silver metallic clearcoat",
          "title_status_salvage insurance",
          "model_xt5",
          "model_vans",
          "model_truck",
          "model_trail",
          "brand_toyota",
          "state_idaho",
          "brand_ram",
          "model_compass",
          "model_se"
         ],
         "xaxis": "x",
         "y": [
          0.09040714800357819,
          0.04982524365186691,
          0.04545384645462036,
          0.038731615990400314,
          0.02654210850596428,
          0.022937564179301262,
          0.02281237579882145,
          0.021734226495027542,
          0.02091371640563011,
          0.020642993971705437,
          0.020226750522851944,
          0.01917141303420067,
          0.019045937806367874,
          0.017959605902433395,
          0.017291251569986343,
          0.01463195588439703,
          0.013715848326683044,
          0.013094167225062847,
          0.012999575585126877,
          0.012635132297873497,
          0.012173420749604702,
          0.011003159917891026,
          0.01043426152318716,
          0.010370180942118168,
          0.010318836197257042,
          0.01002800464630127,
          0.00984613224864006,
          0.00972630362957716,
          0.00966917909681797,
          0.009386062622070312,
          0.009335561655461788,
          0.00916146207600832,
          0.008933200500905514,
          0.008251798339188099,
          0.007584303617477417,
          0.007165912538766861,
          0.0070068263448774815,
          0.006962682120501995,
          0.006746496073901653,
          0.006607811897993088,
          0.006032018922269344,
          0.005832197144627571,
          0.00575204286724329,
          0.005512882489711046,
          0.00544915022328496,
          0.005416205618530512,
          0.005406264215707779,
          0.005355190020054579,
          0.005303133744746447,
          0.005256372503936291,
          0.005105777643620968,
          0.00507367542013526,
          0.005002486519515514,
          0.00499950535595417,
          0.004974265117198229,
          0.004930512513965368,
          0.00484558567404747,
          0.004774992819875479,
          0.004641168750822544,
          0.004574781283736229,
          0.004416208248585463,
          0.004339597187936306,
          0.004233816172927618,
          0.004157905466854572,
          0.004153236746788025,
          0.0041273245587944984,
          0.004109214525669813,
          0.004080053884536028,
          0.0038113349582999945,
          0.0037017797585576773,
          0.0036829363089054823,
          0.003594555426388979,
          0.0035429170820862055,
          0.003300652839243412,
          0.003285361221060157,
          0.0032753613777458668,
          0.0031408139038830996,
          0.002937942510470748,
          0.0027825208380818367,
          0.002751188352704048,
          0.002672182396054268,
          0.0026574928779155016,
          0.0025993548333644867,
          0.002580855740234256,
          0.0025679722893983126,
          0.002546001924201846,
          0.0025290814228355885,
          0.0024477627594023943,
          0.0024249160196632147,
          0.002391803776845336,
          0.0023895944468677044,
          0.0022870509419590235,
          0.002257166663184762,
          0.0022084794472903013,
          0.002160878386348486,
          0.0021119725424796343,
          0.002100363140925765,
          0.002080368809401989,
          0.002054979093372822,
          0.002021663822233677,
          0.002018108731135726,
          0.0020115773659199476,
          0.001988905481994152,
          0.0019792632665485144,
          0.0019459713948890567,
          0.0019397513242438436,
          0.0019261115230619907,
          0.0018427596660330892,
          0.001820731326006353,
          0.0017979501280933619,
          0.001761996652930975,
          0.0017021362436935306,
          0.0016961583169177175,
          0.0016928010154515505,
          0.0016491953283548355,
          0.0015861160354688764,
          0.0015194244915619493,
          0.001471859053708613,
          0.0014523537829518318,
          0.001443625194951892,
          0.0014196279225870967,
          0.0014086411101743579,
          0.0013820405583828688,
          0.0013792004901915789,
          0.0012911120429635048,
          0.0012881818693131208,
          0.0012880134163424373,
          0.0011770487762987614,
          0.0011639181757345796,
          0.0011407423298805952,
          0.0010662303538993,
          0.00106199795845896,
          0.0010454845614731312,
          0.0010313556995242834,
          0.0010264398297294974,
          0.0010126576526090503,
          0.0009626477840356529,
          0.0009618767071515322,
          0.0009465167531743646,
          0.0009228599374182522,
          0.0009196464670822024,
          0.0009145266958512366,
          0.0009070056839846075,
          0.0008262800402007997,
          0.0008133038645610213,
          0.0008029115851968527,
          0.000794907275121659,
          0.0007903031073510647,
          0.0007717716507613659,
          0.0007493805605918169,
          0.0006989593966864049,
          0.0006597889587283134,
          0.0005737518076784909,
          0.0005455873906612396,
          0.000516745145432651,
          0.00047890006680972874,
          0.0004733423993457109,
          0.00043085968354716897,
          0.0004187080776318908,
          0.0002990845823660493,
          0.00029855541652068496,
          0.000262899964582175,
          0.0002593731041997671,
          0.00025673661730252206,
          0.00021303778339643031,
          0.00017347147513646632,
          0.0001410479744663462,
          0.00014033571642357856,
          0.0001281638687942177,
          0.00010277554974891245,
          8.235505083575845e-05,
          4.705616083811037e-05,
          3.50186564901378e-05,
          1.2982022781216074e-05,
          0,
          0,
          0,
          0,
          0,
          0,
          0,
          0,
          0,
          0,
          0,
          0,
          0,
          0,
          0,
          0,
          0,
          0,
          0,
          0,
          0,
          0,
          0,
          0,
          0,
          0,
          0,
          0,
          0,
          0,
          0,
          0,
          0,
          0,
          0,
          0,
          0,
          0,
          0,
          0,
          0,
          0,
          0,
          0,
          0,
          0,
          0,
          0,
          0,
          0,
          0,
          0,
          0,
          0,
          0,
          0,
          0
         ],
         "yaxis": "y"
        }
       ],
       "layout": {
        "barmode": "relative",
        "legend": {
         "tracegroupgap": 0
        },
        "margin": {
         "t": 60
        },
        "template": {
         "data": {
          "bar": [
           {
            "error_x": {
             "color": "#2a3f5f"
            },
            "error_y": {
             "color": "#2a3f5f"
            },
            "marker": {
             "line": {
              "color": "#E5ECF6",
              "width": 0.5
             },
             "pattern": {
              "fillmode": "overlay",
              "size": 10,
              "solidity": 0.2
             }
            },
            "type": "bar"
           }
          ],
          "barpolar": [
           {
            "marker": {
             "line": {
              "color": "#E5ECF6",
              "width": 0.5
             },
             "pattern": {
              "fillmode": "overlay",
              "size": 10,
              "solidity": 0.2
             }
            },
            "type": "barpolar"
           }
          ],
          "carpet": [
           {
            "aaxis": {
             "endlinecolor": "#2a3f5f",
             "gridcolor": "white",
             "linecolor": "white",
             "minorgridcolor": "white",
             "startlinecolor": "#2a3f5f"
            },
            "baxis": {
             "endlinecolor": "#2a3f5f",
             "gridcolor": "white",
             "linecolor": "white",
             "minorgridcolor": "white",
             "startlinecolor": "#2a3f5f"
            },
            "type": "carpet"
           }
          ],
          "choropleth": [
           {
            "colorbar": {
             "outlinewidth": 0,
             "ticks": ""
            },
            "type": "choropleth"
           }
          ],
          "contour": [
           {
            "colorbar": {
             "outlinewidth": 0,
             "ticks": ""
            },
            "colorscale": [
             [
              0,
              "#0d0887"
             ],
             [
              0.1111111111111111,
              "#46039f"
             ],
             [
              0.2222222222222222,
              "#7201a8"
             ],
             [
              0.3333333333333333,
              "#9c179e"
             ],
             [
              0.4444444444444444,
              "#bd3786"
             ],
             [
              0.5555555555555556,
              "#d8576b"
             ],
             [
              0.6666666666666666,
              "#ed7953"
             ],
             [
              0.7777777777777778,
              "#fb9f3a"
             ],
             [
              0.8888888888888888,
              "#fdca26"
             ],
             [
              1,
              "#f0f921"
             ]
            ],
            "type": "contour"
           }
          ],
          "contourcarpet": [
           {
            "colorbar": {
             "outlinewidth": 0,
             "ticks": ""
            },
            "type": "contourcarpet"
           }
          ],
          "heatmap": [
           {
            "colorbar": {
             "outlinewidth": 0,
             "ticks": ""
            },
            "colorscale": [
             [
              0,
              "#0d0887"
             ],
             [
              0.1111111111111111,
              "#46039f"
             ],
             [
              0.2222222222222222,
              "#7201a8"
             ],
             [
              0.3333333333333333,
              "#9c179e"
             ],
             [
              0.4444444444444444,
              "#bd3786"
             ],
             [
              0.5555555555555556,
              "#d8576b"
             ],
             [
              0.6666666666666666,
              "#ed7953"
             ],
             [
              0.7777777777777778,
              "#fb9f3a"
             ],
             [
              0.8888888888888888,
              "#fdca26"
             ],
             [
              1,
              "#f0f921"
             ]
            ],
            "type": "heatmap"
           }
          ],
          "heatmapgl": [
           {
            "colorbar": {
             "outlinewidth": 0,
             "ticks": ""
            },
            "colorscale": [
             [
              0,
              "#0d0887"
             ],
             [
              0.1111111111111111,
              "#46039f"
             ],
             [
              0.2222222222222222,
              "#7201a8"
             ],
             [
              0.3333333333333333,
              "#9c179e"
             ],
             [
              0.4444444444444444,
              "#bd3786"
             ],
             [
              0.5555555555555556,
              "#d8576b"
             ],
             [
              0.6666666666666666,
              "#ed7953"
             ],
             [
              0.7777777777777778,
              "#fb9f3a"
             ],
             [
              0.8888888888888888,
              "#fdca26"
             ],
             [
              1,
              "#f0f921"
             ]
            ],
            "type": "heatmapgl"
           }
          ],
          "histogram": [
           {
            "marker": {
             "pattern": {
              "fillmode": "overlay",
              "size": 10,
              "solidity": 0.2
             }
            },
            "type": "histogram"
           }
          ],
          "histogram2d": [
           {
            "colorbar": {
             "outlinewidth": 0,
             "ticks": ""
            },
            "colorscale": [
             [
              0,
              "#0d0887"
             ],
             [
              0.1111111111111111,
              "#46039f"
             ],
             [
              0.2222222222222222,
              "#7201a8"
             ],
             [
              0.3333333333333333,
              "#9c179e"
             ],
             [
              0.4444444444444444,
              "#bd3786"
             ],
             [
              0.5555555555555556,
              "#d8576b"
             ],
             [
              0.6666666666666666,
              "#ed7953"
             ],
             [
              0.7777777777777778,
              "#fb9f3a"
             ],
             [
              0.8888888888888888,
              "#fdca26"
             ],
             [
              1,
              "#f0f921"
             ]
            ],
            "type": "histogram2d"
           }
          ],
          "histogram2dcontour": [
           {
            "colorbar": {
             "outlinewidth": 0,
             "ticks": ""
            },
            "colorscale": [
             [
              0,
              "#0d0887"
             ],
             [
              0.1111111111111111,
              "#46039f"
             ],
             [
              0.2222222222222222,
              "#7201a8"
             ],
             [
              0.3333333333333333,
              "#9c179e"
             ],
             [
              0.4444444444444444,
              "#bd3786"
             ],
             [
              0.5555555555555556,
              "#d8576b"
             ],
             [
              0.6666666666666666,
              "#ed7953"
             ],
             [
              0.7777777777777778,
              "#fb9f3a"
             ],
             [
              0.8888888888888888,
              "#fdca26"
             ],
             [
              1,
              "#f0f921"
             ]
            ],
            "type": "histogram2dcontour"
           }
          ],
          "mesh3d": [
           {
            "colorbar": {
             "outlinewidth": 0,
             "ticks": ""
            },
            "type": "mesh3d"
           }
          ],
          "parcoords": [
           {
            "line": {
             "colorbar": {
              "outlinewidth": 0,
              "ticks": ""
             }
            },
            "type": "parcoords"
           }
          ],
          "pie": [
           {
            "automargin": true,
            "type": "pie"
           }
          ],
          "scatter": [
           {
            "marker": {
             "colorbar": {
              "outlinewidth": 0,
              "ticks": ""
             }
            },
            "type": "scatter"
           }
          ],
          "scatter3d": [
           {
            "line": {
             "colorbar": {
              "outlinewidth": 0,
              "ticks": ""
             }
            },
            "marker": {
             "colorbar": {
              "outlinewidth": 0,
              "ticks": ""
             }
            },
            "type": "scatter3d"
           }
          ],
          "scattercarpet": [
           {
            "marker": {
             "colorbar": {
              "outlinewidth": 0,
              "ticks": ""
             }
            },
            "type": "scattercarpet"
           }
          ],
          "scattergeo": [
           {
            "marker": {
             "colorbar": {
              "outlinewidth": 0,
              "ticks": ""
             }
            },
            "type": "scattergeo"
           }
          ],
          "scattergl": [
           {
            "marker": {
             "colorbar": {
              "outlinewidth": 0,
              "ticks": ""
             }
            },
            "type": "scattergl"
           }
          ],
          "scattermapbox": [
           {
            "marker": {
             "colorbar": {
              "outlinewidth": 0,
              "ticks": ""
             }
            },
            "type": "scattermapbox"
           }
          ],
          "scatterpolar": [
           {
            "marker": {
             "colorbar": {
              "outlinewidth": 0,
              "ticks": ""
             }
            },
            "type": "scatterpolar"
           }
          ],
          "scatterpolargl": [
           {
            "marker": {
             "colorbar": {
              "outlinewidth": 0,
              "ticks": ""
             }
            },
            "type": "scatterpolargl"
           }
          ],
          "scatterternary": [
           {
            "marker": {
             "colorbar": {
              "outlinewidth": 0,
              "ticks": ""
             }
            },
            "type": "scatterternary"
           }
          ],
          "surface": [
           {
            "colorbar": {
             "outlinewidth": 0,
             "ticks": ""
            },
            "colorscale": [
             [
              0,
              "#0d0887"
             ],
             [
              0.1111111111111111,
              "#46039f"
             ],
             [
              0.2222222222222222,
              "#7201a8"
             ],
             [
              0.3333333333333333,
              "#9c179e"
             ],
             [
              0.4444444444444444,
              "#bd3786"
             ],
             [
              0.5555555555555556,
              "#d8576b"
             ],
             [
              0.6666666666666666,
              "#ed7953"
             ],
             [
              0.7777777777777778,
              "#fb9f3a"
             ],
             [
              0.8888888888888888,
              "#fdca26"
             ],
             [
              1,
              "#f0f921"
             ]
            ],
            "type": "surface"
           }
          ],
          "table": [
           {
            "cells": {
             "fill": {
              "color": "#EBF0F8"
             },
             "line": {
              "color": "white"
             }
            },
            "header": {
             "fill": {
              "color": "#C8D4E3"
             },
             "line": {
              "color": "white"
             }
            },
            "type": "table"
           }
          ]
         },
         "layout": {
          "annotationdefaults": {
           "arrowcolor": "#2a3f5f",
           "arrowhead": 0,
           "arrowwidth": 1
          },
          "autotypenumbers": "strict",
          "coloraxis": {
           "colorbar": {
            "outlinewidth": 0,
            "ticks": ""
           }
          },
          "colorscale": {
           "diverging": [
            [
             0,
             "#8e0152"
            ],
            [
             0.1,
             "#c51b7d"
            ],
            [
             0.2,
             "#de77ae"
            ],
            [
             0.3,
             "#f1b6da"
            ],
            [
             0.4,
             "#fde0ef"
            ],
            [
             0.5,
             "#f7f7f7"
            ],
            [
             0.6,
             "#e6f5d0"
            ],
            [
             0.7,
             "#b8e186"
            ],
            [
             0.8,
             "#7fbc41"
            ],
            [
             0.9,
             "#4d9221"
            ],
            [
             1,
             "#276419"
            ]
           ],
           "sequential": [
            [
             0,
             "#0d0887"
            ],
            [
             0.1111111111111111,
             "#46039f"
            ],
            [
             0.2222222222222222,
             "#7201a8"
            ],
            [
             0.3333333333333333,
             "#9c179e"
            ],
            [
             0.4444444444444444,
             "#bd3786"
            ],
            [
             0.5555555555555556,
             "#d8576b"
            ],
            [
             0.6666666666666666,
             "#ed7953"
            ],
            [
             0.7777777777777778,
             "#fb9f3a"
            ],
            [
             0.8888888888888888,
             "#fdca26"
            ],
            [
             1,
             "#f0f921"
            ]
           ],
           "sequentialminus": [
            [
             0,
             "#0d0887"
            ],
            [
             0.1111111111111111,
             "#46039f"
            ],
            [
             0.2222222222222222,
             "#7201a8"
            ],
            [
             0.3333333333333333,
             "#9c179e"
            ],
            [
             0.4444444444444444,
             "#bd3786"
            ],
            [
             0.5555555555555556,
             "#d8576b"
            ],
            [
             0.6666666666666666,
             "#ed7953"
            ],
            [
             0.7777777777777778,
             "#fb9f3a"
            ],
            [
             0.8888888888888888,
             "#fdca26"
            ],
            [
             1,
             "#f0f921"
            ]
           ]
          },
          "colorway": [
           "#636efa",
           "#EF553B",
           "#00cc96",
           "#ab63fa",
           "#FFA15A",
           "#19d3f3",
           "#FF6692",
           "#B6E880",
           "#FF97FF",
           "#FECB52"
          ],
          "font": {
           "color": "#2a3f5f"
          },
          "geo": {
           "bgcolor": "white",
           "lakecolor": "white",
           "landcolor": "#E5ECF6",
           "showlakes": true,
           "showland": true,
           "subunitcolor": "white"
          },
          "hoverlabel": {
           "align": "left"
          },
          "hovermode": "closest",
          "mapbox": {
           "style": "light"
          },
          "paper_bgcolor": "white",
          "plot_bgcolor": "#E5ECF6",
          "polar": {
           "angularaxis": {
            "gridcolor": "white",
            "linecolor": "white",
            "ticks": ""
           },
           "bgcolor": "#E5ECF6",
           "radialaxis": {
            "gridcolor": "white",
            "linecolor": "white",
            "ticks": ""
           }
          },
          "scene": {
           "xaxis": {
            "backgroundcolor": "#E5ECF6",
            "gridcolor": "white",
            "gridwidth": 2,
            "linecolor": "white",
            "showbackground": true,
            "ticks": "",
            "zerolinecolor": "white"
           },
           "yaxis": {
            "backgroundcolor": "#E5ECF6",
            "gridcolor": "white",
            "gridwidth": 2,
            "linecolor": "white",
            "showbackground": true,
            "ticks": "",
            "zerolinecolor": "white"
           },
           "zaxis": {
            "backgroundcolor": "#E5ECF6",
            "gridcolor": "white",
            "gridwidth": 2,
            "linecolor": "white",
            "showbackground": true,
            "ticks": "",
            "zerolinecolor": "white"
           }
          },
          "shapedefaults": {
           "line": {
            "color": "#2a3f5f"
           }
          },
          "ternary": {
           "aaxis": {
            "gridcolor": "white",
            "linecolor": "white",
            "ticks": ""
           },
           "baxis": {
            "gridcolor": "white",
            "linecolor": "white",
            "ticks": ""
           },
           "bgcolor": "#E5ECF6",
           "caxis": {
            "gridcolor": "white",
            "linecolor": "white",
            "ticks": ""
           }
          },
          "title": {
           "x": 0.05
          },
          "xaxis": {
           "automargin": true,
           "gridcolor": "white",
           "linecolor": "white",
           "ticks": "",
           "title": {
            "standoff": 15
           },
           "zerolinecolor": "white",
           "zerolinewidth": 2
          },
          "yaxis": {
           "automargin": true,
           "gridcolor": "white",
           "linecolor": "white",
           "ticks": "",
           "title": {
            "standoff": 15
           },
           "zerolinecolor": "white",
           "zerolinewidth": 2
          }
         }
        },
        "xaxis": {
         "anchor": "y",
         "domain": [
          0,
          1
         ],
         "title": {
          "text": "Feature"
         }
        },
        "yaxis": {
         "anchor": "x",
         "domain": [
          0,
          1
         ],
         "title": {
          "text": "importance"
         }
        }
       }
      },
      "text/html": [
       "<div>                            <div id=\"4c9cb3a4-a884-4d8d-998f-335b0a1206bc\" class=\"plotly-graph-div\" style=\"height:525px; width:100%;\"></div>            <script type=\"text/javascript\">                require([\"plotly\"], function(Plotly) {                    window.PLOTLYENV=window.PLOTLYENV || {};                                    if (document.getElementById(\"4c9cb3a4-a884-4d8d-998f-335b0a1206bc\")) {                    Plotly.newPlot(                        \"4c9cb3a4-a884-4d8d-998f-335b0a1206bc\",                        [{\"alignmentgroup\":\"True\",\"hovertemplate\":\"Feature=%{x}<br>importance=%{y}<extra></extra>\",\"legendgroup\":\"\",\"marker\":{\"color\":\"#636efa\",\"pattern\":{\"shape\":\"\"}},\"name\":\"\",\"offsetgroup\":\"\",\"orientation\":\"v\",\"showlegend\":false,\"textposition\":\"auto\",\"x\":[\"model_max\",\"model_expedition\",\"model_srw\",\"model_mpv\",\"brand_nissan\",\"model_durango\",\"model_sl-class\",\"state_ontario\",\"model_suburban\",\"brand_mercedes-benz\",\"model_fiesta\",\"state_kentucky\",\"model_tahoe\",\"title_status_clean vehicle\",\"model_2500\",\"model_f-150\",\"model_3500\",\"model_focus\",\"brand_bmw\",\"model_drw\",\"state_michigan\",\"model_fusion\",\"model_1500\",\"state_alabama\",\"model_escape\",\"model_discovery\",\"brand_harley-davidson\",\"model_doors\",\"model_caravan\",\"brand_hyundai\",\"brand_lexus\",\"model_challenger\",\"model_journey\",\"model_corvette\",\"state_north carolina\",\"model_f-650\",\"state_washington\",\"model_trax\",\"state_texas\",\"mileage\",\"state_illinois\",\"model_explorer\",\"brand_honda\",\"color_no_color\",\"brand_audi\",\"model_malibu\",\"model_m\",\"brand_jaguar\",\"brand_kia\",\"model_5\",\"state_mississippi\",\"model_armada\",\"state_wisconsin\",\"model_titan\",\"model_door\",\"brand_dodge\",\"brand_chevrolet\",\"model_taurus\",\"model_versa\",\"model_ecosport\",\"brand_cadillac\",\"model_gx\",\"color_gold\",\"brand_ford\",\"color_black\",\"model_sorento\",\"state_pennsylvania\",\"state_georgia\",\"state_ohio\",\"model_equinox\",\"model_enclave\",\"model_camaro\",\"state_oregon\",\"model_wagon\",\"model_el\",\"brand_land\",\"state_california\",\"year\",\"model_dr\",\"condition hours\",\"color_off-white\",\"model_charger\",\"color_gray\",\"state_west virginia\",\"state_louisiana\",\"model_colorado\",\"state_minnesota\",\"color_white\",\"state_virginia\",\"model_pathfinder\",\"brand_chrysler\",\"model_cruze\",\"model_traverse\",\"model_encore\",\"color_magnetic metallic\",\"state_missouri\",\"color_silver\",\"model_hybrid\",\"state_new jersey\",\"model_sentra\",\"model_pickup\",\"model_impala\",\"state_arkansas\",\"model_murano\",\"brand_infiniti\",\"model_xd\",\"brand_maserati\",\"state_colorado\",\"color_blue\",\"model_energi\",\"model_dart\",\"model_mustang\",\"state_florida\",\"state_south carolina\",\"color_brown\",\"color_orange\",\"color_yellow\",\"state_connecticut\",\"state_oklahoma\",\"model_van\",\"state_massachusetts\",\"model_maxima\",\"color_white platinum tri-coat metallic\",\"state_arizona\",\"model_frontier\",\"model_edge\",\"color_green\",\"brand_gmc\",\"model_f-750\",\"color_red\",\"state_new york\",\"model_x3\",\"model_transit\",\"model_ranger\",\"state_tennessee\",\"model_forte\",\"model_2500hd\",\"model_cutaway\",\"color_oxford white\",\"brand_buick\",\"model_flex\",\"model_cherokee\",\"state_indiana\",\"color_shadow black\",\"color_ruby red metallic tinted clearcoat\",\"state_kansas\",\"brand_jeep\",\"state_new mexico\",\"color_bright white clearcoat\",\"model_volt\",\"model_pacifica\",\"color_color:\",\"model_altima\",\"brand_acura\",\"state_nevada\",\"model_cargo\",\"state_nebraska\",\"model_sedan\",\"model_cab\",\"model_d\",\"color_triple yellow tri-coat\",\"model_rogue\",\"color_cayenne red\",\"color_jazz blue pearlcoat\",\"color_beige\",\"state_new hampshire\",\"state_vermont\",\"color_black clearcoat\",\"model_utility\",\"color_ingot silver metallic\",\"model_chassis\",\"color_charcoal\",\"color_purple\",\"model_sport\",\"state_maryland\",\"model_convertible\",\"model_sportage\",\"model_soul\",\"model_country\",\"state_montana\",\"model_coupe\",\"model_series\",\"model_cruiser\",\"model_road/street\",\"model_q70\",\"model_q5\",\"model_pk\",\"color_phantom black\",\"model_pioneer\",\"model_passenger\",\"model_nvp\",\"model_mdx\",\"state_rhode island\",\"model_limited\",\"model_ld\",\"model_juke\",\"state_utah\",\"model_e-class\",\"model_gle\",\"model_glc\",\"model_ghibli\",\"brand_heartland\",\"model_connect\",\"brand_peterbilt\",\"model_suv\",\"color_pearl white\",\"color_royal crimson metallic tinted clearcoat\",\"model_acadia\",\"color_morningsky blue\",\"color_ingot silver\",\"color_super black\",\"color_tan\",\"color_toreador red\",\"color_guard\",\"color_turquoise\",\"color_tuxedo black metallic\",\"color_glacier white\",\"color_competition orange\",\"model_bus\",\"model_300\",\"color_billet silver metallic clearcoat\",\"title_status_salvage insurance\",\"model_xt5\",\"model_vans\",\"model_truck\",\"model_trail\",\"brand_toyota\",\"state_idaho\",\"brand_ram\",\"model_compass\",\"model_se\"],\"xaxis\":\"x\",\"y\":[0.09040714800357819,0.04982524365186691,0.04545384645462036,0.038731615990400314,0.02654210850596428,0.022937564179301262,0.02281237579882145,0.021734226495027542,0.02091371640563011,0.020642993971705437,0.020226750522851944,0.01917141303420067,0.019045937806367874,0.017959605902433395,0.017291251569986343,0.01463195588439703,0.013715848326683044,0.013094167225062847,0.012999575585126877,0.012635132297873497,0.012173420749604702,0.011003159917891026,0.01043426152318716,0.010370180942118168,0.010318836197257042,0.01002800464630127,0.00984613224864006,0.00972630362957716,0.00966917909681797,0.009386062622070312,0.009335561655461788,0.00916146207600832,0.008933200500905514,0.008251798339188099,0.007584303617477417,0.007165912538766861,0.0070068263448774815,0.006962682120501995,0.006746496073901653,0.006607811897993088,0.006032018922269344,0.005832197144627571,0.00575204286724329,0.005512882489711046,0.00544915022328496,0.005416205618530512,0.005406264215707779,0.005355190020054579,0.005303133744746447,0.005256372503936291,0.005105777643620968,0.00507367542013526,0.005002486519515514,0.00499950535595417,0.004974265117198229,0.004930512513965368,0.00484558567404747,0.004774992819875479,0.004641168750822544,0.004574781283736229,0.004416208248585463,0.004339597187936306,0.004233816172927618,0.004157905466854572,0.004153236746788025,0.0041273245587944984,0.004109214525669813,0.004080053884536028,0.0038113349582999945,0.0037017797585576773,0.0036829363089054823,0.003594555426388979,0.0035429170820862055,0.003300652839243412,0.003285361221060157,0.0032753613777458668,0.0031408139038830996,0.002937942510470748,0.0027825208380818367,0.002751188352704048,0.002672182396054268,0.0026574928779155016,0.0025993548333644867,0.002580855740234256,0.0025679722893983126,0.002546001924201846,0.0025290814228355885,0.0024477627594023943,0.0024249160196632147,0.002391803776845336,0.0023895944468677044,0.0022870509419590235,0.002257166663184762,0.0022084794472903013,0.002160878386348486,0.0021119725424796343,0.002100363140925765,0.002080368809401989,0.002054979093372822,0.002021663822233677,0.002018108731135726,0.0020115773659199476,0.001988905481994152,0.0019792632665485144,0.0019459713948890567,0.0019397513242438436,0.0019261115230619907,0.0018427596660330892,0.001820731326006353,0.0017979501280933619,0.001761996652930975,0.0017021362436935306,0.0016961583169177175,0.0016928010154515505,0.0016491953283548355,0.0015861160354688764,0.0015194244915619493,0.001471859053708613,0.0014523537829518318,0.001443625194951892,0.0014196279225870967,0.0014086411101743579,0.0013820405583828688,0.0013792004901915789,0.0012911120429635048,0.0012881818693131208,0.0012880134163424373,0.0011770487762987614,0.0011639181757345796,0.0011407423298805952,0.0010662303538993,0.00106199795845896,0.0010454845614731312,0.0010313556995242834,0.0010264398297294974,0.0010126576526090503,0.0009626477840356529,0.0009618767071515322,0.0009465167531743646,0.0009228599374182522,0.0009196464670822024,0.0009145266958512366,0.0009070056839846075,0.0008262800402007997,0.0008133038645610213,0.0008029115851968527,0.000794907275121659,0.0007903031073510647,0.0007717716507613659,0.0007493805605918169,0.0006989593966864049,0.0006597889587283134,0.0005737518076784909,0.0005455873906612396,0.000516745145432651,0.00047890006680972874,0.0004733423993457109,0.00043085968354716897,0.0004187080776318908,0.0002990845823660493,0.00029855541652068496,0.000262899964582175,0.0002593731041997671,0.00025673661730252206,0.00021303778339643031,0.00017347147513646632,0.0001410479744663462,0.00014033571642357856,0.0001281638687942177,0.00010277554974891245,8.235505083575845e-05,4.705616083811037e-05,3.50186564901378e-05,1.2982022781216074e-05,0.0,0.0,0.0,0.0,0.0,0.0,0.0,0.0,0.0,0.0,0.0,0.0,0.0,0.0,0.0,0.0,0.0,0.0,0.0,0.0,0.0,0.0,0.0,0.0,0.0,0.0,0.0,0.0,0.0,0.0,0.0,0.0,0.0,0.0,0.0,0.0,0.0,0.0,0.0,0.0,0.0,0.0,0.0,0.0,0.0,0.0,0.0,0.0,0.0,0.0,0.0,0.0,0.0,0.0,0.0,0.0,0.0],\"yaxis\":\"y\",\"type\":\"bar\"}],                        {\"template\":{\"data\":{\"bar\":[{\"error_x\":{\"color\":\"#2a3f5f\"},\"error_y\":{\"color\":\"#2a3f5f\"},\"marker\":{\"line\":{\"color\":\"#E5ECF6\",\"width\":0.5},\"pattern\":{\"fillmode\":\"overlay\",\"size\":10,\"solidity\":0.2}},\"type\":\"bar\"}],\"barpolar\":[{\"marker\":{\"line\":{\"color\":\"#E5ECF6\",\"width\":0.5},\"pattern\":{\"fillmode\":\"overlay\",\"size\":10,\"solidity\":0.2}},\"type\":\"barpolar\"}],\"carpet\":[{\"aaxis\":{\"endlinecolor\":\"#2a3f5f\",\"gridcolor\":\"white\",\"linecolor\":\"white\",\"minorgridcolor\":\"white\",\"startlinecolor\":\"#2a3f5f\"},\"baxis\":{\"endlinecolor\":\"#2a3f5f\",\"gridcolor\":\"white\",\"linecolor\":\"white\",\"minorgridcolor\":\"white\",\"startlinecolor\":\"#2a3f5f\"},\"type\":\"carpet\"}],\"choropleth\":[{\"colorbar\":{\"outlinewidth\":0,\"ticks\":\"\"},\"type\":\"choropleth\"}],\"contour\":[{\"colorbar\":{\"outlinewidth\":0,\"ticks\":\"\"},\"colorscale\":[[0.0,\"#0d0887\"],[0.1111111111111111,\"#46039f\"],[0.2222222222222222,\"#7201a8\"],[0.3333333333333333,\"#9c179e\"],[0.4444444444444444,\"#bd3786\"],[0.5555555555555556,\"#d8576b\"],[0.6666666666666666,\"#ed7953\"],[0.7777777777777778,\"#fb9f3a\"],[0.8888888888888888,\"#fdca26\"],[1.0,\"#f0f921\"]],\"type\":\"contour\"}],\"contourcarpet\":[{\"colorbar\":{\"outlinewidth\":0,\"ticks\":\"\"},\"type\":\"contourcarpet\"}],\"heatmap\":[{\"colorbar\":{\"outlinewidth\":0,\"ticks\":\"\"},\"colorscale\":[[0.0,\"#0d0887\"],[0.1111111111111111,\"#46039f\"],[0.2222222222222222,\"#7201a8\"],[0.3333333333333333,\"#9c179e\"],[0.4444444444444444,\"#bd3786\"],[0.5555555555555556,\"#d8576b\"],[0.6666666666666666,\"#ed7953\"],[0.7777777777777778,\"#fb9f3a\"],[0.8888888888888888,\"#fdca26\"],[1.0,\"#f0f921\"]],\"type\":\"heatmap\"}],\"heatmapgl\":[{\"colorbar\":{\"outlinewidth\":0,\"ticks\":\"\"},\"colorscale\":[[0.0,\"#0d0887\"],[0.1111111111111111,\"#46039f\"],[0.2222222222222222,\"#7201a8\"],[0.3333333333333333,\"#9c179e\"],[0.4444444444444444,\"#bd3786\"],[0.5555555555555556,\"#d8576b\"],[0.6666666666666666,\"#ed7953\"],[0.7777777777777778,\"#fb9f3a\"],[0.8888888888888888,\"#fdca26\"],[1.0,\"#f0f921\"]],\"type\":\"heatmapgl\"}],\"histogram\":[{\"marker\":{\"pattern\":{\"fillmode\":\"overlay\",\"size\":10,\"solidity\":0.2}},\"type\":\"histogram\"}],\"histogram2d\":[{\"colorbar\":{\"outlinewidth\":0,\"ticks\":\"\"},\"colorscale\":[[0.0,\"#0d0887\"],[0.1111111111111111,\"#46039f\"],[0.2222222222222222,\"#7201a8\"],[0.3333333333333333,\"#9c179e\"],[0.4444444444444444,\"#bd3786\"],[0.5555555555555556,\"#d8576b\"],[0.6666666666666666,\"#ed7953\"],[0.7777777777777778,\"#fb9f3a\"],[0.8888888888888888,\"#fdca26\"],[1.0,\"#f0f921\"]],\"type\":\"histogram2d\"}],\"histogram2dcontour\":[{\"colorbar\":{\"outlinewidth\":0,\"ticks\":\"\"},\"colorscale\":[[0.0,\"#0d0887\"],[0.1111111111111111,\"#46039f\"],[0.2222222222222222,\"#7201a8\"],[0.3333333333333333,\"#9c179e\"],[0.4444444444444444,\"#bd3786\"],[0.5555555555555556,\"#d8576b\"],[0.6666666666666666,\"#ed7953\"],[0.7777777777777778,\"#fb9f3a\"],[0.8888888888888888,\"#fdca26\"],[1.0,\"#f0f921\"]],\"type\":\"histogram2dcontour\"}],\"mesh3d\":[{\"colorbar\":{\"outlinewidth\":0,\"ticks\":\"\"},\"type\":\"mesh3d\"}],\"parcoords\":[{\"line\":{\"colorbar\":{\"outlinewidth\":0,\"ticks\":\"\"}},\"type\":\"parcoords\"}],\"pie\":[{\"automargin\":true,\"type\":\"pie\"}],\"scatter\":[{\"marker\":{\"colorbar\":{\"outlinewidth\":0,\"ticks\":\"\"}},\"type\":\"scatter\"}],\"scatter3d\":[{\"line\":{\"colorbar\":{\"outlinewidth\":0,\"ticks\":\"\"}},\"marker\":{\"colorbar\":{\"outlinewidth\":0,\"ticks\":\"\"}},\"type\":\"scatter3d\"}],\"scattercarpet\":[{\"marker\":{\"colorbar\":{\"outlinewidth\":0,\"ticks\":\"\"}},\"type\":\"scattercarpet\"}],\"scattergeo\":[{\"marker\":{\"colorbar\":{\"outlinewidth\":0,\"ticks\":\"\"}},\"type\":\"scattergeo\"}],\"scattergl\":[{\"marker\":{\"colorbar\":{\"outlinewidth\":0,\"ticks\":\"\"}},\"type\":\"scattergl\"}],\"scattermapbox\":[{\"marker\":{\"colorbar\":{\"outlinewidth\":0,\"ticks\":\"\"}},\"type\":\"scattermapbox\"}],\"scatterpolar\":[{\"marker\":{\"colorbar\":{\"outlinewidth\":0,\"ticks\":\"\"}},\"type\":\"scatterpolar\"}],\"scatterpolargl\":[{\"marker\":{\"colorbar\":{\"outlinewidth\":0,\"ticks\":\"\"}},\"type\":\"scatterpolargl\"}],\"scatterternary\":[{\"marker\":{\"colorbar\":{\"outlinewidth\":0,\"ticks\":\"\"}},\"type\":\"scatterternary\"}],\"surface\":[{\"colorbar\":{\"outlinewidth\":0,\"ticks\":\"\"},\"colorscale\":[[0.0,\"#0d0887\"],[0.1111111111111111,\"#46039f\"],[0.2222222222222222,\"#7201a8\"],[0.3333333333333333,\"#9c179e\"],[0.4444444444444444,\"#bd3786\"],[0.5555555555555556,\"#d8576b\"],[0.6666666666666666,\"#ed7953\"],[0.7777777777777778,\"#fb9f3a\"],[0.8888888888888888,\"#fdca26\"],[1.0,\"#f0f921\"]],\"type\":\"surface\"}],\"table\":[{\"cells\":{\"fill\":{\"color\":\"#EBF0F8\"},\"line\":{\"color\":\"white\"}},\"header\":{\"fill\":{\"color\":\"#C8D4E3\"},\"line\":{\"color\":\"white\"}},\"type\":\"table\"}]},\"layout\":{\"annotationdefaults\":{\"arrowcolor\":\"#2a3f5f\",\"arrowhead\":0,\"arrowwidth\":1},\"autotypenumbers\":\"strict\",\"coloraxis\":{\"colorbar\":{\"outlinewidth\":0,\"ticks\":\"\"}},\"colorscale\":{\"diverging\":[[0,\"#8e0152\"],[0.1,\"#c51b7d\"],[0.2,\"#de77ae\"],[0.3,\"#f1b6da\"],[0.4,\"#fde0ef\"],[0.5,\"#f7f7f7\"],[0.6,\"#e6f5d0\"],[0.7,\"#b8e186\"],[0.8,\"#7fbc41\"],[0.9,\"#4d9221\"],[1,\"#276419\"]],\"sequential\":[[0.0,\"#0d0887\"],[0.1111111111111111,\"#46039f\"],[0.2222222222222222,\"#7201a8\"],[0.3333333333333333,\"#9c179e\"],[0.4444444444444444,\"#bd3786\"],[0.5555555555555556,\"#d8576b\"],[0.6666666666666666,\"#ed7953\"],[0.7777777777777778,\"#fb9f3a\"],[0.8888888888888888,\"#fdca26\"],[1.0,\"#f0f921\"]],\"sequentialminus\":[[0.0,\"#0d0887\"],[0.1111111111111111,\"#46039f\"],[0.2222222222222222,\"#7201a8\"],[0.3333333333333333,\"#9c179e\"],[0.4444444444444444,\"#bd3786\"],[0.5555555555555556,\"#d8576b\"],[0.6666666666666666,\"#ed7953\"],[0.7777777777777778,\"#fb9f3a\"],[0.8888888888888888,\"#fdca26\"],[1.0,\"#f0f921\"]]},\"colorway\":[\"#636efa\",\"#EF553B\",\"#00cc96\",\"#ab63fa\",\"#FFA15A\",\"#19d3f3\",\"#FF6692\",\"#B6E880\",\"#FF97FF\",\"#FECB52\"],\"font\":{\"color\":\"#2a3f5f\"},\"geo\":{\"bgcolor\":\"white\",\"lakecolor\":\"white\",\"landcolor\":\"#E5ECF6\",\"showlakes\":true,\"showland\":true,\"subunitcolor\":\"white\"},\"hoverlabel\":{\"align\":\"left\"},\"hovermode\":\"closest\",\"mapbox\":{\"style\":\"light\"},\"paper_bgcolor\":\"white\",\"plot_bgcolor\":\"#E5ECF6\",\"polar\":{\"angularaxis\":{\"gridcolor\":\"white\",\"linecolor\":\"white\",\"ticks\":\"\"},\"bgcolor\":\"#E5ECF6\",\"radialaxis\":{\"gridcolor\":\"white\",\"linecolor\":\"white\",\"ticks\":\"\"}},\"scene\":{\"xaxis\":{\"backgroundcolor\":\"#E5ECF6\",\"gridcolor\":\"white\",\"gridwidth\":2,\"linecolor\":\"white\",\"showbackground\":true,\"ticks\":\"\",\"zerolinecolor\":\"white\"},\"yaxis\":{\"backgroundcolor\":\"#E5ECF6\",\"gridcolor\":\"white\",\"gridwidth\":2,\"linecolor\":\"white\",\"showbackground\":true,\"ticks\":\"\",\"zerolinecolor\":\"white\"},\"zaxis\":{\"backgroundcolor\":\"#E5ECF6\",\"gridcolor\":\"white\",\"gridwidth\":2,\"linecolor\":\"white\",\"showbackground\":true,\"ticks\":\"\",\"zerolinecolor\":\"white\"}},\"shapedefaults\":{\"line\":{\"color\":\"#2a3f5f\"}},\"ternary\":{\"aaxis\":{\"gridcolor\":\"white\",\"linecolor\":\"white\",\"ticks\":\"\"},\"baxis\":{\"gridcolor\":\"white\",\"linecolor\":\"white\",\"ticks\":\"\"},\"bgcolor\":\"#E5ECF6\",\"caxis\":{\"gridcolor\":\"white\",\"linecolor\":\"white\",\"ticks\":\"\"}},\"title\":{\"x\":0.05},\"xaxis\":{\"automargin\":true,\"gridcolor\":\"white\",\"linecolor\":\"white\",\"ticks\":\"\",\"title\":{\"standoff\":15},\"zerolinecolor\":\"white\",\"zerolinewidth\":2},\"yaxis\":{\"automargin\":true,\"gridcolor\":\"white\",\"linecolor\":\"white\",\"ticks\":\"\",\"title\":{\"standoff\":15},\"zerolinecolor\":\"white\",\"zerolinewidth\":2}}},\"xaxis\":{\"anchor\":\"y\",\"domain\":[0.0,1.0],\"title\":{\"text\":\"Feature\"}},\"yaxis\":{\"anchor\":\"x\",\"domain\":[0.0,1.0],\"title\":{\"text\":\"importance\"}},\"legend\":{\"tracegroupgap\":0},\"margin\":{\"t\":60},\"barmode\":\"relative\"},                        {\"responsive\": true}                    ).then(function(){\n",
       "                            \n",
       "var gd = document.getElementById('4c9cb3a4-a884-4d8d-998f-335b0a1206bc');\n",
       "var x = new MutationObserver(function (mutations, observer) {{\n",
       "        var display = window.getComputedStyle(gd).display;\n",
       "        if (!display || display === 'none') {{\n",
       "            console.log([gd, 'removed!']);\n",
       "            Plotly.purge(gd);\n",
       "            observer.disconnect();\n",
       "        }}\n",
       "}});\n",
       "\n",
       "// Listen for the removal of the full notebook cells\n",
       "var notebookContainer = gd.closest('#notebook-container');\n",
       "if (notebookContainer) {{\n",
       "    x.observe(notebookContainer, {childList: true});\n",
       "}}\n",
       "\n",
       "// Listen for the clearing of the current output cell\n",
       "var outputEl = gd.closest('.output');\n",
       "if (outputEl) {{\n",
       "    x.observe(outputEl, {childList: true});\n",
       "}}\n",
       "\n",
       "                        })                };                });            </script>        </div>"
      ]
     },
     "metadata": {},
     "output_type": "display_data"
    }
   ],
   "source": [
    "ohe = beast_model['columntransformer'].transformers[1][1]['one_hot']\n",
    "\n",
    "X_train_encoded = beast_model['columntransformer'].transformers[1][1]['imputer'].fit_transform(X_train[cat_feat]  )\n",
    "X_train_encoded = pd.DataFrame(X_train_encoded.T , cat_feat).T\n",
    "X_train_encoded = ohe .fit_transform(X_train_encoded)\n",
    "\n",
    "feature_name = np.append( num_feat, list(ohe .get_feature_names_out() ))\n",
    "\n",
    "\n",
    "\n",
    "feature_importance = pd.DataFrame( [feature_name,beast_model['xgbregressor'].feature_importances_]).T\n",
    "\n",
    "feature_importance.columns = ['Feature', 'importance']\n",
    "feature_importance =feature_importance.sort_values('importance', ascending = False)\n",
    "\n",
    "px.bar(feature_importance, x= 'Feature', y = 'importance')\n"
   ]
  },
  {
   "cell_type": "markdown",
   "metadata": {},
   "source": [
    "Due to the high numerosity of classes in the categorical variables the plot of the feature importance is not very legible..."
   ]
  },
  {
   "cell_type": "markdown",
   "metadata": {},
   "source": [
    "# Explainer"
   ]
  },
  {
   "cell_type": "code",
   "execution_count": 655,
   "metadata": {},
   "outputs": [
    {
     "name": "stderr",
     "output_type": "stream",
     "text": [
      "ntree_limit is deprecated, use `iteration_range` or model slicing instead.\n"
     ]
    }
   ],
   "source": [
    "explainer = shap.TreeExplainer(beast_model['xgbregressor'])\n",
    "X_test_encoded = beast_model['columntransformer'].transform(X_test)\n",
    "\n",
    "X_test_encoded = pd.DataFrame(beast_model['columntransformer'].transform(X_test).T , feature_name  ).T\n",
    "\n",
    "\n",
    "shap_values = explainer.shap_values(X_test_encoded )"
   ]
  },
  {
   "cell_type": "code",
   "execution_count": 656,
   "metadata": {},
   "outputs": [
    {
     "data": {
      "text/html": [
       "\n",
       "<div id='iAZZZP8J24CPZJZMAUDYZ'>\n",
       "<div style='color: #900; text-align: center;'>\n",
       "  <b>Visualization omitted, Javascript library not loaded!</b><br>\n",
       "  Have you run `initjs()` in this notebook? If this notebook was from another\n",
       "  user you must also trust this notebook (File -> Trust notebook). If you are viewing\n",
       "  this notebook on github the Javascript has been stripped for security. If you are using\n",
       "  JupyterLab this error is because a JupyterLab extension has not yet been written.\n",
       "</div></div>\n",
       " <script>\n",
       "   if (window.SHAP) SHAP.ReactDom.render(\n",
       "    SHAP.React.createElement(SHAP.AdditiveForceVisualizer, {\"outNames\": [\"f(x)\"], \"baseValue\": 19226.408203125, \"outValue\": 13350.5322265625, \"link\": \"identity\", \"featureNames\": [\"year\", \"mileage\", \"condition hours\", \"brand_acura\", \"brand_audi\", \"brand_bmw\", \"brand_buick\", \"brand_cadillac\", \"brand_chevrolet\", \"brand_chrysler\", \"brand_dodge\", \"brand_ford\", \"brand_gmc\", \"brand_harley-davidson\", \"brand_heartland\", \"brand_honda\", \"brand_hyundai\", \"brand_infiniti\", \"brand_jaguar\", \"brand_jeep\", \"brand_kia\", \"brand_land\", \"brand_lexus\", \"brand_maserati\", \"brand_mercedes-benz\", \"brand_nissan\", \"brand_peterbilt\", \"brand_ram\", \"brand_toyota\", \"model_1500\", \"model_2500\", \"model_2500hd\", \"model_300\", \"model_3500\", \"model_5\", \"model_acadia\", \"model_altima\", \"model_armada\", \"model_bus\", \"model_cab\", \"model_camaro\", \"model_caravan\", \"model_cargo\", \"model_challenger\", \"model_charger\", \"model_chassis\", \"model_cherokee\", \"model_colorado\", \"model_compass\", \"model_connect\", \"model_convertible\", \"model_corvette\", \"model_country\", \"model_coupe\", \"model_cruiser\", \"model_cruze\", \"model_cutaway\", \"model_d\", \"model_dart\", \"model_discovery\", \"model_door\", \"model_doors\", \"model_dr\", \"model_drw\", \"model_durango\", \"model_e-class\", \"model_ecosport\", \"model_edge\", \"model_el\", \"model_enclave\", \"model_encore\", \"model_energi\", \"model_equinox\", \"model_escape\", \"model_expedition\", \"model_explorer\", \"model_f-150\", \"model_f-650\", \"model_f-750\", \"model_fiesta\", \"model_flex\", \"model_focus\", \"model_forte\", \"model_frontier\", \"model_fusion\", \"model_ghibli\", \"model_glc\", \"model_gle\", \"model_gx\", \"model_hybrid\", \"model_impala\", \"model_journey\", \"model_juke\", \"model_ld\", \"model_limited\", \"model_m\", \"model_malibu\", \"model_max\", \"model_maxima\", \"model_mdx\", \"model_mpv\", \"model_murano\", \"model_mustang\", \"model_nvp\", \"model_pacifica\", \"model_passenger\", \"model_pathfinder\", \"model_pickup\", \"model_pioneer\", \"model_pk\", \"model_q5\", \"model_q70\", \"model_ranger\", \"model_road/street\", \"model_rogue\", \"model_se\", \"model_sedan\", \"model_sentra\", \"model_series\", \"model_sl-class\", \"model_sorento\", \"model_soul\", \"model_sport\", \"model_sportage\", \"model_srw\", \"model_suburban\", \"model_suv\", \"model_tahoe\", \"model_taurus\", \"model_titan\", \"model_trail\", \"model_transit\", \"model_traverse\", \"model_trax\", \"model_truck\", \"model_utility\", \"model_van\", \"model_vans\", \"model_versa\", \"model_volt\", \"model_wagon\", \"model_x3\", \"model_xd\", \"model_xt5\", \"title_status_clean vehicle\", \"title_status_salvage insurance\", \"color_beige\", \"color_billet silver metallic clearcoat\", \"color_black\", \"color_black clearcoat\", \"color_blue\", \"color_bright white clearcoat\", \"color_brown\", \"color_cayenne red\", \"color_charcoal\", \"color_color:\", \"color_competition orange\", \"color_glacier white\", \"color_gold\", \"color_gray\", \"color_green\", \"color_guard\", \"color_ingot silver\", \"color_ingot silver metallic\", \"color_jazz blue pearlcoat\", \"color_magnetic metallic\", \"color_morningsky blue\", \"color_no_color\", \"color_off-white\", \"color_orange\", \"color_oxford white\", \"color_pearl white\", \"color_phantom black\", \"color_purple\", \"color_red\", \"color_royal crimson metallic tinted clearcoat\", \"color_ruby red metallic tinted clearcoat\", \"color_shadow black\", \"color_silver\", \"color_super black\", \"color_tan\", \"color_toreador red\", \"color_triple yellow tri-coat\", \"color_turquoise\", \"color_tuxedo black metallic\", \"color_white\", \"color_white platinum tri-coat metallic\", \"color_yellow\", \"state_alabama\", \"state_arizona\", \"state_arkansas\", \"state_california\", \"state_colorado\", \"state_connecticut\", \"state_florida\", \"state_georgia\", \"state_idaho\", \"state_illinois\", \"state_indiana\", \"state_kansas\", \"state_kentucky\", \"state_louisiana\", \"state_maryland\", \"state_massachusetts\", \"state_michigan\", \"state_minnesota\", \"state_mississippi\", \"state_missouri\", \"state_montana\", \"state_nebraska\", \"state_nevada\", \"state_new hampshire\", \"state_new jersey\", \"state_new mexico\", \"state_new york\", \"state_north carolina\", \"state_ohio\", \"state_oklahoma\", \"state_ontario\", \"state_oregon\", \"state_pennsylvania\", \"state_rhode island\", \"state_south carolina\", \"state_tennessee\", \"state_texas\", \"state_utah\", \"state_vermont\", \"state_virginia\", \"state_washington\", \"state_west virginia\", \"state_wisconsin\"], \"features\": {\"0\": {\"effect\": -400.91455078125, \"value\": -0.37251895442592303}, \"1\": {\"effect\": -3077.790283203125, \"value\": 0.6106942818075564}, \"2\": {\"effect\": -355.67095947265625, \"value\": -0.12212600884326473}, \"3\": {\"effect\": -0.24259799718856812, \"value\": 0.0}, \"4\": {\"effect\": -4.415558338165283, \"value\": 0.0}, \"5\": {\"effect\": -31.185747146606445, \"value\": 0.0}, \"6\": {\"effect\": 1.0639498233795166, \"value\": 0.0}, \"7\": {\"effect\": -1.797745943069458, \"value\": 0.0}, \"8\": {\"effect\": -16.333147048950195, \"value\": 0.0}, \"9\": {\"effect\": -1.5942751169204712, \"value\": 0.0}, \"10\": {\"effect\": 271.7117614746094, \"value\": 0.0}, \"11\": {\"effect\": 942.1853637695312, \"value\": 1.0}, \"12\": {\"effect\": -3.443603992462158, \"value\": 0.0}, \"13\": {\"effect\": -5.548192024230957, \"value\": 0.0}, \"15\": {\"effect\": 9.501315116882324, \"value\": 0.0}, \"16\": {\"effect\": 31.839771270751953, \"value\": 0.0}, \"17\": {\"effect\": -3.8720521926879883, \"value\": 0.0}, \"18\": {\"effect\": 2.551596164703369, \"value\": 0.0}, \"19\": {\"effect\": 1.414833903312683, \"value\": 0.0}, \"20\": {\"effect\": 26.991605758666992, \"value\": 0.0}, \"21\": {\"effect\": -2.973477602005005, \"value\": 0.0}, \"22\": {\"effect\": -8.679548263549805, \"value\": 0.0}, \"23\": {\"effect\": -6.174540996551514, \"value\": 0.0}, \"24\": {\"effect\": -17.555801391601562, \"value\": 0.0}, \"25\": {\"effect\": 440.2137451171875, \"value\": 0.0}, \"29\": {\"effect\": -93.8438491821289, \"value\": 0.0}, \"30\": {\"effect\": -47.26945877075195, \"value\": 0.0}, \"31\": {\"effect\": -2.276974678039551, \"value\": 0.0}, \"33\": {\"effect\": -52.39931869506836, \"value\": 0.0}, \"34\": {\"effect\": -1.3702893257141113, \"value\": 0.0}, \"36\": {\"effect\": 4.407021999359131, \"value\": 0.0}, \"37\": {\"effect\": -11.740363121032715, \"value\": 0.0}, \"39\": {\"effect\": -0.0823860839009285, \"value\": 0.0}, \"40\": {\"effect\": -12.411311149597168, \"value\": 0.0}, \"41\": {\"effect\": 86.14058685302734, \"value\": 0.0}, \"42\": {\"effect\": 0.20128682255744934, \"value\": 0.0}, \"43\": {\"effect\": -77.52565002441406, \"value\": 0.0}, \"44\": {\"effect\": -45.39051818847656, \"value\": 0.0}, \"45\": {\"effect\": -0.2695203125476837, \"value\": 0.0}, \"46\": {\"effect\": -2.7692980766296387, \"value\": 0.0}, \"47\": {\"effect\": 4.806133270263672, \"value\": 0.0}, \"51\": {\"effect\": -30.255327224731445, \"value\": 0.0}, \"55\": {\"effect\": 3.1908113956451416, \"value\": 0.0}, \"56\": {\"effect\": 1.367195725440979, \"value\": 0.0}, \"57\": {\"effect\": 0.19820469617843628, \"value\": 0.0}, \"58\": {\"effect\": 2.942106246948242, \"value\": 0.0}, \"59\": {\"effect\": -12.214864730834961, \"value\": 0.0}, \"60\": {\"effect\": -489.73541259765625, \"value\": 1.0}, \"61\": {\"effect\": 56.02886199951172, \"value\": 0.0}, \"62\": {\"effect\": -0.9871966242790222, \"value\": 0.0}, \"63\": {\"effect\": -60.30045700073242, \"value\": 0.0}, \"64\": {\"effect\": -160.14141845703125, \"value\": 0.0}, \"66\": {\"effect\": 18.224111557006836, \"value\": 0.0}, \"67\": {\"effect\": -8.21805191040039, \"value\": 0.0}, \"68\": {\"effect\": -15.087747573852539, \"value\": 0.0}, \"69\": {\"effect\": -5.434664249420166, \"value\": 0.0}, \"70\": {\"effect\": 6.2834696769714355, \"value\": 0.0}, \"71\": {\"effect\": 0.4587818384170532, \"value\": 0.0}, \"72\": {\"effect\": 14.584954261779785, \"value\": 0.0}, \"73\": {\"effect\": 92.08952331542969, \"value\": 0.0}, \"74\": {\"effect\": -142.23106384277344, \"value\": 0.0}, \"75\": {\"effect\": -77.49784851074219, \"value\": 0.0}, \"76\": {\"effect\": -471.48443603515625, \"value\": 0.0}, \"77\": {\"effect\": -18.933496475219727, \"value\": 0.0}, \"78\": {\"effect\": -1.7972134351730347, \"value\": 0.0}, \"79\": {\"effect\": 61.53276824951172, \"value\": 0.0}, \"80\": {\"effect\": -1.346110463142395, \"value\": 0.0}, \"81\": {\"effect\": 50.02433395385742, \"value\": 0.0}, \"82\": {\"effect\": 1.8255486488342285, \"value\": 0.0}, \"83\": {\"effect\": -3.8573224544525146, \"value\": 0.0}, \"84\": {\"effect\": 156.4009246826172, \"value\": 0.0}, \"88\": {\"effect\": -5.827517986297607, \"value\": 0.0}, \"89\": {\"effect\": 9.454365730285645, \"value\": 0.0}, \"90\": {\"effect\": 9.96096134185791, \"value\": 0.0}, \"91\": {\"effect\": 37.61119079589844, \"value\": 0.0}, \"95\": {\"effect\": -0.6937284469604492, \"value\": 0.0}, \"96\": {\"effect\": 24.945940017700195, \"value\": 0.0}, \"97\": {\"effect\": -355.3183898925781, \"value\": 0.0}, \"98\": {\"effect\": -6.124855995178223, \"value\": 0.0}, \"100\": {\"effect\": 303.4886779785156, \"value\": 0.0}, \"101\": {\"effect\": -6.176654815673828, \"value\": 0.0}, \"102\": {\"effect\": -9.248358726501465, \"value\": 0.0}, \"104\": {\"effect\": -0.4901084005832672, \"value\": 0.0}, \"106\": {\"effect\": -19.55990219116211, \"value\": 0.0}, \"107\": {\"effect\": -8.261553764343262, \"value\": 0.0}, \"112\": {\"effect\": -4.114424228668213, \"value\": 0.0}, \"114\": {\"effect\": 0.4998567998409271, \"value\": 0.0}, \"116\": {\"effect\": 0.3858036994934082, \"value\": 0.0}, \"117\": {\"effect\": 45.870521545410156, \"value\": 0.0}, \"119\": {\"effect\": -23.597084045410156, \"value\": 0.0}, \"120\": {\"effect\": -4.632274150848389, \"value\": 0.0}, \"122\": {\"effect\": 0.04124576598405838, \"value\": 0.0}, \"124\": {\"effect\": -198.77415466308594, \"value\": 0.0}, \"125\": {\"effect\": -59.559513092041016, \"value\": 0.0}, \"127\": {\"effect\": -44.63262939453125, \"value\": 0.0}, \"128\": {\"effect\": 19.352632522583008, \"value\": 0.0}, \"129\": {\"effect\": -16.131731033325195, \"value\": 0.0}, \"131\": {\"effect\": -9.460153579711914, \"value\": 0.0}, \"132\": {\"effect\": -8.79576301574707, \"value\": 0.0}, \"133\": {\"effect\": 20.067432403564453, \"value\": 0.0}, \"135\": {\"effect\": -0.0783333107829094, \"value\": 0.0}, \"136\": {\"effect\": 28.559362411499023, \"value\": 0.0}, \"138\": {\"effect\": 29.84685516357422, \"value\": 0.0}, \"139\": {\"effect\": 0.2191200852394104, \"value\": 0.0}, \"140\": {\"effect\": 7.608231544494629, \"value\": 0.0}, \"141\": {\"effect\": 1.8959968090057373, \"value\": 0.0}, \"142\": {\"effect\": -3.190573215484619, \"value\": 0.0}, \"144\": {\"effect\": 409.4073791503906, \"value\": 1.0}, \"146\": {\"effect\": 0.31403064727783203, \"value\": 0.0}, \"148\": {\"effect\": -284.902587890625, \"value\": 0.0}, \"149\": {\"effect\": 0.06878559291362762, \"value\": 0.0}, \"150\": {\"effect\": 92.3486099243164, \"value\": 0.0}, \"151\": {\"effect\": -0.19627007842063904, \"value\": 0.0}, \"152\": {\"effect\": 1.0900468826293945, \"value\": 0.0}, \"153\": {\"effect\": -0.1894395351409912, \"value\": 0.0}, \"154\": {\"effect\": -0.3617174029350281, \"value\": 0.0}, \"155\": {\"effect\": -0.4998074471950531, \"value\": 0.0}, \"158\": {\"effect\": -62.981056213378906, \"value\": 0.0}, \"159\": {\"effect\": 268.36444091796875, \"value\": 0.0}, \"160\": {\"effect\": -16.42829704284668, \"value\": 0.0}, \"163\": {\"effect\": -0.27511459589004517, \"value\": 0.0}, \"164\": {\"effect\": -0.15899896621704102, \"value\": 0.0}, \"165\": {\"effect\": -4.944169044494629, \"value\": 0.0}, \"167\": {\"effect\": 15.345172882080078, \"value\": 0.0}, \"168\": {\"effect\": -5.902766704559326, \"value\": 0.0}, \"169\": {\"effect\": -0.7193530201911926, \"value\": 0.0}, \"170\": {\"effect\": -1.6855114698410034, \"value\": 0.0}, \"173\": {\"effect\": 0.027993742376565933, \"value\": 0.0}, \"174\": {\"effect\": 11.066282272338867, \"value\": 0.0}, \"176\": {\"effect\": -1.3748292922973633, \"value\": 0.0}, \"177\": {\"effect\": -0.6295408606529236, \"value\": 0.0}, \"178\": {\"effect\": 187.06796264648438, \"value\": 0.0}, \"182\": {\"effect\": -0.27924206852912903, \"value\": 0.0}, \"185\": {\"effect\": 489.89862060546875, \"value\": 1.0}, \"186\": {\"effect\": -0.2192724049091339, \"value\": 0.0}, \"187\": {\"effect\": -3.9623615741729736, \"value\": 0.0}, \"188\": {\"effect\": -111.8561019897461, \"value\": 0.0}, \"189\": {\"effect\": 9.92552661895752, \"value\": 0.0}, \"190\": {\"effect\": 7.012511730194092, \"value\": 0.0}, \"191\": {\"effect\": 26.281696319580078, \"value\": 0.0}, \"192\": {\"effect\": 44.62471008300781, \"value\": 0.0}, \"193\": {\"effect\": 0.8053538203239441, \"value\": 0.0}, \"194\": {\"effect\": 130.37677001953125, \"value\": 0.0}, \"195\": {\"effect\": 39.76628875732422, \"value\": 0.0}, \"197\": {\"effect\": -154.10328674316406, \"value\": 0.0}, \"198\": {\"effect\": -4.528181076049805, \"value\": 0.0}, \"199\": {\"effect\": -0.8663436770439148, \"value\": 0.0}, \"200\": {\"effect\": -58.43208312988281, \"value\": 0.0}, \"201\": {\"effect\": -9.718902587890625, \"value\": 0.0}, \"203\": {\"effect\": -36.75941467285156, \"value\": 0.0}, \"204\": {\"effect\": -385.7409973144531, \"value\": 0.0}, \"205\": {\"effect\": -33.655418395996094, \"value\": 0.0}, \"206\": {\"effect\": -82.9755859375, \"value\": 0.0}, \"207\": {\"effect\": -8.179716110229492, \"value\": 0.0}, \"209\": {\"effect\": -0.44383955001831055, \"value\": 0.0}, \"210\": {\"effect\": 5.1164045333862305, \"value\": 0.0}, \"211\": {\"effect\": -0.10805483162403107, \"value\": 0.0}, \"212\": {\"effect\": -15.93642807006836, \"value\": 0.0}, \"213\": {\"effect\": 0.20427848398685455, \"value\": 0.0}, \"214\": {\"effect\": 3.2172956466674805, \"value\": 0.0}, \"215\": {\"effect\": 112.20915222167969, \"value\": 0.0}, \"216\": {\"effect\": -11.357056617736816, \"value\": 0.0}, \"217\": {\"effect\": 24.892467498779297, \"value\": 0.0}, \"218\": {\"effect\": -24.235580444335938, \"value\": 0.0}, \"219\": {\"effect\": 21.2729549407959, \"value\": 0.0}, \"220\": {\"effect\": 169.3580322265625, \"value\": 0.0}, \"222\": {\"effect\": 3.8119051456451416, \"value\": 0.0}, \"223\": {\"effect\": -3.7683098316192627, \"value\": 0.0}, \"224\": {\"effect\": -2538.62158203125, \"value\": 1.0}, \"226\": {\"effect\": 0.05177599564194679, \"value\": 0.0}, \"227\": {\"effect\": -60.148616790771484, \"value\": 0.0}, \"228\": {\"effect\": -14.331328392028809, \"value\": 0.0}, \"229\": {\"effect\": 3.088566780090332, \"value\": 0.0}, \"230\": {\"effect\": -269.67144775390625, \"value\": 0.0}}, \"plot_cmap\": \"RdBu\", \"labelMargin\": 20}),\n",
       "    document.getElementById('iAZZZP8J24CPZJZMAUDYZ')\n",
       "  );\n",
       "</script>"
      ],
      "text/plain": [
       "<shap.plots._force.AdditiveForceVisualizer at 0x7f4b6ca64fa0>"
      ]
     },
     "execution_count": 656,
     "metadata": {},
     "output_type": "execute_result"
    }
   ],
   "source": [
    "index = 4\n",
    "shap.force_plot(explainer.expected_value, shap_values[index,:], X_test_encoded.iloc[index])"
   ]
  },
  {
   "cell_type": "code",
   "execution_count": 657,
   "metadata": {},
   "outputs": [
    {
     "name": "stdout",
     "output_type": "stream",
     "text": [
      "brand                       ford\n",
      "model                       door\n",
      "year                        2016\n",
      "title_status       clean vehicle\n",
      "mileage                  84035.0\n",
      "color                      white\n",
      "state                      texas\n",
      "condition hours             48.0\n",
      "Name: 259, dtype: object\n",
      "Actual price = 13270\n",
      "Predicted price = 13350.548828125\n"
     ]
    }
   ],
   "source": [
    "print(X_test.iloc[index] )\n",
    "print( f'Actual price = {y_test.iloc[index]}')\n",
    "print( f'Predicted price = {y_pred[index]}')"
   ]
  },
  {
   "cell_type": "code",
   "execution_count": null,
   "metadata": {},
   "outputs": [],
   "source": []
  }
 ],
 "metadata": {
  "kernelspec": {
   "display_name": "Python 3",
   "language": "python",
   "name": "python3"
  },
  "language_info": {
   "codemirror_mode": {
    "name": "ipython",
    "version": 3
   },
   "file_extension": ".py",
   "mimetype": "text/x-python",
   "name": "python",
   "nbconvert_exporter": "python",
   "pygments_lexer": "ipython3",
   "version": "3.8.10"
  }
 },
 "nbformat": 4,
 "nbformat_minor": 4
}
